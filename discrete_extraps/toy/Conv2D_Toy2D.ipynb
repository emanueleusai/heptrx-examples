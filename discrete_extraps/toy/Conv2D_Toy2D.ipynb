{
 "cells": [
  {
   "cell_type": "markdown",
   "metadata": {
    "deletable": true,
    "editable": true
   },
   "source": [
    "## Convolutional networks for track finding on 1D detector planes\n",
    "\n",
    "In this notebook we demonstrate the use of CNNs for hit classification of a single seeded-track, as was done in the LSTM examples."
   ]
  },
  {
   "cell_type": "code",
   "execution_count": null,
   "metadata": {
    "collapsed": false,
    "deletable": true,
    "editable": true
   },
   "outputs": [],
   "source": [
    "# System imports\n",
    "from __future__ import print_function\n",
    "\n",
    "# External imports\n",
    "import numpy as np\n",
    "from keras import models\n",
    "from keras import layers\n",
    "\n",
    "# Local imports\n",
    "from data import (generate_straight_track, generate_straight_tracks,\n",
    "                  generate_uniform_noise, generate_track_bkg)\n",
    "from drawing import draw_2d_event, draw_2d_input_and_pred, draw_train_history\n",
    "from metrics import calc_hit_accuracy\n",
    "\n",
    "from matplotlib import pyplot as plt\n",
    "%matplotlib notebook"
   ]
  },
  {
   "cell_type": "markdown",
   "metadata": {
    "deletable": true,
    "editable": true
   },
   "source": [
    "## Utilities"
   ]
  },
  {
   "cell_type": "code",
   "execution_count": null,
   "metadata": {
    "collapsed": true,
    "deletable": true,
    "editable": true
   },
   "outputs": [],
   "source": [
    "def draw_2d_filters(filters, figsize=(9,3), ncols=4):\n",
    "    plt.figure(figsize=figsize)\n",
    "    nrows = filters.shape[0] / ncols\n",
    "    for i in range(nrows):\n",
    "        for j in range(ncols):\n",
    "            fidx = i * ncols + j\n",
    "            plt.subplot(nrows, ncols, fidx + 1)\n",
    "            plt.imshow(filters[fidx].T, interpolation='none', cmap='coolwarm')\n",
    "            plt.axis('off')"
   ]
  },
  {
   "cell_type": "markdown",
   "metadata": {
    "deletable": true,
    "editable": true
   },
   "source": [
    "## Data generation"
   ]
  },
  {
   "cell_type": "code",
   "execution_count": null,
   "metadata": {
    "collapsed": true,
    "deletable": true,
    "editable": true
   },
   "outputs": [],
   "source": [
    "# Config parameters\n",
    "det_width = 48\n",
    "det_depth = 48\n",
    "det_shape = (det_depth, det_width)\n",
    "seed_size = 5"
   ]
  },
  {
   "cell_type": "code",
   "execution_count": null,
   "metadata": {
    "collapsed": true,
    "deletable": true,
    "editable": true
   },
   "outputs": [],
   "source": [
    "def batch_generator(num_events, det_shape, num_bkg_tracks, noise_prob,\n",
    "                    seed_size, binary=True):\n",
    "    while True:\n",
    "        # Generate signal tracks in the masked region\n",
    "        sig_tracks = generate_straight_tracks(num_events, det_shape)\n",
    "        # Generate track background\n",
    "        bkg_tracks = generate_track_bkg(num_events, det_shape,\n",
    "                                        tracks_per_event=num_bkg_tracks,\n",
    "                                        skip_layers=seed_size)\n",
    "        # Generate noise background\n",
    "        noise = generate_uniform_noise(num_events, det_shape,\n",
    "                                       prob=noise_prob)\n",
    "        # Combine into full events\n",
    "        events = sig_tracks + bkg_tracks + noise\n",
    "        if binary:\n",
    "            events[events > 1] = 1\n",
    "\n",
    "        # Mask the data\n",
    "        yield events, sig_tracks"
   ]
  },
  {
   "cell_type": "markdown",
   "metadata": {
    "deletable": true,
    "editable": true
   },
   "source": [
    "## Model definitions"
   ]
  },
  {
   "cell_type": "code",
   "execution_count": null,
   "metadata": {
    "collapsed": true,
    "deletable": true,
    "editable": true
   },
   "outputs": [],
   "source": [
    "def build_conv_model(shape, num_layers=10, num_filters=8):\n",
    "    \"\"\"Build the simple convolutional model\"\"\"\n",
    "    inputs = layers.Input(shape=shape)\n",
    "    # Need a 'channel' dimension for 2D convolution, though we have only 1 channel\n",
    "    hidden = layers.Reshape(shape+(1,))(inputs)\n",
    "    # Convolutional layers\n",
    "    for _ in range(num_layers):\n",
    "        hidden = layers.Conv2D(num_filters, 3, 3, border_mode='same', activation='relu')(hidden)\n",
    "    conv_args = dict(border_mode='same', activation='relu')\n",
    "    # Final convolution without activation\n",
    "    hidden = layers.Conv2D(1, 3, 3, border_mode='same')(hidden)\n",
    "    # Reshape to drop the channel dimension\n",
    "    hidden = layers.Reshape((shape[0], shape[1]))(hidden)\n",
    "    # Final softmax activation\n",
    "    outputs = layers.TimeDistributed(layers.Activation('softmax'))(hidden)\n",
    "    # Compile the model\n",
    "    model = models.Model(input=inputs, output=outputs)\n",
    "    model.compile(loss='categorical_crossentropy', optimizer='Nadam', metrics=['accuracy'])\n",
    "    return model\n",
    "\n",
    "def build_convae_model(shape):\n",
    "    inputs = layers.Input(shape=shape)\n",
    "    # Need a 'channel' dimension for 3D convolution, though we have only 1 channel\n",
    "    hidden = layers.Reshape((1,)+shape)(inputs)\n",
    "    # Convolutions and down-sampling\n",
    "    conv_args = dict(border_mode='same', activation='relu')\n",
    "    hidden = layers.Conv2D(8, 3, 3, **conv_args)(hidden)\n",
    "    hidden = layers.MaxPooling2D((2, 2), border_mode='same')(hidden)\n",
    "    hidden = layers.Conv2D(16, 3, 3, **conv_args)(hidden)\n",
    "    hidden = layers.MaxPooling2D((2, 2), border_mode='same')(hidden)\n",
    "    hidden = layers.Conv2D(32, 3, 3, **conv_args)(hidden)\n",
    "    hidden = layers.MaxPooling2D((2, 2), border_mode='same')(hidden)\n",
    "    hidden = layers.Conv2D(64, 3, 3, **conv_args)(hidden)\n",
    "    hidden = layers.MaxPooling2D((2, 2), border_mode='same')(hidden)\n",
    "    # Convolutions and up-sampling\n",
    "    hidden = layers.Conv2D(64, 3, 3, **conv_args)(hidden)\n",
    "    hidden = layers.UpSampling2D((2, 2))(hidden)\n",
    "    hidden = layers.Conv2D(32, 3, 3, **conv_args)(hidden)\n",
    "    hidden = layers.UpSampling2D((2, 2))(hidden)\n",
    "    hidden = layers.Conv2D(16, 3, 3, **conv_args)(hidden)\n",
    "    hidden = layers.UpSampling2D((2, 2))(hidden)\n",
    "    hidden = layers.Conv2D(8, 3, 3, **conv_args)(hidden)\n",
    "    hidden = layers.UpSampling2D((2, 2))(hidden)\n",
    "    # Final convolution without activation\n",
    "    hidden = layers.Conv2D(1, 3, 3, border_mode='same')(hidden)\n",
    "    # Reshape to drop the channel dimension\n",
    "    hidden = layers.Reshape((shape[0], shape[1]))(hidden)\n",
    "    # Final softmax activation\n",
    "    outputs = layers.TimeDistributed(layers.Activation('softmax'))(hidden)\n",
    "    # Compile the model\n",
    "    model = models.Model(input=inputs, output=outputs)\n",
    "    model.compile(loss='categorical_crossentropy', optimizer='Nadam', metrics=['accuracy'])\n",
    "    return model"
   ]
  },
  {
   "cell_type": "markdown",
   "metadata": {
    "deletable": true,
    "editable": true
   },
   "source": [
    "## Simple CNN on multi-track events"
   ]
  },
  {
   "cell_type": "code",
   "execution_count": null,
   "metadata": {
    "collapsed": true,
    "deletable": true,
    "editable": true
   },
   "outputs": [],
   "source": [
    "# Data config\n",
    "num_bkg_tracks = 5\n",
    "noise_prob = 0\n",
    "\n",
    "# Model config\n",
    "num_conv_layers = 10\n",
    "\n",
    "# Training config\n",
    "batch_size = 128\n",
    "num_epoch = 10\n",
    "epoch_size = 102400"
   ]
  },
  {
   "cell_type": "code",
   "execution_count": null,
   "metadata": {
    "collapsed": false,
    "deletable": true,
    "editable": true
   },
   "outputs": [],
   "source": [
    "# Prepare the batch generator\n",
    "batcher1 = batch_generator(batch_size, det_shape,\n",
    "                           num_bkg_tracks=num_bkg_tracks,\n",
    "                           noise_prob=noise_prob, seed_size=seed_size)\n",
    "\n",
    "# Prepare the model\n",
    "model1 = build_conv_model(det_shape, num_layers=num_conv_layers)\n",
    "model1.summary()\n",
    "\n",
    "# Train the model\n",
    "history1 = model1.fit_generator(batcher1, samples_per_epoch=epoch_size,\n",
    "                                nb_epoch=num_epoch)"
   ]
  },
  {
   "cell_type": "code",
   "execution_count": null,
   "metadata": {
    "collapsed": false,
    "deletable": true,
    "editable": true
   },
   "outputs": [],
   "source": [
    "draw_train_history(history1, draw_val=False);"
   ]
  },
  {
   "cell_type": "code",
   "execution_count": null,
   "metadata": {
    "collapsed": false,
    "deletable": true,
    "editable": true
   },
   "outputs": [],
   "source": [
    "# Generate a test set\n",
    "num_test = 10240\n",
    "test1_input, test1_target = batch_generator(\n",
    "    num_test, det_shape, num_bkg_tracks=num_bkg_tracks,\n",
    "    noise_prob=noise_prob, seed_size=seed_size).next()\n",
    "\n",
    "# Get test set predictions\n",
    "test1_pred = model1.predict(test1_input)\n",
    "test1_loss, test1_acc = model1.evaluate(test1_input, test1_target)"
   ]
  },
  {
   "cell_type": "code",
   "execution_count": null,
   "metadata": {
    "collapsed": false,
    "deletable": true,
    "editable": true
   },
   "outputs": [],
   "source": [
    "# Hit prediction accuracy\n",
    "pixel_accuracy = calc_hit_accuracy(test1_pred, test1_target,\n",
    "                                   num_seed_layers=seed_size)\n",
    "# Hit classification accuracy\n",
    "test1_scores = test1_pred * test1_input\n",
    "hit_accuracy = calc_hit_accuracy(test1_scores, test1_target)\n",
    "\n",
    "# Print a test set summary\n",
    "print('Test set loss', test1_loss)\n",
    "print('Accuracy of predicted pixel:', pixel_accuracy)\n",
    "print('Accuracy of classified hit: ', hit_accuracy)"
   ]
  },
  {
   "cell_type": "code",
   "execution_count": null,
   "metadata": {
    "collapsed": false,
    "deletable": true,
    "editable": true
   },
   "outputs": [],
   "source": [
    "# Visualize some predictions\n",
    "for i in [0, 1, 2]:\n",
    "    draw_2d_input_and_pred(test1_input[i], test1_pred[i], cmap='gray_r');\n",
    "\n",
    "# Visualize cnn filters\n",
    "draw_2d_filters(np.squeeze(model1.get_weights()[0]))"
   ]
  },
  {
   "cell_type": "code",
   "execution_count": null,
   "metadata": {
    "collapsed": false,
    "deletable": true,
    "editable": true
   },
   "outputs": [],
   "source": [
    "# Prepare a deeper model\n",
    "num_conv_layers = 20\n",
    "model2 = build_conv_model(det_shape, num_layers=num_conv_layers)\n",
    "model2.summary()\n",
    "\n",
    "# Train the model\n",
    "history2 = model2.fit_generator(batcher1, samples_per_epoch=epoch_size,\n",
    "                                nb_epoch=num_epoch)"
   ]
  },
  {
   "cell_type": "code",
   "execution_count": null,
   "metadata": {
    "collapsed": false,
    "deletable": true,
    "editable": true
   },
   "outputs": [],
   "source": [
    "# Get test set predictions\n",
    "test2_input, test2_target = test1_input, test1_target\n",
    "test2_pred = model2.predict(test2_input)\n",
    "test2_loss, test2_acc = model2.evaluate(test2_input, test2_target)"
   ]
  },
  {
   "cell_type": "code",
   "execution_count": null,
   "metadata": {
    "collapsed": false,
    "deletable": true,
    "editable": true
   },
   "outputs": [],
   "source": [
    "# Visualize some predictions\n",
    "for i in [0, 1, 2]:\n",
    "    draw_2d_input_and_pred(test2_input[i], test2_pred[i], cmap='gray_r');\n",
    "\n",
    "# Visualize cnn filters\n",
    "draw_2d_filters(np.squeeze(model2.get_weights()[0]))"
   ]
  },
  {
   "cell_type": "markdown",
   "metadata": {
    "deletable": true,
    "editable": true
   },
   "source": [
    "## Train a convolutional autoencoder"
   ]
  },
  {
   "cell_type": "code",
   "execution_count": null,
   "metadata": {
    "collapsed": false,
    "deletable": true,
    "editable": true
   },
   "outputs": [],
   "source": [
    "# Training config\n",
    "num_epoch = 50\n",
    "\n",
    "# Prepare the model\n",
    "model3 = build_convae_model(det_shape)\n",
    "model3.summary()\n",
    "\n",
    "# Train the model\n",
    "history3 = model3.fit_generator(batcher1, samples_per_epoch=epoch_size,\n",
    "                                nb_epoch=num_epoch)"
   ]
  },
  {
   "cell_type": "code",
   "execution_count": null,
   "metadata": {
    "collapsed": false,
    "deletable": true,
    "editable": true
   },
   "outputs": [],
   "source": [
    "draw_train_history(history3, draw_val=False);"
   ]
  },
  {
   "cell_type": "code",
   "execution_count": null,
   "metadata": {
    "collapsed": false,
    "deletable": true,
    "editable": true
   },
   "outputs": [],
   "source": [
    "# Get test set predictions\n",
    "test3_input, test3_target = test1_input, test1_target\n",
    "test3_pred = model3.predict(test3_input)\n",
    "test3_loss, test3_acc = model3.evaluate(test3_input, test3_target)"
   ]
  },
  {
   "cell_type": "code",
   "execution_count": null,
   "metadata": {
    "collapsed": false,
    "deletable": true,
    "editable": true
   },
   "outputs": [],
   "source": [
    "# Hit prediction accuracy\n",
    "pixel_accuracy = calc_hit_accuracy(test3_pred, test3_target,\n",
    "                                   num_seed_layers=seed_size)\n",
    "# Hit classification accuracy\n",
    "test3_scores = test3_pred * test3_input\n",
    "hit_accuracy = calc_hit_accuracy(test3_scores, test3_target)\n",
    "\n",
    "# Print a test set summary\n",
    "print('Test set loss', test3_loss)\n",
    "print('Accuracy of predicted pixel:', pixel_accuracy)\n",
    "print('Accuracy of classified hit: ', hit_accuracy)"
   ]
  },
  {
   "cell_type": "code",
   "execution_count": null,
   "metadata": {
    "collapsed": false,
    "deletable": true,
    "editable": true
   },
   "outputs": [],
   "source": [
    "# Visualize some predictions\n",
    "for i in [3, 4, 5]:\n",
    "    draw_2d_input_and_pred(test3_input[i], test3_pred[i], cmap='gray_r');\n",
    "\n",
    "# Visualize cnn filters\n",
    "draw_2d_filters(np.squeeze(model3.get_weights()[0]))"
   ]
  }
 ],
 "metadata": {
  "kernelspec": {
   "display_name": "Python 2",
   "language": "python",
   "name": "python2"
  },
  "language_info": {
   "codemirror_mode": {
    "name": "ipython",
    "version": 2
   },
   "file_extension": ".py",
   "mimetype": "text/x-python",
   "name": "python",
   "nbconvert_exporter": "python",
   "pygments_lexer": "ipython2",
   "version": "2.7.13"
  }
 },
 "nbformat": 4,
 "nbformat_minor": 1
}
