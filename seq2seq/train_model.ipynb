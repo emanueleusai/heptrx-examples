{
 "cells": [
  {
   "cell_type": "code",
   "execution_count": 1,
   "metadata": {
    "collapsed": false
   },
   "outputs": [
    {
     "name": "stdout",
     "output_type": "stream",
     "text": [
      "\n"
     ]
    },
    {
     "name": "stderr",
     "output_type": "stream",
     "text": [
      "Using TensorFlow backend.\n"
     ]
    }
   ],
   "source": [
    "from ModelAndData import ModelDealer"
   ]
  },
  {
   "cell_type": "code",
   "execution_count": 2,
   "metadata": {
    "collapsed": false
   },
   "outputs": [
    {
     "name": "stdout",
     "output_type": "stream",
     "text": [
      "Ready for model all_4L_20H_5C_DC500\n"
     ]
    }
   ],
   "source": [
    "M = ModelDealer( downcast = 500, base = 'dataset_mu10_')"
   ]
  },
  {
   "cell_type": "code",
   "execution_count": 3,
   "metadata": {
    "collapsed": false,
    "scrolled": true
   },
   "outputs": [
    {
     "name": "stdout",
     "output_type": "stream",
     "text": [
      "____________________________________________________________________________________________________\n",
      "Layer (type)                     Output Shape          Param #     Connected to                     \n",
      "====================================================================================================\n",
      "phi_layers (InputLayer)          (None, 4, 20)         0                                            \n",
      "____________________________________________________________________________________________________\n",
      "split_0 (Lambda)                 (None, 20)            0           phi_layers[0][0]                 \n",
      "____________________________________________________________________________________________________\n",
      "split_1 (Lambda)                 (None, 20)            0           phi_layers[0][0]                 \n",
      "____________________________________________________________________________________________________\n",
      "split_2 (Lambda)                 (None, 20)            0           phi_layers[0][0]                 \n",
      "____________________________________________________________________________________________________\n",
      "split_3 (Lambda)                 (None, 20)            0           phi_layers[0][0]                 \n",
      "____________________________________________________________________________________________________\n",
      "sequence_layer_0 (Reshape)       (None, 20, 1)         0           split_0[0][0]                    \n",
      "____________________________________________________________________________________________________\n",
      "sequence_layer_1 (Reshape)       (None, 20, 1)         0           split_1[0][0]                    \n",
      "____________________________________________________________________________________________________\n",
      "sequence_layer_2 (Reshape)       (None, 20, 1)         0           split_2[0][0]                    \n",
      "____________________________________________________________________________________________________\n",
      "sequence_layer_3 (Reshape)       (None, 20, 1)         0           split_3[0][0]                    \n",
      "____________________________________________________________________________________________________\n",
      "masking_layer_0 (Masking)        (None, 20, 1)         0           sequence_layer_0[0][0]           \n",
      "____________________________________________________________________________________________________\n",
      "masking_layer_1 (Masking)        (None, 20, 1)         0           sequence_layer_1[0][0]           \n",
      "____________________________________________________________________________________________________\n",
      "masking_layer_2 (Masking)        (None, 20, 1)         0           sequence_layer_2[0][0]           \n",
      "____________________________________________________________________________________________________\n",
      "masking_layer_3 (Masking)        (None, 20, 1)         0           sequence_layer_3[0][0]           \n",
      "____________________________________________________________________________________________________\n",
      "encoder_lstm_0 (LSTM)            (None, 15)            1020        masking_layer_0[0][0]            \n",
      "____________________________________________________________________________________________________\n",
      "encoder_lstm_1 (LSTM)            (None, 15)            1020        masking_layer_1[0][0]            \n",
      "____________________________________________________________________________________________________\n",
      "encoder_lstm_2 (LSTM)            (None, 15)            1020        masking_layer_2[0][0]            \n",
      "____________________________________________________________________________________________________\n",
      "encoder_lstm_3 (LSTM)            (None, 15)            1020        masking_layer_3[0][0]            \n",
      "____________________________________________________________________________________________________\n",
      "lstm_sequence_0 (Reshape)        (None, 1, 15)         0           encoder_lstm_0[0][0]             \n",
      "____________________________________________________________________________________________________\n",
      "lstm_sequence_1 (Reshape)        (None, 1, 15)         0           encoder_lstm_1[0][0]             \n",
      "____________________________________________________________________________________________________\n",
      "lstm_sequence_2 (Reshape)        (None, 1, 15)         0           encoder_lstm_2[0][0]             \n",
      "____________________________________________________________________________________________________\n",
      "lstm_sequence_3 (Reshape)        (None, 1, 15)         0           encoder_lstm_3[0][0]             \n",
      "____________________________________________________________________________________________________\n",
      "core_merge (Merge)               (None, 4, 15)         0           lstm_sequence_0[0][0]            \n",
      "                                                                   lstm_sequence_1[0][0]            \n",
      "                                                                   lstm_sequence_2[0][0]            \n",
      "                                                                   lstm_sequence_3[0][0]            \n",
      "____________________________________________________________________________________________________\n",
      "flatten_1 (Flatten)              (None, 60)            0           core_merge[0][0]                 \n",
      "____________________________________________________________________________________________________\n",
      "repeatvector_1 (RepeatVector)    (None, 5, 60)         0           flatten_1[0][0]                  \n",
      "____________________________________________________________________________________________________\n",
      "reshape_1 (Reshape)              (None, 20, 15)        0           repeatvector_1[0][0]             \n",
      "____________________________________________________________________________________________________\n",
      "core_lstm (LSTM)                 (None, 20, 17)        2244        reshape_1[0][0]                  \n",
      "____________________________________________________________________________________________________\n",
      "every_other_4 (Lambda)           (None, 5, 17)         0           core_lstm[0][0]                  \n",
      "____________________________________________________________________________________________________\n",
      "pick_seq_0 (Lambda)              (None, 17)            0           every_other_4[0][0]              \n",
      "                                                                   every_other_4[0][0]              \n",
      "                                                                   every_other_4[0][0]              \n",
      "                                                                   every_other_4[0][0]              \n",
      "____________________________________________________________________________________________________\n",
      "pick_seq_1 (Lambda)              (None, 17)            0           every_other_4[0][0]              \n",
      "                                                                   every_other_4[0][0]              \n",
      "                                                                   every_other_4[0][0]              \n",
      "                                                                   every_other_4[0][0]              \n",
      "____________________________________________________________________________________________________\n",
      "pick_seq_2 (Lambda)              (None, 17)            0           every_other_4[0][0]              \n",
      "                                                                   every_other_4[0][0]              \n",
      "                                                                   every_other_4[0][0]              \n",
      "                                                                   every_other_4[0][0]              \n",
      "____________________________________________________________________________________________________\n",
      "pick_seq_3 (Lambda)              (None, 17)            0           every_other_4[0][0]              \n",
      "                                                                   every_other_4[0][0]              \n",
      "                                                                   every_other_4[0][0]              \n",
      "                                                                   every_other_4[0][0]              \n",
      "____________________________________________________________________________________________________\n",
      "pick_seq_4 (Lambda)              (None, 17)            0           every_other_4[0][0]              \n",
      "                                                                   every_other_4[0][0]              \n",
      "                                                                   every_other_4[0][0]              \n",
      "                                                                   every_other_4[0][0]              \n",
      "____________________________________________________________________________________________________\n",
      "decoder_0 (Dense)                (None, 501)           9018        pick_seq_0[0][0]                 \n",
      "                                                                   pick_seq_1[0][0]                 \n",
      "                                                                   pick_seq_2[0][0]                 \n",
      "                                                                   pick_seq_3[0][0]                 \n",
      "                                                                   pick_seq_4[0][0]                 \n",
      "____________________________________________________________________________________________________\n",
      "decoder_1 (Dense)                (None, 501)           9018        pick_seq_0[1][0]                 \n",
      "                                                                   pick_seq_1[1][0]                 \n",
      "                                                                   pick_seq_2[1][0]                 \n",
      "                                                                   pick_seq_3[1][0]                 \n",
      "                                                                   pick_seq_4[1][0]                 \n",
      "____________________________________________________________________________________________________\n",
      "decoder_2 (Dense)                (None, 501)           9018        pick_seq_0[2][0]                 \n",
      "                                                                   pick_seq_1[2][0]                 \n",
      "                                                                   pick_seq_2[2][0]                 \n",
      "                                                                   pick_seq_3[2][0]                 \n",
      "                                                                   pick_seq_4[2][0]                 \n",
      "____________________________________________________________________________________________________\n",
      "decoder_3 (Dense)                (None, 501)           9018        pick_seq_0[3][0]                 \n",
      "                                                                   pick_seq_1[3][0]                 \n",
      "                                                                   pick_seq_2[3][0]                 \n",
      "                                                                   pick_seq_3[3][0]                 \n",
      "                                                                   pick_seq_4[3][0]                 \n",
      "____________________________________________________________________________________________________\n",
      "activation_1 (Activation)        (None, 501)           0           decoder_0[0][0]                  \n",
      "____________________________________________________________________________________________________\n",
      "activation_2 (Activation)        (None, 501)           0           decoder_0[1][0]                  \n",
      "____________________________________________________________________________________________________\n",
      "activation_3 (Activation)        (None, 501)           0           decoder_0[2][0]                  \n",
      "____________________________________________________________________________________________________\n",
      "activation_4 (Activation)        (None, 501)           0           decoder_0[3][0]                  \n",
      "____________________________________________________________________________________________________\n",
      "activation_5 (Activation)        (None, 501)           0           decoder_0[4][0]                  \n",
      "____________________________________________________________________________________________________\n",
      "activation_6 (Activation)        (None, 501)           0           decoder_1[0][0]                  \n",
      "____________________________________________________________________________________________________\n",
      "activation_7 (Activation)        (None, 501)           0           decoder_1[1][0]                  \n",
      "____________________________________________________________________________________________________\n",
      "activation_8 (Activation)        (None, 501)           0           decoder_1[2][0]                  \n",
      "____________________________________________________________________________________________________\n",
      "activation_9 (Activation)        (None, 501)           0           decoder_1[3][0]                  \n",
      "____________________________________________________________________________________________________\n",
      "activation_10 (Activation)       (None, 501)           0           decoder_1[4][0]                  \n",
      "____________________________________________________________________________________________________\n",
      "activation_11 (Activation)       (None, 501)           0           decoder_2[0][0]                  \n",
      "____________________________________________________________________________________________________\n",
      "activation_12 (Activation)       (None, 501)           0           decoder_2[1][0]                  \n",
      "____________________________________________________________________________________________________\n",
      "activation_13 (Activation)       (None, 501)           0           decoder_2[2][0]                  \n",
      "____________________________________________________________________________________________________\n",
      "activation_14 (Activation)       (None, 501)           0           decoder_2[3][0]                  \n",
      "____________________________________________________________________________________________________\n",
      "activation_15 (Activation)       (None, 501)           0           decoder_2[4][0]                  \n",
      "____________________________________________________________________________________________________\n",
      "activation_16 (Activation)       (None, 501)           0           decoder_3[0][0]                  \n",
      "____________________________________________________________________________________________________\n",
      "activation_17 (Activation)       (None, 501)           0           decoder_3[1][0]                  \n",
      "____________________________________________________________________________________________________\n",
      "activation_18 (Activation)       (None, 501)           0           decoder_3[2][0]                  \n",
      "____________________________________________________________________________________________________\n",
      "activation_19 (Activation)       (None, 501)           0           decoder_3[3][0]                  \n",
      "____________________________________________________________________________________________________\n",
      "activation_20 (Activation)       (None, 501)           0           decoder_3[4][0]                  \n",
      "====================================================================================================\n",
      "Total params: 42,396\n",
      "Trainable params: 42,396\n",
      "Non-trainable params: 0\n",
      "____________________________________________________________________________________________________\n"
     ]
    },
    {
     "data": {
      "text/plain": [
       "<keras.engine.training.Model at 0x7fb14333d810>"
      ]
     },
     "execution_count": 3,
     "metadata": {},
     "output_type": "execute_result"
    }
   ],
   "source": [
    "M.make_model()"
   ]
  },
  {
   "cell_type": "code",
   "execution_count": 4,
   "metadata": {
    "collapsed": false
   },
   "outputs": [
    {
     "name": "stdout",
     "output_type": "stream",
     "text": [
      "converting dataset_mu10_1.csv\n",
      "1000 to be collected\n"
     ]
    },
    {
     "name": "stderr",
     "output_type": "stream",
     "text": [
      "/usr/lib/python2.7/dist-packages/numpy/core/numeric.py:301: FutureWarning: in the future, full((1, 1), 500) will return an array of dtype('int64')\n",
      "  format(shape, fill_value, array(fill_value).dtype), FutureWarning)\n",
      "ModelAndData.py:202: FutureWarning: comparison to `None` will result in an elementwise object comparison in the future.\n",
      "  if data==None or target == None:\n"
     ]
    },
    {
     "name": "stdout",
     "output_type": "stream",
     "text": [
      "999 so far 1.0 [s]\n",
      "Creating dataset in  dataset_mu10_1.csvall_4L_20H_5C_DC500.h5\n"
     ]
    },
    {
     "data": {
      "text/plain": [
       "['dataset_mu10_1.csvall_4L_20H_5C_DC500.h5']"
      ]
     },
     "execution_count": 4,
     "metadata": {},
     "output_type": "execute_result"
    }
   ],
   "source": [
    "M.convert_files()"
   ]
  },
  {
   "cell_type": "code",
   "execution_count": 5,
   "metadata": {
    "collapsed": false
   },
   "outputs": [
    {
     "name": "stdout",
     "output_type": "stream",
     "text": [
      "dataset_mu10_*all_4L_20H_5C_DC500.h5\n",
      "dataset_mu10_1.csvall_4L_20H_5C_DC500.h5\n",
      "[ 0.71383391  0.79677617  0.46949602]\n",
      "[356]\n"
     ]
    }
   ],
   "source": [
    "data, target, _ = M.read_dataset()"
   ]
  },
  {
   "cell_type": "code",
   "execution_count": 6,
   "metadata": {
    "collapsed": false
   },
   "outputs": [
    {
     "name": "stdout",
     "output_type": "stream",
     "text": [
      "Starting training round 0 Fri Apr 14 05:10:09 2017\n",
      "Trained in 29.0 [s]\n"
     ]
    },
    {
     "data": {
      "text/plain": [
       "'model_all_4L_20H_5C_DC500_0_w.h5'"
      ]
     },
     "execution_count": 6,
     "metadata": {},
     "output_type": "execute_result"
    }
   ],
   "source": [
    "M.pick_and_train(data, target)"
   ]
  },
  {
   "cell_type": "code",
   "execution_count": null,
   "metadata": {
    "collapsed": true
   },
   "outputs": [],
   "source": []
  }
 ],
 "metadata": {
  "kernelspec": {
   "display_name": "Python 2",
   "language": "python",
   "name": "python2"
  },
  "language_info": {
   "codemirror_mode": {
    "name": "ipython",
    "version": 2
   },
   "file_extension": ".py",
   "mimetype": "text/x-python",
   "name": "python",
   "nbconvert_exporter": "python",
   "pygments_lexer": "ipython2",
   "version": "2.7.12"
  }
 },
 "nbformat": 4,
 "nbformat_minor": 1
}
