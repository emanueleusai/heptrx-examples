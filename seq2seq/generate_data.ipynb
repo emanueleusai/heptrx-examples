{
 "cells": [
  {
   "cell_type": "code",
   "execution_count": 1,
   "metadata": {
    "collapsed": false,
    "deletable": true,
    "editable": true
   },
   "outputs": [
    {
     "name": "stdout",
     "output_type": "stream",
     "text": [
      "\n"
     ]
    },
    {
     "name": "stderr",
     "output_type": "stream",
     "text": [
      "Using TensorFlow backend.\n"
     ]
    }
   ],
   "source": [
    "from ModelAndData import DatasetDealer"
   ]
  },
  {
   "cell_type": "code",
   "execution_count": 2,
   "metadata": {
    "collapsed": false,
    "deletable": true,
    "editable": true
   },
   "outputs": [],
   "source": [
    "D = DatasetDealer(filename='m10_ptmin100_ptmax1000.csv', label='100MeV')"
   ]
  },
  {
   "cell_type": "code",
   "execution_count": 3,
   "metadata": {
    "collapsed": false,
    "deletable": true,
    "editable": true,
    "scrolled": false
   },
   "outputs": [
    {
     "name": "stdout",
     "output_type": "stream",
     "text": [
      "dataset100MeV_mu10_1.csv exists_already\n",
      "dataset100MeV_mu10_2.csv exists_already\n",
      "dataset100MeV_mu10_3.csv exists_already\n",
      "dataset100MeV_mu10_4.csv exists_already\n",
      "dataset100MeV_mu10_5.csv exists_already\n",
      "dataset100MeV_mu10_6.csv exists_already\n",
      "dataset100MeV_mu10_7.csv exists_already\n",
      "dataset100MeV_mu10_8.csv exists_already\n",
      "dataset100MeV_mu10_9.csv exists_already\n",
      "creating data for dataset100MeV_mu10_10.csv this might take a while\n",
      "Retrieving a 1000 track bank. This can take a while\n",
      "Generating 1000 events with an average 10 tracks. This can take a while.\n",
      "Created range of events 9000 9999\n",
      "creating data for dataset100MeV_mu10_11.csv this might take a while\n",
      "Generating 1000 events with an average 10 tracks. This can take a while.\n",
      "Created range of events 10000 10999\n",
      "creating data for dataset100MeV_mu10_12.csv this might take a while\n",
      "Generating 1000 events with an average 10 tracks. This can take a while.\n",
      "Created range of events 11000 11999\n",
      "creating data for dataset100MeV_mu10_13.csv this might take a while\n",
      "Generating 1000 events with an average 10 tracks. This can take a while.\n",
      "Created range of events 12000 12999\n",
      "creating data for dataset100MeV_mu10_14.csv this might take a while\n",
      "Generating 1000 events with an average 10 tracks. This can take a while.\n",
      "Created range of events 13000 13999\n",
      "creating data for dataset100MeV_mu10_15.csv this might take a while\n",
      "Generating 1000 events with an average 10 tracks. This can take a while.\n",
      "Created range of events 14000 14999\n",
      "creating data for dataset100MeV_mu10_16.csv this might take a while\n",
      "Generating 1000 events with an average 10 tracks. This can take a while.\n",
      "Created range of events 15000 15999\n",
      "creating data for dataset100MeV_mu10_17.csv this might take a while\n",
      "Generating 1000 events with an average 10 tracks. This can take a while.\n",
      "Created range of events 16000 16999\n",
      "creating data for dataset100MeV_mu10_18.csv this might take a while\n",
      "Generating 1000 events with an average 10 tracks. This can take a while.\n",
      "Created range of events 17000 17999\n",
      "creating data for dataset100MeV_mu10_19.csv this might take a while\n",
      "Generating 1000 events with an average 10 tracks. This can take a while.\n",
      "Created range of events 18000 18999\n",
      "creating data for dataset100MeV_mu10_20.csv this might take a while\n",
      "Generating 1000 events with an average 10 tracks. This can take a while.\n",
      "Created range of events 19000 19999\n",
      "creating data for dataset100MeV_mu10_21.csv this might take a while\n",
      "Generating 1000 events with an average 10 tracks. This can take a while.\n",
      "Created range of events 20000 20999\n",
      "creating data for dataset100MeV_mu10_22.csv this might take a while\n",
      "Generating 1000 events with an average 10 tracks. This can take a while.\n",
      "Created range of events 21000 21999\n",
      "creating data for dataset100MeV_mu10_23.csv this might take a while\n",
      "Generating 1000 events with an average 10 tracks. This can take a while.\n",
      "Created range of events 22000 22999\n",
      "creating data for dataset100MeV_mu10_24.csv this might take a while\n",
      "Generating 1000 events with an average 10 tracks. This can take a while.\n",
      "Created range of events 23000 23999\n",
      "creating data for dataset100MeV_mu10_25.csv this might take a while\n",
      "Generating 1000 events with an average 10 tracks. This can take a while.\n",
      "Created range of events 24000 24999\n",
      "creating data for dataset100MeV_mu10_26.csv this might take a while\n",
      "Generating 1000 events with an average 10 tracks. This can take a while.\n",
      "Created range of events 25000 25999\n",
      "creating data for dataset100MeV_mu10_27.csv this might take a while\n",
      "Generating 1000 events with an average 10 tracks. This can take a while.\n",
      "Created range of events 26000 26999\n",
      "creating data for dataset100MeV_mu10_28.csv this might take a while\n",
      "Generating 1000 events with an average 10 tracks. This can take a while.\n",
      "Created range of events 27000 27999\n",
      "creating data for dataset100MeV_mu10_29.csv this might take a while\n",
      "Generating 1000 events with an average 10 tracks. This can take a while.\n",
      "Created range of events 28000 28999\n",
      "creating data for dataset100MeV_mu10_30.csv this might take a while\n",
      "Generating 1000 events with an average 10 tracks. This can take a while.\n",
      "Created range of events 29000 29999\n",
      "creating data for dataset100MeV_mu10_31.csv this might take a while\n",
      "Generating 1000 events with an average 10 tracks. This can take a while.\n",
      "Created range of events 30000 30999\n",
      "creating data for dataset100MeV_mu10_32.csv this might take a while\n",
      "Generating 1000 events with an average 10 tracks. This can take a while.\n",
      "Created range of events 31000 31999\n",
      "creating data for dataset100MeV_mu10_33.csv this might take a while\n",
      "Generating 1000 events with an average 10 tracks. This can take a while.\n",
      "Created range of events 32000 32999\n",
      "creating data for dataset100MeV_mu10_34.csv this might take a while\n",
      "Generating 1000 events with an average 10 tracks. This can take a while.\n",
      "Created range of events 33000 33999\n",
      "creating data for dataset100MeV_mu10_35.csv this might take a while\n",
      "Generating 1000 events with an average 10 tracks. This can take a while.\n",
      "Created range of events 34000 34999\n",
      "creating data for dataset100MeV_mu10_36.csv this might take a while\n",
      "Generating 1000 events with an average 10 tracks. This can take a while.\n",
      "Created range of events 35000 35999\n",
      "creating data for dataset100MeV_mu10_37.csv this might take a while\n",
      "Generating 1000 events with an average 10 tracks. This can take a while.\n",
      "Created range of events 36000 36999\n",
      "creating data for dataset100MeV_mu10_38.csv this might take a while\n",
      "Generating 1000 events with an average 10 tracks. This can take a while.\n",
      "Created range of events 37000 37999\n",
      "creating data for dataset100MeV_mu10_39.csv this might take a while\n",
      "Generating 1000 events with an average 10 tracks. This can take a while.\n",
      "Created range of events 38000 38999\n",
      "creating data for dataset100MeV_mu10_40.csv this might take a while\n",
      "Generating 1000 events with an average 10 tracks. This can take a while.\n",
      "Created range of events 39000 39999\n",
      "creating data for dataset100MeV_mu10_41.csv this might take a while\n",
      "Generating 1000 events with an average 10 tracks. This can take a while.\n",
      "Created range of events 40000 40999\n",
      "creating data for dataset100MeV_mu10_42.csv this might take a while\n",
      "Generating 1000 events with an average 10 tracks. This can take a while.\n",
      "Created range of events 41000 41999\n",
      "creating data for dataset100MeV_mu10_43.csv this might take a while\n",
      "Generating 1000 events with an average 10 tracks. This can take a while.\n",
      "Created range of events 42000 42999\n",
      "creating data for dataset100MeV_mu10_44.csv this might take a while\n",
      "Generating 1000 events with an average 10 tracks. This can take a while.\n",
      "Created range of events 43000 43999\n",
      "creating data for dataset100MeV_mu10_45.csv this might take a while\n",
      "Generating 1000 events with an average 10 tracks. This can take a while.\n",
      "Created range of events 44000 44999\n",
      "creating data for dataset100MeV_mu10_46.csv this might take a while\n",
      "Generating 1000 events with an average 10 tracks. This can take a while.\n",
      "Created range of events 45000 45999\n",
      "creating data for dataset100MeV_mu10_47.csv this might take a while\n",
      "Generating 1000 events with an average 10 tracks. This can take a while.\n",
      "Created range of events 46000 46999\n",
      "creating data for dataset100MeV_mu10_48.csv this might take a while\n",
      "Generating 1000 events with an average 10 tracks. This can take a while.\n",
      "Created range of events 47000 47999\n",
      "creating data for dataset100MeV_mu10_49.csv this might take a while\n",
      "Generating 1000 events with an average 10 tracks. This can take a while.\n",
      "Created range of events 48000 48999\n",
      "creating data for dataset100MeV_mu10_50.csv this might take a while\n",
      "Generating 1000 events with an average 10 tracks. This can take a while.\n",
      "Created range of events 49000 49999\n"
     ]
    }
   ],
   "source": [
    "base = D.create_dataset( N= 50000, mu = 10)"
   ]
  },
  {
   "cell_type": "code",
   "execution_count": 4,
   "metadata": {
    "collapsed": false,
    "deletable": true,
    "editable": true
   },
   "outputs": [
    {
     "data": {
      "text/plain": [
       "'dataset_mu10_'"
      ]
     },
     "execution_count": 4,
     "metadata": {},
     "output_type": "execute_result"
    }
   ],
   "source": [
    "base"
   ]
  },
  {
   "cell_type": "code",
   "execution_count": 4,
   "metadata": {
    "collapsed": false,
    "deletable": true,
    "editable": true
   },
   "outputs": [
    {
     "data": {
      "text/plain": [
       "NoneType"
      ]
     },
     "execution_count": 4,
     "metadata": {},
     "output_type": "execute_result"
    }
   ],
   "source": [
    "type(None)"
   ]
  },
  {
   "cell_type": "code",
   "execution_count": 10,
   "metadata": {
    "collapsed": false
   },
   "outputs": [
    {
     "data": {
      "text/plain": [
       "pandas.core.frame.DataFrame"
      ]
     },
     "execution_count": 10,
     "metadata": {},
     "output_type": "execute_result"
    }
   ],
   "source": [
    "type(D.tf)"
   ]
  },
  {
   "cell_type": "code",
   "execution_count": null,
   "metadata": {
    "collapsed": true
   },
   "outputs": [],
   "source": []
  }
 ],
 "metadata": {
  "kernelspec": {
   "display_name": "Python 2",
   "language": "python",
   "name": "python2"
  },
  "language_info": {
   "codemirror_mode": {
    "name": "ipython",
    "version": 2
   },
   "file_extension": ".py",
   "mimetype": "text/x-python",
   "name": "python",
   "nbconvert_exporter": "python",
   "pygments_lexer": "ipython2",
   "version": "2.7.12"
  }
 },
 "nbformat": 4,
 "nbformat_minor": 2
}
