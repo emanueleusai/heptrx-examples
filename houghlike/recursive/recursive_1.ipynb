{
 "cells": [
  {
   "cell_type": "markdown",
   "metadata": {},
   "source": [
    "We want to implement a model that processes the input image, identifies one track in it, and indicates which pixels correspond to that track.  We will start with the model architecture we're using to regress on track parameters, and modify it to produce lists of pixels.\n",
    "\n",
    "Author: Dustin Anderson"
   ]
  },
  {
   "cell_type": "code",
   "execution_count": 1,
   "metadata": {
    "collapsed": false
   },
   "outputs": [
    {
     "name": "stderr",
     "output_type": "stream",
     "text": [
      "Using Theano backend.\n"
     ]
    },
    {
     "name": "stdout",
     "output_type": "stream",
     "text": [
      "Couldn't import dot_parser, loading of dot files will not be possible.\n"
     ]
    },
    {
     "name": "stderr",
     "output_type": "stream",
     "text": [
      "Using gpu device 0: GeForce GTX TITAN X (CNMeM is disabled, cuDNN 5005)\n"
     ]
    }
   ],
   "source": [
    "# Standard imports\n",
    "import sys\n",
    "\n",
    "# Package imports\n",
    "import numpy as np\n",
    "np.random.seed(2341)\n",
    "\n",
    "import matplotlib.pyplot as plt\n",
    "%matplotlib inline\n",
    "\n",
    "from keras import models, layers\n",
    "from keras.preprocessing.sequence import pad_sequences\n",
    "from keras.utils.np_utils import to_categorical\n",
    "\n",
    "# Local imports\n",
    "sys.path.append(\"/home/duanders/AI-HEP.Trk/discrete_extraps\")\n",
    "from drawing import draw_event, draw_input_and_pred"
   ]
  },
  {
   "cell_type": "code",
   "execution_count": 2,
   "metadata": {
    "collapsed": true
   },
   "outputs": [],
   "source": [
    "# Training parameters\n",
    "batch_size = 256\n",
    "epoch_size = 256000\n",
    "num_epochs = 30\n",
    "\n",
    "# Data parameters\n",
    "det_width = 50\n",
    "det_depth = 50\n",
    "det_shape = (det_width, det_depth)\n",
    "\n",
    "num_tracks = 6\n",
    "max_tracks = 10\n",
    "min_tracks = 1"
   ]
  },
  {
   "cell_type": "markdown",
   "metadata": {},
   "source": [
    "The training target will now be a list of pixels that correspond to a single track in the image.  To ensure that the model knows which track to look at, we'll also give it a \"hint\" in the form of the track intercept value.  The intercept acts as a proxy for a track seed, which in practice could be provided by a neural net like the CNN we trained earlier.\n",
    "\n",
    "First let's make sure the basic concept can be implemented sensibly.  We will train on single-track events and ask the model to find the pixels that are \"on\". No track seed for now."
   ]
  },
  {
   "cell_type": "code",
   "execution_count": 3,
   "metadata": {
    "collapsed": false
   },
   "outputs": [],
   "source": [
    "def simulate_straight_track(m, b, det_shape):\n",
    "    \"\"\"\n",
    "    Simulate detector data for one straight track.\n",
    "    Parameters:\n",
    "        m: track slope parameter\n",
    "        b: track first-layer intercept parameter (detector entry point)\n",
    "        det_shape: tuple of detector shape: (depth, width)\n",
    "    Returns:\n",
    "        ndarray of binary detector data for one track.\n",
    "    \"\"\"\n",
    "    x = np.zeros(det_shape)\n",
    "    idx = np.arange(det_shape[0])\n",
    "    hits = (idx*m + b).astype(int)\n",
    "    valid = (hits >= 0) & (hits < det_shape[1])\n",
    "    x[idx[valid], hits[valid]] = 1\n",
    "    return x\n",
    "\n",
    "# Generator for single-track events\n",
    "def gen_tracks(batch_size=batch_size, det_shape=det_shape):\n",
    "    \"\"\"Arguments: \n",
    "         batch_size: number of events to yield for each call\n",
    "       Yields: batches of training data for use with the keras fit_generator function\n",
    "    \"\"\"\n",
    "    gen = gen_tracks_intercepts(batch_size, det_shape)\n",
    "    for tracks, targets, intercepts in gen: # Note: loops forever\n",
    "        yield tracks, targets\n",
    "        \n",
    "def gen_tracks_intercepts(batch_size=batch_size, det_shape=det_shape):\n",
    "    \"\"\"Yields tuples of the form (events, targets, intercepts)\"\"\"\n",
    "    while True:\n",
    "        # Entry and exit points are randomized\n",
    "        bs = np.random.random_sample(size=batch_size)*det_width\n",
    "        b2s = np.random.random_sample(size=batch_size)*det_width\n",
    "        ms = (b2s-bs)/det_depth\n",
    "        tracks = np.zeros((batch_size, 1, det_depth, det_width))\n",
    "        targets = [ np.zeros((batch_size, det_depth)),\n",
    "                    np.zeros((batch_size, det_width)) ]\n",
    "        for i, (b, m) in enumerate(zip(bs,ms)):\n",
    "            tracks[i,0] = simulate_straight_track(m, b, det_shape)\n",
    "            pixel_x, pixel_y = np.where(tracks[i,0])\n",
    "            targets[0][i] = pixel_x\n",
    "            targets[1][i] = pixel_y\n",
    "        targets[0] = np.expand_dims(targets[0], -1) #needed for compatibility with sparse_categorical_crossentropy loss\n",
    "        targets[1] = np.expand_dims(targets[1], -1)\n",
    "        yield tracks, targets, bs\n",
    "        \n",
    "# Generator for multi-track events\n",
    "def gen_multi_tracks(batch_size=batch_size, det_shape=det_shape, min_tracks=min_tracks, max_tracks=max_tracks):\n",
    "    gen_single = gen_tracks_intercepts(batch_size=max_tracks, det_shape=det_shape)\n",
    "    while True:\n",
    "        batch_events = np.zeros((batch_size, 1, det_depth, det_width))\n",
    "        batch_intercepts = np.zeros((batch_size))\n",
    "        batch_targets = [ np.zeros((batch_size, det_depth, 1)),\n",
    "                    np.zeros((batch_size, det_width, 1)) ]\n",
    "        for n in range(batch_size):\n",
    "            tracks,targets,intercepts = gen_single.next()\n",
    "            if max_tracks != min_tracks:\n",
    "                num_tracks = np.random.randint(min_tracks, max_tracks+1)\n",
    "            else:\n",
    "                num_tracks = max_tracks\n",
    "            batch_events[n,0] = np.clip( sum( tracks[:num_tracks] ), 0, 1)\n",
    "            batch_intercepts[n] = intercepts[0]\n",
    "            event_targets = [targets[0][0], targets[1][0]] # first track is the target\n",
    "            batch_targets[0][n] = event_targets[0]\n",
    "            batch_targets[1][n] = event_targets[1]\n",
    "        yield [batch_events, batch_intercepts], batch_targets\n",
    "\n",
    "def gen_n_tracks(batch_size=batch_size, det_shape=det_shape, num_tracks=num_tracks):\n",
    "    gen_multi = gen_multi_tracks(batch_size, det_shape, num_tracks, num_tracks)\n",
    "    while True:\n",
    "        yield gen_multi.next()"
   ]
  },
  {
   "cell_type": "code",
   "execution_count": 351,
   "metadata": {
    "collapsed": false
   },
   "outputs": [
    {
     "data": {
      "image/png": "[encoded data removed]",
      "text/plain": [
       "<matplotlib.figure.Figure at 0x7f40bb91a2d0>"
      ]
     },
     "metadata": {},
     "output_type": "display_data"
    }
   ],
   "source": [
    "# Test the data generator\n",
    "tracks, targets = gen_tracks().next()\n",
    "draw_event(tracks[0,0])"
   ]
  },
  {
   "cell_type": "code",
   "execution_count": 352,
   "metadata": {
    "collapsed": true
   },
   "outputs": [],
   "source": [
    "# Model\n",
    "def build_model_1():\n",
    "    \"\"\"Recycle same convolutional architecture used in previous 'houghlike' experiments\"\"\"\n",
    "    input_layer = layers.Input(shape=(1, det_depth, det_width))\n",
    "    layer = layers.Convolution2D(8, 3, 3, border_mode='same')(input_layer)\n",
    "    layer = layers.Activation('relu')(layer)\n",
    "    layer = layers.Convolution2D(8, 3, 3, border_mode='same')(layer)\n",
    "    layer = layers.Activation('relu')(layer)\n",
    "    layer = layers.MaxPooling2D(pool_size=(2,2))(layer)\n",
    "    layer = layers.Convolution2D(32, 3, 3, border_mode='same')(layer)\n",
    "    layer = layers.Activation('relu')(layer)\n",
    "    layer = layers.Convolution2D(32, 3, 3, border_mode='same')(layer)\n",
    "    layer = layers.Activation('relu')(layer)\n",
    "    layer = layers.Flatten()(layer)\n",
    "    layer = layers.Dense(400)(layer)\n",
    "    layer = layers.RepeatVector(det_depth)(layer)\n",
    "    layer = layers.LSTM(400, return_sequences=True)(layer)\n",
    "    # Output a softmax over all pixels in the x- and y-directions\n",
    "    output_layer_x = layers.TimeDistributed(layers.Dense(det_depth, activation='softmax'))(layer)\n",
    "    output_layer_y = layers.TimeDistributed(layers.Dense(det_width, activation='softmax'))(layer)\n",
    "    model = models.Model(input=input_layer, output=[output_layer_x, output_layer_y])\n",
    "    model.compile(loss='sparse_categorical_crossentropy', optimizer='Adam', sample_weight_mode='temporal')\n",
    "    return model"
   ]
  },
  {
   "cell_type": "code",
   "execution_count": 209,
   "metadata": {
    "collapsed": false
   },
   "outputs": [
    {
     "name": "stdout",
     "output_type": "stream",
     "text": [
      "Epoch 1/3\n",
      "256000/256000 [==============================] - 224s - loss: 1.2938 - timedistributed_19_loss: 0.6640 - timedistributed_20_loss: 0.6297   \n",
      "Epoch 2/3\n",
      "256000/256000 [==============================] - 224s - loss: 0.3748 - timedistributed_19_loss: 0.1460 - timedistributed_20_loss: 0.2288   \n",
      "Epoch 3/3\n",
      "256000/256000 [==============================] - 224s - loss: 0.2424 - timedistributed_19_loss: 0.0808 - timedistributed_20_loss: 0.1616   \n",
      "CPU times: user 5min 57s, sys: 6min 42s, total: 12min 39s\n",
      "Wall time: 11min 21s\n"
     ]
    },
    {
     "data": {
      "text/plain": [
       "<keras.callbacks.History at 0x7f40a8e3ed10>"
      ]
     },
     "execution_count": 209,
     "metadata": {},
     "output_type": "execute_result"
    }
   ],
   "source": [
    "# Train the model\n",
    "model_1 = build_model_1()\n",
    "train_generator = gen_tracks()\n",
    "%time model_1.fit_generator(train_generator, epoch_size, 3)"
   ]
  },
  {
   "cell_type": "code",
   "execution_count": 219,
   "metadata": {
    "collapsed": false
   },
   "outputs": [
    {
     "data": {
      "image/png": "[encoded data removed]",
      "text/plain": [
       "<matplotlib.figure.Figure at 0x7f40a86fed10>"
      ]
     },
     "metadata": {},
     "output_type": "display_data"
    }
   ],
   "source": [
    "# Visualize prediction\n",
    "events, targets = gen_tracks().next()\n",
    "event = events[0]\n",
    "x_target = targets[0][0]\n",
    "y_target = targets[1][0]\n",
    "pred = model_1.predict(np.asarray([event]))\n",
    "x_pred = np.argmax( np.squeeze(pred[0][0]), axis=1 )\n",
    "y_pred = np.argmax( np.squeeze(pred[1][0]), axis=1 )\n",
    "xy_pred = np.array(zip(x_pred, y_pred))\n",
    "\n",
    "pred_event = np.zeros((det_depth, det_width))\n",
    "for x,y in xy_pred:\n",
    "    pred_event[x,y] = 1\n",
    "draw_input_and_pred(event[0], pred_event)"
   ]
  },
  {
   "cell_type": "markdown",
   "metadata": {},
   "source": [
    "It seems to work as hoped.  For each output of the LSTM, the most probable pixel in the right-hand image is lighted up.  "
   ]
  },
  {
   "cell_type": "markdown",
   "metadata": {},
   "source": [
    "The next step is to add multiple tracks, provide a seed (the track intercept) and see if the model picks the correct track out of the image.  "
   ]
  },
  {
   "cell_type": "code",
   "execution_count": 299,
   "metadata": {
    "collapsed": false
   },
   "outputs": [
    {
     "data": {
      "image/png": "[encoded data removed]",
      "text/plain": [
       "<matplotlib.figure.Figure at 0x7f40b6876810>"
      ]
     },
     "metadata": {},
     "output_type": "display_data"
    }
   ],
   "source": [
    "# Test the multi-track data generator\n",
    "inputs, targets = gen_multi_tracks().next()\n",
    "tracks, intercepts = inputs\n",
    "draw_event(tracks[0,0])"
   ]
  },
  {
   "cell_type": "code",
   "execution_count": 294,
   "metadata": {
    "collapsed": true
   },
   "outputs": [],
   "source": [
    "# Model\n",
    "def build_model_2():\n",
    "    \"\"\"Same as model 1, but with an extra input for the track seed\"\"\"\n",
    "    input_layer = layers.Input(shape=(1, det_depth, det_width))\n",
    "    seed_input_layer = layers.Input(shape=(1,))\n",
    "    layer = layers.Convolution2D(8, 3, 3, border_mode='same')(input_layer)\n",
    "    layer = layers.Activation('relu')(layer)\n",
    "    layer = layers.Convolution2D(8, 3, 3, border_mode='same')(layer)\n",
    "    layer = layers.Activation('relu')(layer)\n",
    "    layer = layers.MaxPooling2D(pool_size=(2,2))(layer)\n",
    "    layer = layers.Convolution2D(32, 3, 3, border_mode='same')(layer)\n",
    "    layer = layers.Activation('relu')(layer)\n",
    "    layer = layers.Convolution2D(32, 3, 3, border_mode='same')(layer)\n",
    "    layer = layers.Activation('relu')(layer)\n",
    "    layer = layers.Flatten()(layer)\n",
    "    layer = layers.merge([layer, seed_input_layer], mode='concat', concat_axis=1)\n",
    "    layer = layers.Dense(400)(layer)\n",
    "    layer = layers.RepeatVector(det_depth)(layer)\n",
    "    layer = layers.LSTM(400, return_sequences=True)(layer)\n",
    "    # Output a softmax over all pixels in the x- and y-directions\n",
    "    output_layer_x = layers.TimeDistributed(layers.Dense(det_depth, activation='softmax'))(layer)\n",
    "    output_layer_y = layers.TimeDistributed(layers.Dense(det_width, activation='softmax'))(layer)\n",
    "    model = models.Model(input=[input_layer, seed_input_layer], output=[output_layer_x, output_layer_y])\n",
    "    model.compile(loss='sparse_categorical_crossentropy', optimizer='Adam', sample_weight_mode='temporal')\n",
    "    return model"
   ]
  },
  {
   "cell_type": "code",
   "execution_count": 300,
   "metadata": {
    "collapsed": false
   },
   "outputs": [
    {
     "name": "stdout",
     "output_type": "stream",
     "text": [
      "Epoch 1/12\n",
      "256000/256000 [==============================] - 235s - loss: 3.0442 - timedistributed_23_loss: 0.6906 - timedistributed_24_loss: 2.3536   \n",
      "Epoch 2/12\n",
      "256000/256000 [==============================] - 236s - loss: 1.9343 - timedistributed_23_loss: 0.1847 - timedistributed_24_loss: 1.7495   \n",
      "Epoch 3/12\n",
      "256000/256000 [==============================] - 236s - loss: 1.6137 - timedistributed_23_loss: 0.0982 - timedistributed_24_loss: 1.5155   \n",
      "Epoch 4/12\n",
      "256000/256000 [==============================] - 237s - loss: 1.4938 - timedistributed_23_loss: 0.1190 - timedistributed_24_loss: 1.3748   \n",
      "Epoch 5/12\n",
      "256000/256000 [==============================] - 236s - loss: 1.2858 - timedistributed_23_loss: 0.0618 - timedistributed_24_loss: 1.2240   \n",
      "Epoch 6/12\n",
      "256000/256000 [==============================] - 237s - loss: 1.1117 - timedistributed_23_loss: 0.0043 - timedistributed_24_loss: 1.1074   \n",
      "Epoch 7/12\n",
      "256000/256000 [==============================] - 236s - loss: 1.1789 - timedistributed_23_loss: 0.0840 - timedistributed_24_loss: 1.0949   \n",
      "Epoch 8/12\n",
      "256000/256000 [==============================] - 241s - loss: 0.9896 - timedistributed_23_loss: 0.0032 - timedistributed_24_loss: 0.9864   \n",
      "Epoch 9/12\n",
      "256000/256000 [==============================] - 236s - loss: 1.0048 - timedistributed_23_loss: 0.0409 - timedistributed_24_loss: 0.9639   \n",
      "Epoch 10/12\n",
      "256000/256000 [==============================] - 236s - loss: 0.8989 - timedistributed_23_loss: 0.0018 - timedistributed_24_loss: 0.8972   \n",
      "Epoch 11/12\n",
      "256000/256000 [==============================] - 236s - loss: 1.0053 - timedistributed_23_loss: 0.0699 - timedistributed_24_loss: 0.9354   \n",
      "Epoch 12/12\n",
      "256000/256000 [==============================] - 236s - loss: 0.8351 - timedistributed_23_loss: 0.0024 - timedistributed_24_loss: 0.8327   \n",
      "CPU times: user 49min 30s, sys: 27min 48s, total: 1h 17min 18s\n",
      "Wall time: 47min 35s\n"
     ]
    },
    {
     "data": {
      "text/plain": [
       "<keras.callbacks.History at 0x7f40a0d75390>"
      ]
     },
     "execution_count": 300,
     "metadata": {},
     "output_type": "execute_result"
    }
   ],
   "source": [
    "# Train the model\n",
    "model_2 = build_model_2()\n",
    "train_generator = gen_multi_tracks()\n",
    "%time model_2.fit_generator(train_generator, epoch_size, 12)"
   ]
  },
  {
   "cell_type": "code",
   "execution_count": 4,
   "metadata": {
    "collapsed": false
   },
   "outputs": [],
   "source": [
    "def draw_input_target_pred(event_input, event_target, event_pred, figsize=(9,4), mask_ranges=None):\n",
    "    plt.figure(figsize=figsize)\n",
    "    plt.subplot(131)\n",
    "    draw_event(event_input, title='Input', mask_ranges=mask_ranges)\n",
    "    plt.subplot(132)\n",
    "    draw_event(event_target, title='Target', mask_ranges=mask_ranges)\n",
    "    plt.subplot(133)\n",
    "    draw_event(event_pred, title='Model prediction', mask_ranges=mask_ranges)\n",
    "\n",
    "# Visualize prediction\n",
    "def visualize_n(model):\n",
    "    inputs, targets = gen_n_tracks().next()\n",
    "    event = inputs[0][0]\n",
    "    seed = inputs[1][0]\n",
    "    x_target = targets[0][0]\n",
    "    y_target = targets[1][0]\n",
    "    pred = model.predict([np.array([event]), np.array([seed])])\n",
    "    x_pred = np.argmax( np.squeeze(pred[0][0]), axis=1 )\n",
    "    y_pred = np.argmax( np.squeeze(pred[1][0]), axis=1 )\n",
    "    xy_pred = np.array(zip(x_pred, y_pred))\n",
    "    pred_event = np.zeros((det_depth, det_width))\n",
    "    for x,y in xy_pred:\n",
    "        pred_event[x,y] = 1\n",
    "    xy_target = np.array(zip(np.squeeze(x_target), np.squeeze(y_target))).astype(int)\n",
    "    target_event = np.zeros((det_depth, det_width))\n",
    "    for x,y in xy_target:\n",
    "        target_event[x,y] = 1\n",
    "    draw_input_target_pred(event[0], target_event, pred_event)"
   ]
  },
  {
   "cell_type": "code",
   "execution_count": 312,
   "metadata": {
    "collapsed": false
   },
   "outputs": [
    {
     "data": {
      "image/png": "[encoded data removed]",
      "text/plain": [
       "<matplotlib.figure.Figure at 0x7f409ed02490>"
      ]
     },
     "metadata": {},
     "output_type": "display_data"
    }
   ],
   "source": [
    "visualize_n(model_2)"
   ]
  },
  {
   "cell_type": "markdown",
   "metadata": {
    "collapsed": true
   },
   "source": [
    "The model usually selects the correct track and follows it.  However, it doesn't get the pixels exactly right."
   ]
  },
  {
   "cell_type": "code",
   "execution_count": 317,
   "metadata": {
    "collapsed": false
   },
   "outputs": [
    {
     "data": {
      "image/png": "[encoded data removed]",
      "text/plain": [
       "<matplotlib.figure.Figure at 0x7f409e3a05d0>"
      ]
     },
     "metadata": {},
     "output_type": "display_data"
    }
   ],
   "source": [
    "visualize_n(model_2)"
   ]
  },
  {
   "cell_type": "markdown",
   "metadata": {},
   "source": [
    "When tracks cross, the model outputs become unreliable.  We could learn more by looking at the probabilities produced by the model, rather than just the most likely pixels.  "
   ]
  },
  {
   "cell_type": "markdown",
   "metadata": {},
   "source": [
    "The biggest problem, though, is the fact that the model does not necessarily choose the right pixels for the track.  That makes it unsuitable for the recursive algorithm we discussed, in which the pixels indicated by the model are turned off at each iteration.  "
   ]
  },
  {
   "cell_type": "markdown",
   "metadata": {
    "collapsed": true
   },
   "source": [
    "Suggestion from Stephan: use regularization to encourage sequential model outputs to be close together.  To do that, we need to write a custom keras regularizer."
   ]
  },
  {
   "cell_type": "markdown",
   "metadata": {
    "collapsed": true
   },
   "source": [
    "### Regularize using Kullback-Leibler divergence"
   ]
  },
  {
   "cell_type": "code",
   "execution_count": 20,
   "metadata": {
    "collapsed": false
   },
   "outputs": [
    {
     "data": {
      "text/plain": [
       "<module 'kl_regularizer' from 'kl_regularizer.py'>"
      ]
     },
     "execution_count": 20,
     "metadata": {},
     "output_type": "execute_result"
    }
   ],
   "source": [
    "reload(kl_regularizer)"
   ]
  },
  {
   "cell_type": "code",
   "execution_count": 55,
   "metadata": {
    "collapsed": true
   },
   "outputs": [],
   "source": [
    "import kl_regularizer # local import\n",
    "\n",
    "# Model\n",
    "def build_model_3():\n",
    "    \"\"\"Same as model 2, but with regularization on the KL divergence\"\"\"\n",
    "    input_layer = layers.Input(shape=(1, det_depth, det_width))\n",
    "    seed_input_layer = layers.Input(shape=(1,))\n",
    "    layer = layers.Convolution2D(8, 3, 3, border_mode='same')(input_layer)\n",
    "    layer = layers.Activation('relu')(layer)\n",
    "    layer = layers.Convolution2D(8, 3, 3, border_mode='same')(layer)\n",
    "    layer = layers.Activation('relu')(layer)\n",
    "    layer = layers.MaxPooling2D(pool_size=(2,2))(layer)\n",
    "    layer = layers.Convolution2D(32, 3, 3, border_mode='same')(layer)\n",
    "    layer = layers.Activation('relu')(layer)\n",
    "    layer = layers.Convolution2D(32, 3, 3, border_mode='same')(layer)\n",
    "    layer = layers.Activation('relu')(layer)\n",
    "    layer = layers.Flatten()(layer)\n",
    "    layer = layers.merge([layer, seed_input_layer], mode='concat', concat_axis=1)\n",
    "    layer = layers.Dense(400)(layer)\n",
    "    layer = layers.RepeatVector(det_depth)(layer)\n",
    "    layer = layers.LSTM(400, return_sequences=True)(layer)\n",
    "    # Output a softmax over all pixels in the x- and y-directions\n",
    "    layer_x = layers.TimeDistributed(layers.Dense(det_depth, activation='softmax'))(layer)\n",
    "    layer_y = layers.TimeDistributed(layers.Dense(det_width, activation='softmax'))(layer)\n",
    "    output_layer_x = kl_regularizer.KLRegularization(k=1e-4)(layer_x)\n",
    "    output_layer_y = kl_regularizer.KLRegularization(k=1e-4)(layer_y)\n",
    "    model = models.Model(input=[input_layer, seed_input_layer], output=[output_layer_x, output_layer_y])\n",
    "    model.compile(loss='sparse_categorical_crossentropy', optimizer='Adam', sample_weight_mode='temporal')\n",
    "    return model"
   ]
  },
  {
   "cell_type": "code",
   "execution_count": 56,
   "metadata": {
    "collapsed": false
   },
   "outputs": [
    {
     "name": "stdout",
     "output_type": "stream",
     "text": [
      "Epoch 1/20\n",
      "256000/256000 [==============================] - 245s - loss: 3.8104 - klregularization_17_loss: 1.1690 - klregularization_18_loss: 2.2386   \n",
      "Epoch 2/20\n",
      "256000/256000 [==============================] - 246s - loss: 3.0182 - klregularization_17_loss: 0.9088 - klregularization_18_loss: 1.5928   \n",
      "Epoch 3/20\n",
      "256000/256000 [==============================] - 255s - loss: 2.7924 - klregularization_17_loss: 0.8763 - klregularization_18_loss: 1.3661   \n",
      "Epoch 4/20\n",
      "256000/256000 [==============================] - 246s - loss: 2.6784 - klregularization_17_loss: 0.8777 - klregularization_18_loss: 1.2347   \n",
      "Epoch 5/20\n",
      "256000/256000 [==============================] - 259s - loss: 2.6600 - klregularization_17_loss: 0.9165 - klregularization_18_loss: 1.1826   \n",
      "Epoch 6/20\n",
      "256000/256000 [==============================] - 266s - loss: 2.6621 - klregularization_17_loss: 0.9386 - klregularization_18_loss: 1.1618   \n",
      "Epoch 7/20\n",
      "256000/256000 [==============================] - 256s - loss: 2.5775 - klregularization_17_loss: 0.8982 - klregularization_18_loss: 1.0996   \n",
      "Epoch 8/20\n",
      "256000/256000 [==============================] - 273s - loss: 2.5286 - klregularization_17_loss: 0.8867 - klregularization_18_loss: 1.0501   \n",
      "Epoch 9/20\n",
      "256000/256000 [==============================] - 287s - loss: 2.4386 - klregularization_17_loss: 0.8499 - klregularization_18_loss: 0.9771   \n",
      "Epoch 10/20\n",
      "256000/256000 [==============================] - 267s - loss: 2.4173 - klregularization_17_loss: 0.8492 - klregularization_18_loss: 0.9528   \n",
      "Epoch 11/20\n",
      "256000/256000 [==============================] - 245s - loss: 2.5474 - klregularization_17_loss: 0.9384 - klregularization_18_loss: 1.0258   \n",
      "Epoch 12/20\n",
      "256000/256000 [==============================] - 256s - loss: 2.4300 - klregularization_17_loss: 0.8841 - klregularization_18_loss: 0.9406   \n",
      "Epoch 13/20\n",
      "256000/256000 [==============================] - 245s - loss: 2.3848 - klregularization_17_loss: 0.8592 - klregularization_18_loss: 0.9060   \n",
      "Epoch 14/20\n",
      "256000/256000 [==============================] - 245s - loss: 2.3507 - klregularization_17_loss: 0.8487 - klregularization_18_loss: 0.8756   \n",
      "Epoch 15/20\n",
      "256000/256000 [==============================] - 245s - loss: 2.3377 - klregularization_17_loss: 0.8481 - klregularization_18_loss: 0.8617   \n",
      "Epoch 16/20\n",
      "256000/256000 [==============================] - 264s - loss: 2.3291 - klregularization_17_loss: 0.8480 - klregularization_18_loss: 0.8503   \n",
      "Epoch 17/20\n",
      "256000/256000 [==============================] - 246s - loss: 2.5455 - klregularization_17_loss: 0.9624 - klregularization_18_loss: 0.9914   \n",
      "Epoch 18/20\n",
      "256000/256000 [==============================] - 246s - loss: 2.5650 - klregularization_17_loss: 0.9699 - klregularization_18_loss: 1.0195   \n",
      "Epoch 19/20\n",
      "256000/256000 [==============================] - 245s - loss: 2.3681 - klregularization_17_loss: 0.8813 - klregularization_18_loss: 0.8663   \n",
      "Epoch 20/20\n",
      "256000/256000 [==============================] - 246s - loss: 2.3022 - klregularization_17_loss: 0.8538 - klregularization_18_loss: 0.8129   \n",
      "CPU times: user 1h 28min 10s, sys: 47min 8s, total: 2h 15min 18s\n",
      "Wall time: 1h 25min 5s\n"
     ]
    },
    {
     "data": {
      "text/plain": [
       "<keras.callbacks.History at 0x7f0aae8edc90>"
      ]
     },
     "execution_count": 56,
     "metadata": {},
     "output_type": "execute_result"
    }
   ],
   "source": [
    "# Train the model\n",
    "model_3 = build_model_3()\n",
    "train_generator = gen_multi_tracks()\n",
    "%time model_3.fit_generator(train_generator, epoch_size, 20)"
   ]
  },
  {
   "cell_type": "code",
   "execution_count": 57,
   "metadata": {
    "collapsed": false
   },
   "outputs": [
    {
     "data": {
      "image/png": "[encoded data removed]",
      "text/plain": [
       "<matplotlib.figure.Figure at 0x7f0aa987fcd0>"
      ]
     },
     "metadata": {},
     "output_type": "display_data"
    }
   ],
   "source": [
    "visualize_n(model_3)"
   ]
  },
  {
   "cell_type": "code",
   "execution_count": null,
   "metadata": {
    "collapsed": true
   },
   "outputs": [],
   "source": []
  }
 ],
 "metadata": {
  "kernelspec": {
   "display_name": "Python 2",
   "language": "python",
   "name": "python2"
  },
  "language_info": {
   "codemirror_mode": {
    "name": "ipython",
    "version": 2
   },
   "file_extension": ".py",
   "mimetype": "text/x-python",
   "name": "python",
   "nbconvert_exporter": "python",
   "pygments_lexer": "ipython2",
   "version": "2.7.9"
  }
 },
 "nbformat": 4,
 "nbformat_minor": 0
}
