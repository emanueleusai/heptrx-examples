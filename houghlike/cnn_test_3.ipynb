{
 "cells": [
  {
   "cell_type": "markdown",
   "metadata": {},
   "source": [
    "At the end of the last notebook, I realized that the MSE loss function I used was not appropriate, because the track slope and track intercept have different scales.  A simple solution to this problem is to scale the target slope values during training.  I'll begin by trying that.\n",
    "\n",
    "Author: Dustin Anderson"
   ]
  },
  {
   "cell_type": "code",
   "execution_count": 1,
   "metadata": {
    "collapsed": false
   },
   "outputs": [
    {
     "name": "stderr",
     "output_type": "stream",
     "text": [
      "Using Theano backend.\n"
     ]
    },
    {
     "name": "stdout",
     "output_type": "stream",
     "text": [
      "Couldn't import dot_parser, loading of dot files will not be possible.\n"
     ]
    },
    {
     "name": "stderr",
     "output_type": "stream",
     "text": [
      "INFO (theano.gof.compilelock): Waiting for existing lock by process '6808' (I am process '8717')\n",
      "INFO (theano.gof.compilelock): To manually release the lock, delete /home/duanders/.theano/compiledir_Linux-3.19--generic-x86_64-with-Ubuntu-15.04-vivid-x86_64-2.7.9-64/lock_dir\n",
      "Using gpu device 0: GeForce GTX TITAN X (CNMeM is disabled, cuDNN 5005)\n"
     ]
    }
   ],
   "source": [
    "# Standard imports\n",
    "import sys\n",
    "\n",
    "# Package imports\n",
    "import numpy as np\n",
    "np.random.seed(2341)\n",
    "\n",
    "import matplotlib.pyplot as plt\n",
    "%matplotlib inline\n",
    "\n",
    "from keras import models, layers\n",
    "from keras.preprocessing.sequence import pad_sequences\n",
    "\n",
    "\n",
    "# Local imports\n",
    "sys.path.append(\"/home/duanders/AI-HEP.Trk/discrete_extraps\")\n",
    "from drawing import draw_event, draw_input_and_pred"
   ]
  },
  {
   "cell_type": "code",
   "execution_count": 12,
   "metadata": {
    "collapsed": true
   },
   "outputs": [],
   "source": [
    "# Training parameters\n",
    "batch_size = 256\n",
    "epoch_size = 256000\n",
    "num_epochs = 30\n",
    "\n",
    "# Data parameters\n",
    "det_width = 50\n",
    "det_depth = 50\n",
    "det_shape = (det_width, det_depth)\n",
    "\n",
    "# Scale track slopes up so that slopes and intercepts receive equal weights in the loss function.\n",
    "slope_scale = det_width/2\n",
    "\n",
    "# Number of tracks in each event follows Poisson distribution\n",
    "mean_tracks = 3\n",
    "max_tracks = 6"
   ]
  },
  {
   "cell_type": "code",
   "execution_count": 13,
   "metadata": {
    "collapsed": true
   },
   "outputs": [],
   "source": [
    "def simulate_straight_track(m, b, det_shape):\n",
    "    \"\"\"\n",
    "    Simulate detector data for one straight track.\n",
    "    Parameters:\n",
    "        m: track slope parameter\n",
    "        b: track first-layer intercept parameter (detector entry point)\n",
    "        det_shape: tuple of detector shape: (depth, width)\n",
    "    Returns:\n",
    "        ndarray of binary detector data for one track.\n",
    "    \"\"\"\n",
    "    x = np.zeros(det_shape)\n",
    "    idx = np.arange(det_shape[0])\n",
    "    hits = (idx*m + b).astype(int)\n",
    "    valid = (hits > 0) & (hits < det_shape[1])\n",
    "    x[idx[valid], hits[valid]] = 1\n",
    "    return x\n",
    "\n",
    "# Generator for single-track events\n",
    "def gen_tracks(batch_size=batch_size, det_shape=det_shape):\n",
    "    \"\"\"Arguments: \n",
    "         batch_size: number of events to yield for each call\n",
    "       Yields: batches of training data for use with the keras fit_generator function\n",
    "    \"\"\"\n",
    "    while True:\n",
    "        # Entry and exit points are randomized\n",
    "        bs = np.random.random_sample(size=batch_size)*det_width\n",
    "        b2s = np.random.random_sample(size=batch_size)*det_width\n",
    "        ms = (b2s-bs)/det_depth*slope_scale # scaled slope\n",
    "        tracks = np.zeros((batch_size, 1, det_depth, det_width))\n",
    "        targets = zip(bs, ms)\n",
    "        for i, (b, m) in enumerate(targets):\n",
    "            tracks[i,0] = simulate_straight_track(m/slope_scale, b, det_shape)\n",
    "        targets = np.asarray(targets)\n",
    "        yield tracks, targets\n",
    "        \n",
    "# Generator for multi-track events.\n",
    "# Each event contains exactly n_tracks tracks.\n",
    "# The target track parameters are sorted in increasing order of intercept.\n",
    "def gen_n_tracks(batch_size=batch_size, det_shape=det_shape, n_tracks=mean_tracks):\n",
    "    gen_single = gen_tracks(batch_size=n_tracks, det_shape=det_shape)\n",
    "    while True:\n",
    "        batch_events = np.zeros((batch_size, 1, det_depth, det_width))\n",
    "        batch_targets = -np.ones((batch_size, n_tracks, 2))\n",
    "        for n in range(batch_size):\n",
    "            tracks,targets = gen_single.next()\n",
    "            batch_events[n,0] = np.clip( sum( tracks ), 0, 1)\n",
    "            event_targets = np.asarray(targets)\n",
    "            batch_targets[n] = event_targets[event_targets[:,0].argsort()] # sort by first column\n",
    "        yield batch_events, batch_targets\n",
    "        \n",
    "# Generator for multi-track events.\n",
    "# Each event contains up to max_tracks tracks.\n",
    "# The target track parameters are sorted in increasing order of intercept.\n",
    "def gen_multi_tracks(batch_size=batch_size, det_shape=det_shape, mean_tracks=mean_tracks):\n",
    "    gen_single = gen_tracks(batch_size=max_tracks, det_shape=det_shape)\n",
    "    while True:\n",
    "        batch_events = np.zeros((batch_size, 1, det_depth, det_width))\n",
    "        batch_targets = -np.ones((batch_size, max_tracks, 2))\n",
    "        for n in range(batch_size):\n",
    "            num_tracks = min( max_tracks, np.random.poisson(mean_tracks) )\n",
    "            tracks,targets = gen_single.next()\n",
    "            batch_events[n,0] = np.clip( sum( tracks[:num_tracks] ), 0, 1)\n",
    "            event_targets = np.asarray(targets[:num_tracks])\n",
    "            batch_targets[n,:num_tracks] = event_targets[event_targets[:,0].argsort()] # sort by first column\n",
    "        yield batch_events, batch_targets"
   ]
  },
  {
   "cell_type": "code",
   "execution_count": 11,
   "metadata": {
    "collapsed": false
   },
   "outputs": [
    {
     "name": "stdout",
     "output_type": "stream",
     "text": [
      "[[  8.98741292  18.93051426]\n",
      " [ 35.83229335  -1.19781842]\n",
      " [ 41.75871646  -4.3466387 ]\n",
      " [ -1.          -1.        ]\n",
      " [ -1.          -1.        ]\n",
      " [ -1.          -1.        ]]\n"
     ]
    },
    {
     "data": {
      "image/png": "[encoded data removed]",
      "text/plain": [
       "<matplotlib.figure.Figure at 0x7f24b002a250>"
      ]
     },
     "metadata": {},
     "output_type": "display_data"
    }
   ],
   "source": [
    "# Test the multi-track generator\n",
    "tracks, targets = gen_multi_tracks().next()\n",
    "draw_event(tracks[0,0])\n",
    "print targets[0]"
   ]
  },
  {
   "cell_type": "code",
   "execution_count": 15,
   "metadata": {
    "collapsed": true
   },
   "outputs": [],
   "source": [
    "# Generate a fixed dataset of multi-track events\n",
    "epoch_size = 512000\n",
    "gen_single = gen_tracks(batch_size=max_tracks, det_shape=det_shape)\n",
    "\n",
    "train_events = np.zeros((epoch_size, 1, det_depth, det_width))\n",
    "train_targets = -99 * np.ones((epoch_size, max_tracks, 2))\n",
    "train_weights = np.zeros((epoch_size, max_tracks))\n",
    "for n in range(epoch_size):\n",
    "    num_tracks = min( max_tracks, np.random.poisson(mean_tracks) )\n",
    "    tracks,targets = gen_single.next()\n",
    "    train_events[n,0] = np.clip( sum( tracks[:num_tracks] ), 0, 1)\n",
    "    event_targets = np.asarray(targets[:num_tracks])\n",
    "    train_targets[n,:num_tracks] = event_targets[event_targets[:,0].argsort()] # sort by first column\n",
    "    train_weights[n,:num_tracks] = np.ones((num_tracks))"
   ]
  },
  {
   "cell_type": "code",
   "execution_count": 16,
   "metadata": {
    "collapsed": false
   },
   "outputs": [
    {
     "name": "stdout",
     "output_type": "stream",
     "text": [
      "[[  8.07455367  17.88022695]\n",
      " [ 11.55698913  14.17692511]\n",
      " [ 45.72336735 -21.01024342]\n",
      " [ 49.79383818 -23.31124236]\n",
      " [-99.         -99.        ]\n",
      " [-99.         -99.        ]]\n",
      "[ 1.  1.  1.  1.  0.  0.]\n"
     ]
    },
    {
     "data": {
      "image/png": "[encoded data removed]",
      "text/plain": [
       "<matplotlib.figure.Figure at 0x7f24b006f2d0>"
      ]
     },
     "metadata": {},
     "output_type": "display_data"
    }
   ],
   "source": [
    "# Check the training data\n",
    "test_index = np.random.randint(epoch_size)\n",
    "draw_event(train_events[test_index,0])\n",
    "print train_targets[test_index]\n",
    "print train_weights[test_index]"
   ]
  },
  {
   "cell_type": "markdown",
   "metadata": {},
   "source": [
    "## Reuse Model 5: convnet + LSTM"
   ]
  },
  {
   "cell_type": "code",
   "execution_count": 14,
   "metadata": {
    "collapsed": true
   },
   "outputs": [],
   "source": [
    "# Model\n",
    "def build_model_5():\n",
    "    \"\"\"Test model.  Consists of several convolutional layers followed by dense layers and an LSTM\"\"\"\n",
    "    input_layer = layers.Input(shape=(1, det_depth, det_width))\n",
    "    layer = layers.Convolution2D(8, 3, 3, border_mode='same')(input_layer)\n",
    "    layer = layers.Activation('relu')(layer)\n",
    "    layer = layers.Convolution2D(8, 3, 3, border_mode='same')(layer)\n",
    "    layer = layers.Activation('relu')(layer)\n",
    "    layer = layers.MaxPooling2D(pool_size=(2,2))(layer)\n",
    "    layer = layers.Convolution2D(16, 3, 3, border_mode='same')(layer)\n",
    "    layer = layers.Activation('relu')(layer)\n",
    "    layer = layers.Convolution2D(16, 3, 3, border_mode='same')(layer)\n",
    "    layer = layers.Activation('relu')(layer)\n",
    "    layer = layers.Flatten()(layer)\n",
    "    layer = layers.Dense(20)(layer)\n",
    "    layer = layers.RepeatVector(max_tracks)(layer)\n",
    "    layer = layers.LSTM(20, return_sequences=True)(layer)\n",
    "    output_layer = layers.TimeDistributed(layers.Dense(2))(layer)\n",
    "    model = models.Model(input=input_layer, output=output_layer)\n",
    "    model.compile(loss='mean_squared_error', optimizer='Adam', sample_weight_mode=\"temporal\")\n",
    "    return model"
   ]
  },
  {
   "cell_type": "code",
   "execution_count": 17,
   "metadata": {
    "collapsed": false
   },
   "outputs": [
    {
     "name": "stdout",
     "output_type": "stream",
     "text": [
      "Train on 460800 samples, validate on 51200 samples\n",
      "Epoch 1/30\n",
      "460800/460800 [==============================] - 62s - loss: 265.5018 - val_loss: 178.7166\n",
      "Epoch 2/30\n",
      "460800/460800 [==============================] - 63s - loss: 168.7316 - val_loss: 150.5135\n",
      "Epoch 3/30\n",
      "460800/460800 [==============================] - 63s - loss: 141.6921 - val_loss: 138.7504\n",
      "Epoch 4/30\n",
      "460800/460800 [==============================] - 63s - loss: 137.7831 - val_loss: 137.4656\n",
      "Epoch 5/30\n",
      "460800/460800 [==============================] - 62s - loss: 136.4245 - val_loss: 135.9449\n",
      "Epoch 6/30\n",
      "460800/460800 [==============================] - 63s - loss: 134.7643 - val_loss: 134.1868\n",
      "Epoch 7/30\n",
      "460800/460800 [==============================] - 63s - loss: 133.0067 - val_loss: 132.4497\n",
      "Epoch 8/30\n",
      "460800/460800 [==============================] - 63s - loss: 131.3331 - val_loss: 130.8504\n",
      "Epoch 9/30\n",
      "460800/460800 [==============================] - 63s - loss: 129.8044 - val_loss: 129.3767\n",
      "Epoch 10/30\n",
      "460800/460800 [==============================] - 62s - loss: 128.4020 - val_loss: 128.0311\n",
      "Epoch 11/30\n",
      "460800/460800 [==============================] - 63s - loss: 127.1105 - val_loss: 126.8047\n",
      "Epoch 12/30\n",
      "460800/460800 [==============================] - 63s - loss: 125.9523 - val_loss: 125.6992\n",
      "Epoch 13/30\n",
      "460800/460800 [==============================] - 63s - loss: 124.8988 - val_loss: 124.6933\n",
      "Epoch 14/30\n",
      "460800/460800 [==============================] - 63s - loss: 123.9527 - val_loss: 123.7984\n",
      "Epoch 15/30\n",
      "460800/460800 [==============================] - 62s - loss: 123.1033 - val_loss: 122.9791\n",
      "Epoch 16/30\n",
      "460800/460800 [==============================] - 63s - loss: 122.3227 - val_loss: 122.2504\n",
      "Epoch 17/30\n",
      "460800/460800 [==============================] - 63s - loss: 121.6349 - val_loss: 121.5886\n",
      "Epoch 18/30\n",
      "460800/460800 [==============================] - 63s - loss: 121.0089 - val_loss: 120.9910\n",
      "Epoch 19/30\n",
      "460800/460800 [==============================] - 63s - loss: 120.4499 - val_loss: 120.4606\n",
      "Epoch 20/30\n",
      "460800/460800 [==============================] - 63s - loss: 119.9413 - val_loss: 119.9902\n",
      "Epoch 21/30\n",
      "460800/460800 [==============================] - 63s - loss: 119.5105 - val_loss: 119.5733\n",
      "Epoch 22/30\n",
      "460800/460800 [==============================] - 63s - loss: 119.1058 - val_loss: 119.1888\n",
      "Epoch 23/30\n",
      "460800/460800 [==============================] - 63s - loss: 118.7453 - val_loss: 118.8487\n",
      "Epoch 24/30\n",
      "460800/460800 [==============================] - 63s - loss: 118.4323 - val_loss: 118.5468\n",
      "Epoch 25/30\n",
      "460800/460800 [==============================] - 63s - loss: 118.1446 - val_loss: 118.2919\n",
      "Epoch 26/30\n",
      "460800/460800 [==============================] - 63s - loss: 117.8863 - val_loss: 118.0381\n",
      "Epoch 27/30\n",
      "460800/460800 [==============================] - 63s - loss: 117.6588 - val_loss: 117.8196\n",
      "Epoch 28/30\n",
      "460800/460800 [==============================] - 63s - loss: 117.4611 - val_loss: 117.6308\n",
      "Epoch 29/30\n",
      "460800/460800 [==============================] - 63s - loss: 117.2862 - val_loss: 117.4569\n",
      "Epoch 30/30\n",
      "460800/460800 [==============================] - 62s - loss: 117.1195 - val_loss: 117.3046\n"
     ]
    },
    {
     "data": {
      "text/plain": [
       "<keras.callbacks.History at 0x7f222e865b90>"
      ]
     },
     "execution_count": 17,
     "metadata": {},
     "output_type": "execute_result"
    }
   ],
   "source": [
    "# Train the model\n",
    "model_5 = build_model_5()\n",
    "model_5.fit(train_events, train_targets, batch_size=batch_size, nb_epoch=num_epochs, \n",
    "           validation_split=0.1, sample_weight=train_weights)"
   ]
  },
  {
   "cell_type": "code",
   "execution_count": 23,
   "metadata": {
    "collapsed": false
   },
   "outputs": [
    {
     "name": "stdout",
     "output_type": "stream",
     "text": [
      "[[ 14.24335667   5.7265669 ]\n",
      " [ 36.06311396  -9.12302841]]\n",
      "[[ 15.76988029   5.13383102]\n",
      " [ 28.34655952  -1.8235054 ]]\n"
     ]
    },
    {
     "data": {
      "image/png": "[encoded data removed]",
      "text/plain": [
       "<matplotlib.figure.Figure at 0x7f221a3e18d0>"
      ]
     },
     "metadata": {},
     "output_type": "display_data"
    }
   ],
   "source": [
    "# Visualize prediction\n",
    "test_index = np.random.randint(epoch_size*0.9,epoch_size)\n",
    "test_event = train_events[test_index]\n",
    "test_weights = train_weights[test_index].astype(np.bool_)\n",
    "test_target = train_targets[test_index][test_weights]\n",
    "test_pred = model_5.predict(np.asarray([test_event]))[0][test_weights]\n",
    "print test_target\n",
    "print test_pred\n",
    "pred_event = np.clip(sum([ simulate_straight_track(line[1]/slope_scale, line[0], det_shape) for line in test_pred ]), 0, 1)\n",
    "draw_input_and_pred(test_event[0], pred_event)"
   ]
  },
  {
   "cell_type": "markdown",
   "metadata": {},
   "source": [
    "Still not good!  This time the final value of the loss reflects that.  \n",
    "\n",
    "Let's see how we do on the 3-track model.  "
   ]
  },
  {
   "cell_type": "code",
   "execution_count": 24,
   "metadata": {
    "collapsed": true
   },
   "outputs": [],
   "source": [
    "# Model\n",
    "def build_model_4():\n",
    "    \"\"\"Test model.  Consists of several convolutional layers followed by dense layers and an LSTM\"\"\"\n",
    "    input_layer = layers.Input(shape=(1, det_depth, det_width))\n",
    "    layer = layers.Convolution2D(8, 3, 3, border_mode='same')(input_layer)\n",
    "    layer = layers.Activation('relu')(layer)\n",
    "    layer = layers.Convolution2D(8, 3, 3, border_mode='same')(layer)\n",
    "    layer = layers.Activation('relu')(layer)\n",
    "    layer = layers.MaxPooling2D(pool_size=(2,2))(layer)\n",
    "    layer = layers.Convolution2D(16, 3, 3, border_mode='same')(layer)\n",
    "    layer = layers.Activation('relu')(layer)\n",
    "    layer = layers.Convolution2D(16, 3, 3, border_mode='same')(layer)\n",
    "    layer = layers.Activation('relu')(layer)\n",
    "    layer = layers.Flatten()(layer)\n",
    "    layer = layers.Dense(20)(layer)\n",
    "    layer = layers.RepeatVector(mean_tracks)(layer)\n",
    "    layer = layers.LSTM(20, return_sequences=True)(layer)\n",
    "    output_layer = layers.TimeDistributed(layers.Dense(2))(layer)\n",
    "    model = models.Model(input=input_layer, output=output_layer)\n",
    "    model.compile(loss='mean_squared_error', optimizer='Adam')\n",
    "    return model"
   ]
  },
  {
   "cell_type": "code",
   "execution_count": 25,
   "metadata": {
    "collapsed": false
   },
   "outputs": [
    {
     "name": "stdout",
     "output_type": "stream",
     "text": [
      "Epoch 1/30\n",
      "512000/512000 [==============================] - 80s - loss: 220.3609    \n",
      "Epoch 2/30\n",
      "512000/512000 [==============================] - 86s - loss: 134.8920    \n",
      "Epoch 3/30\n",
      "512000/512000 [==============================] - 85s - loss: 131.7493    \n",
      "Epoch 4/30\n",
      "512000/512000 [==============================] - 91s - loss: 129.6303    \n",
      "Epoch 5/30\n",
      "512000/512000 [==============================] - 91s - loss: 126.9645    \n",
      "Epoch 6/30\n",
      "512000/512000 [==============================] - 91s - loss: 124.1151    \n",
      "Epoch 7/30\n",
      "512000/512000 [==============================] - 91s - loss: 121.6479    \n",
      "Epoch 8/30\n",
      "512000/512000 [==============================] - 96s - loss: 119.3344    \n",
      "Epoch 9/30\n",
      "512000/512000 [==============================] - 89s - loss: 117.2495    \n",
      "Epoch 10/30\n",
      "512000/512000 [==============================] - 92s - loss: 115.4894    \n",
      "Epoch 11/30\n",
      "512000/512000 [==============================] - 93s - loss: 113.8051    \n",
      "Epoch 12/30\n",
      "512000/512000 [==============================] - 89s - loss: 112.1835    \n",
      "Epoch 13/30\n",
      "512000/512000 [==============================] - 92s - loss: 111.0815    \n",
      "Epoch 14/30\n",
      "512000/512000 [==============================] - 81s - loss: 109.7511    \n",
      "Epoch 15/30\n",
      "512000/512000 [==============================] - 86s - loss: 108.3576    \n",
      "Epoch 16/30\n",
      "512000/512000 [==============================] - 89s - loss: 107.6883    \n",
      "Epoch 17/30\n",
      "512000/512000 [==============================] - 89s - loss: 106.9244    \n",
      "Epoch 18/30\n",
      "512000/512000 [==============================] - 92s - loss: 106.1393    \n",
      "Epoch 19/30\n",
      "512000/512000 [==============================] - 89s - loss: 105.3850    \n",
      "Epoch 20/30\n",
      "512000/512000 [==============================] - 85s - loss: 104.8239    \n",
      "Epoch 21/30\n",
      "512000/512000 [==============================] - 91s - loss: 104.2532    \n",
      "Epoch 22/30\n",
      "512000/512000 [==============================] - 90s - loss: 103.8683    \n",
      "Epoch 23/30\n",
      "512000/512000 [==============================] - 88s - loss: 103.5079    \n",
      "Epoch 24/30\n",
      "512000/512000 [==============================] - 92s - loss: 103.2381    \n",
      "Epoch 25/30\n",
      "512000/512000 [==============================] - 89s - loss: 102.7602    \n",
      "Epoch 26/30\n",
      "512000/512000 [==============================] - 94s - loss: 102.7275    \n",
      "Epoch 27/30\n",
      "512000/512000 [==============================] - 94s - loss: 102.4066    \n",
      "Epoch 28/30\n",
      "512000/512000 [==============================] - 90s - loss: 102.1960    \n",
      "Epoch 29/30\n",
      "512000/512000 [==============================] - 92s - loss: 101.9924    \n",
      "Epoch 30/30\n",
      "512000/512000 [==============================] - 91s - loss: 102.0891    \n",
      "CPU times: user 47min 51s, sys: 20min 54s, total: 1h 8min 45s\n",
      "Wall time: 45min 12s\n"
     ]
    },
    {
     "data": {
      "text/plain": [
       "<keras.callbacks.History at 0x7f221478efd0>"
      ]
     },
     "execution_count": 25,
     "metadata": {},
     "output_type": "execute_result"
    }
   ],
   "source": [
    "# Train the model\n",
    "model_4 = build_model_4()\n",
    "train_generator = gen_n_tracks()\n",
    "%time model_4.fit_generator(train_generator, epoch_size, num_epochs)"
   ]
  },
  {
   "cell_type": "code",
   "execution_count": 30,
   "metadata": {
    "collapsed": false
   },
   "outputs": [
    {
     "name": "stdout",
     "output_type": "stream",
     "text": [
      "[[  5.08268829  18.18189701]\n",
      " [ 33.2038575   -0.93704283]\n",
      " [ 35.46029442  -1.42629854]]\n",
      "[[ 13.70794868   6.15994835]\n",
      " [ 29.64097023  -2.49655724]\n",
      " [ 32.08303833  -3.82335281]]\n"
     ]
    },
    {
     "data": {
      "image/png": "[encoded data removed]",
      "text/plain": [
       "<matplotlib.figure.Figure at 0x7f2213d00710>"
      ]
     },
     "metadata": {},
     "output_type": "display_data"
    }
   ],
   "source": [
    "# Visualize prediction\n",
    "test_data = gen_n_tracks().next()\n",
    "test_event = test_data[0][0]\n",
    "test_target = test_data[1][0]\n",
    "test_pred = model_4.predict(np.asarray([test_event]))[0]\n",
    "print test_target\n",
    "print test_pred\n",
    "pred_event = np.clip(sum([ simulate_straight_track(line[1]/slope_scale, line[0], det_shape) for line in test_pred ]), 0, 1)\n",
    "draw_input_and_pred(test_event[0], pred_event)"
   ]
  },
  {
   "cell_type": "markdown",
   "metadata": {},
   "source": [
    "I want to see if we improve things by optimizing the model design a bit.  Right now we decrease the number of model parameters as we move through the network.  Let's try keeping it constant.  \n",
    "\n",
    "We start with 8 50x50 convolutional filters.  Then we max-pool, decreasing the number of pixels by a factor of 4.  Let's increase the number of filters by a factor of 4 to compensate.  And let's increase the sizes of the dense layers and LSTM output.  "
   ]
  },
  {
   "cell_type": "markdown",
   "metadata": {},
   "source": [
    "## Model 6: increase layer sizes and number of filters in Model 4"
   ]
  },
  {
   "cell_type": "code",
   "execution_count": 31,
   "metadata": {
    "collapsed": true
   },
   "outputs": [],
   "source": [
    "# Model\n",
    "def build_model_6():\n",
    "    \"\"\"Test model.  Consists of several convolutional layers followed by dense layers and an LSTM\"\"\"\n",
    "    input_layer = layers.Input(shape=(1, det_depth, det_width))\n",
    "    layer = layers.Convolution2D(8, 3, 3, border_mode='same')(input_layer)\n",
    "    layer = layers.Activation('relu')(layer)\n",
    "    layer = layers.Convolution2D(8, 3, 3, border_mode='same')(layer)\n",
    "    layer = layers.Activation('relu')(layer)\n",
    "    layer = layers.MaxPooling2D(pool_size=(2,2))(layer)\n",
    "    layer = layers.Convolution2D(32, 3, 3, border_mode='same')(layer)\n",
    "    layer = layers.Activation('relu')(layer)\n",
    "    layer = layers.Convolution2D(32, 3, 3, border_mode='same')(layer)\n",
    "    layer = layers.Activation('relu')(layer)\n",
    "    layer = layers.Flatten()(layer)\n",
    "    layer = layers.Dense(400)(layer)\n",
    "    layer = layers.RepeatVector(mean_tracks)(layer)\n",
    "    layer = layers.LSTM(400, return_sequences=True)(layer)\n",
    "    output_layer = layers.TimeDistributed(layers.Dense(2))(layer)\n",
    "    model = models.Model(input=input_layer, output=output_layer)\n",
    "    model.compile(loss='mean_squared_error', optimizer='Adam')\n",
    "    return model"
   ]
  },
  {
   "cell_type": "code",
   "execution_count": 33,
   "metadata": {
    "collapsed": false
   },
   "outputs": [
    {
     "name": "stdout",
     "output_type": "stream",
     "text": [
      "Epoch 1/10\n",
      "512000/512000 [==============================] - 126s - loss: 26.9673   \n",
      "Epoch 2/10\n",
      "512000/512000 [==============================] - 126s - loss: 1.0135   \n",
      "Epoch 3/10\n",
      "512000/512000 [==============================] - 127s - loss: 0.7789   \n",
      "Epoch 4/10\n",
      "512000/512000 [==============================] - 127s - loss: 0.6997   \n",
      "Epoch 5/10\n",
      "512000/512000 [==============================] - 127s - loss: 0.6489   \n",
      "Epoch 6/10\n",
      "512000/512000 [==============================] - 126s - loss: 0.5969   \n",
      "Epoch 7/10\n",
      "512000/512000 [==============================] - 125s - loss: 0.5512   \n",
      "Epoch 8/10\n",
      "512000/512000 [==============================] - 127s - loss: 0.5391   \n",
      "Epoch 9/10\n",
      "512000/512000 [==============================] - 126s - loss: 0.5210   \n",
      "Epoch 10/10\n",
      "512000/512000 [==============================] - 125s - loss: 0.5096   \n",
      "CPU times: user 19min 38s, sys: 13min 1s, total: 32min 40s\n",
      "Wall time: 21min 16s\n"
     ]
    },
    {
     "data": {
      "text/plain": [
       "<keras.callbacks.History at 0x7f2212974150>"
      ]
     },
     "execution_count": 33,
     "metadata": {},
     "output_type": "execute_result"
    }
   ],
   "source": [
    "# Train the model\n",
    "model_6 = build_model_6()\n",
    "train_generator = gen_n_tracks()\n",
    "%time model_6.fit_generator(train_generator, epoch_size, 10)"
   ]
  },
  {
   "cell_type": "code",
   "execution_count": 42,
   "metadata": {
    "collapsed": false
   },
   "outputs": [
    {
     "name": "stdout",
     "output_type": "stream",
     "text": [
      "[[ 12.44626238  -4.06360878]\n",
      " [ 24.40380869   5.4338615 ]\n",
      " [ 46.99184292 -14.77915867]]\n",
      "[[ 12.30691338  -4.33905554]\n",
      " [ 24.47769165   6.45440435]\n",
      " [ 46.9777565  -14.66608238]]\n"
     ]
    },
    {
     "data": {
      "image/png": "[encoded data removed]",
      "text/plain": [
       "<matplotlib.figure.Figure at 0x7f22057de710>"
      ]
     },
     "metadata": {},
     "output_type": "display_data"
    }
   ],
   "source": [
    "# Visualize prediction\n",
    "test_data = gen_n_tracks().next()\n",
    "test_event = test_data[0][0]\n",
    "test_target = test_data[1][0]\n",
    "test_pred = model_6.predict(np.asarray([test_event]))[0]\n",
    "print test_target\n",
    "print test_pred\n",
    "pred_event = np.clip(sum([ simulate_straight_track(line[1]/slope_scale, line[0], det_shape) for line in test_pred ]), 0, 1)\n",
    "draw_input_and_pred(test_event[0], pred_event)"
   ]
  },
  {
   "cell_type": "markdown",
   "metadata": {},
   "source": [
    "It's pretty good!  Let's see how it performs on the variable-number-of-tracks sample."
   ]
  },
  {
   "cell_type": "markdown",
   "metadata": {},
   "source": [
    "## Model 7: increase layer sizes and number of filters in Model 5"
   ]
  },
  {
   "cell_type": "code",
   "execution_count": 43,
   "metadata": {
    "collapsed": true
   },
   "outputs": [],
   "source": [
    "# Model\n",
    "def build_model_7():\n",
    "    \"\"\"Test model.  Consists of several convolutional layers followed by dense layers and an LSTM\"\"\"\n",
    "    input_layer = layers.Input(shape=(1, det_depth, det_width))\n",
    "    layer = layers.Convolution2D(8, 3, 3, border_mode='same')(input_layer)\n",
    "    layer = layers.Activation('relu')(layer)\n",
    "    layer = layers.Convolution2D(8, 3, 3, border_mode='same')(layer)\n",
    "    layer = layers.Activation('relu')(layer)\n",
    "    layer = layers.MaxPooling2D(pool_size=(2,2))(layer)\n",
    "    layer = layers.Convolution2D(32, 3, 3, border_mode='same')(layer)\n",
    "    layer = layers.Activation('relu')(layer)\n",
    "    layer = layers.Convolution2D(32, 3, 3, border_mode='same')(layer)\n",
    "    layer = layers.Activation('relu')(layer)\n",
    "    layer = layers.Flatten()(layer)\n",
    "    layer = layers.Dense(400)(layer)\n",
    "    layer = layers.RepeatVector(max_tracks)(layer)\n",
    "    layer = layers.LSTM(400, return_sequences=True)(layer)\n",
    "    output_layer = layers.TimeDistributed(layers.Dense(2))(layer)\n",
    "    model = models.Model(input=input_layer, output=output_layer)\n",
    "    model.compile(loss='mean_squared_error', optimizer='Adam', sample_weight_mode=\"temporal\")\n",
    "    return model"
   ]
  },
  {
   "cell_type": "code",
   "execution_count": 44,
   "metadata": {
    "collapsed": false
   },
   "outputs": [
    {
     "name": "stdout",
     "output_type": "stream",
     "text": [
      "Train on 460800 samples, validate on 51200 samples\n",
      "Epoch 1/10\n",
      "460800/460800 [==============================] - 119s - loss: 23.8822 - val_loss: 3.7573\n",
      "Epoch 2/10\n",
      "460800/460800 [==============================] - 120s - loss: 2.8856 - val_loss: 2.9094\n",
      "Epoch 3/10\n",
      "460800/460800 [==============================] - 119s - loss: 2.0346 - val_loss: 2.1316\n",
      "Epoch 4/10\n",
      "460800/460800 [==============================] - 120s - loss: 1.8304 - val_loss: 1.7432\n",
      "Epoch 5/10\n",
      "460800/460800 [==============================] - 120s - loss: 1.5603 - val_loss: 1.6232\n",
      "Epoch 6/10\n",
      "460800/460800 [==============================] - 120s - loss: 1.1889 - val_loss: 1.5654\n",
      "Epoch 7/10\n",
      "460800/460800 [==============================] - 120s - loss: 1.1257 - val_loss: 1.5782\n",
      "Epoch 8/10\n",
      "460800/460800 [==============================] - 120s - loss: 0.9432 - val_loss: 1.6396\n",
      "Epoch 9/10\n",
      "460800/460800 [==============================] - 120s - loss: 0.9524 - val_loss: 1.5339\n",
      "Epoch 10/10\n",
      "460800/460800 [==============================] - 120s - loss: 0.7123 - val_loss: 1.6002\n"
     ]
    },
    {
     "data": {
      "text/plain": [
       "<keras.callbacks.History at 0x7f24a227b910>"
      ]
     },
     "execution_count": 44,
     "metadata": {},
     "output_type": "execute_result"
    }
   ],
   "source": [
    "# Train the model\n",
    "model_7 = build_model_7()\n",
    "model_7.fit(train_events, train_targets, batch_size=batch_size, nb_epoch=10, \n",
    "           validation_split=0.1, sample_weight=train_weights)"
   ]
  },
  {
   "cell_type": "code",
   "execution_count": 52,
   "metadata": {
    "collapsed": false
   },
   "outputs": [
    {
     "name": "stdout",
     "output_type": "stream",
     "text": [
      "[[  6.3881758    2.65022966]\n",
      " [ 16.56138783  10.57189958]\n",
      " [ 22.02666699   6.50339801]\n",
      " [ 31.74159886 -11.97084678]\n",
      " [ 37.34763555 -13.28729689]]\n",
      "[[  6.69193983   2.69062376]\n",
      " [ 16.30273628  10.37247658]\n",
      " [ 23.02808762   5.6978693 ]\n",
      " [ 31.67787743 -12.75119209]\n",
      " [ 37.52376938 -13.64584541]]\n"
     ]
    },
    {
     "data": {
      "image/png": "[encoded data removed]",
      "text/plain": [
       "<matplotlib.figure.Figure at 0x7f21ffbb2850>"
      ]
     },
     "metadata": {},
     "output_type": "display_data"
    }
   ],
   "source": [
    "# Visualize prediction\n",
    "test_index = np.random.randint(epoch_size*0.9,epoch_size)\n",
    "test_event = train_events[test_index]\n",
    "test_weights = train_weights[test_index].astype(np.bool_)\n",
    "test_target = train_targets[test_index][test_weights]\n",
    "test_pred = model_7.predict(np.asarray([test_event]))[0][test_weights]\n",
    "print test_target\n",
    "print test_pred\n",
    "pred_event = np.clip(sum([ simulate_straight_track(line[1]/slope_scale, line[0], det_shape) for line in test_pred ]), 0, 1)\n",
    "draw_input_and_pred(test_event[0], pred_event)"
   ]
  },
  {
   "cell_type": "code",
   "execution_count": 53,
   "metadata": {
    "collapsed": true
   },
   "outputs": [],
   "source": [
    "model_7.save(\"model_7_loss1p6002.h5\")"
   ]
  },
  {
   "cell_type": "markdown",
   "metadata": {},
   "source": [
    "Great!!"
   ]
  }
 ],
 "metadata": {
  "kernelspec": {
   "display_name": "Python 2",
   "language": "python",
   "name": "python2"
  },
  "language_info": {
   "codemirror_mode": {
    "name": "ipython",
    "version": 2
   },
   "file_extension": ".py",
   "mimetype": "text/x-python",
   "name": "python",
   "nbconvert_exporter": "python",
   "pygments_lexer": "ipython2",
   "version": "2.7.9"
  }
 },
 "nbformat": 4,
 "nbformat_minor": 0
}
