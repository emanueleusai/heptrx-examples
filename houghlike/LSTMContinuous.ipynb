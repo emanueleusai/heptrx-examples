{
 "cells": [
  {
   "cell_type": "code",
   "execution_count": 1,
   "metadata": {},
   "outputs": [
    {
     "name": "stderr",
     "output_type": "stream",
     "text": [
      "Using TensorFlow backend.\n"
     ]
    }
   ],
   "source": [
    "import glob\n",
    "import numpy as np\n",
    "import matplotlib.pyplot as plt\n",
    "\n",
    "from rnn import RampLSTM, generate_data"
   ]
  },
  {
   "cell_type": "code",
   "execution_count": 2,
   "metadata": {
    "collapsed": true
   },
   "outputs": [],
   "source": [
    "hit_files = glob.glob('hits_*.csv')\n",
    "batch = 256\n",
    "epoch_size = 448000/batch\n",
    "epochs = 10"
   ]
  },
  {
   "cell_type": "code",
   "execution_count": 3,
   "metadata": {
    "collapsed": true
   },
   "outputs": [],
   "source": [
    "gen = generate_data(batch_size=batch, hit_files=hit_files)\n",
    "model = RampLSTM(1000, 100, batch=batch)"
   ]
  },
  {
   "cell_type": "code",
   "execution_count": 4,
   "metadata": {},
   "outputs": [
    {
     "name": "stdout",
     "output_type": "stream",
     "text": [
      "Epoch 1/10\n",
      "1750/1750 [==============================] - 1351s - loss: 0.2401  \n",
      "Epoch 2/10\n",
      "1750/1750 [==============================] - 1336s - loss: 0.1249  \n",
      "Epoch 3/10\n",
      "1750/1750 [==============================] - 1336s - loss: 0.1230  \n",
      "Epoch 4/10\n",
      "1750/1750 [==============================] - 1331s - loss: 0.1165  \n",
      "Epoch 5/10\n",
      "1750/1750 [==============================] - 1329s - loss: 0.1006  \n",
      "Epoch 6/10\n",
      "1750/1750 [==============================] - 1328s - loss: 0.0831  \n",
      "Epoch 7/10\n",
      "1750/1750 [==============================] - 1328s - loss: 0.0717  \n",
      "Epoch 8/10\n",
      "1750/1750 [==============================] - 1330s - loss: 0.0656  \n",
      "Epoch 9/10\n",
      "1750/1750 [==============================] - 1330s - loss: 0.0584  \n",
      "Epoch 10/10\n",
      "1750/1750 [==============================] - 1329s - loss: 0.0547  \n"
     ]
    }
   ],
   "source": [
    "model.train(gen, epoch_size, epochs)\n",
    "model.model.save(\"rnn.h5\")"
   ]
  },
  {
   "cell_type": "code",
   "execution_count": 5,
   "metadata": {},
   "outputs": [
    {
     "name": "stdout",
     "output_type": "stream",
     "text": [
      "Epoch 1/10\n",
      "1750/1750 [==============================] - 1333s - loss: 0.0522  \n",
      "Epoch 2/10\n",
      "1750/1750 [==============================] - 1328s - loss: 0.0493  \n",
      "Epoch 3/10\n",
      "1750/1750 [==============================] - 1331s - loss: 0.0454  \n",
      "Epoch 4/10\n",
      "1750/1750 [==============================] - 1327s - loss: 0.0453  \n",
      "Epoch 5/10\n",
      "1750/1750 [==============================] - 1328s - loss: 0.0422  \n",
      "Epoch 6/10\n",
      "1750/1750 [==============================] - 1329s - loss: 0.0385  \n",
      "Epoch 7/10\n",
      "1750/1750 [==============================] - 1328s - loss: 0.0381  \n",
      "Epoch 8/10\n",
      "1750/1750 [==============================] - 1330s - loss: 0.0716  \n",
      "Epoch 9/10\n",
      "1750/1750 [==============================] - 1326s - loss: 0.1054  \n",
      "Epoch 10/10\n",
      "1750/1750 [==============================] - 1328s - loss: 0.0412  \n"
     ]
    }
   ],
   "source": [
    "model.train(gen, epoch_size, epochs)"
   ]
  },
  {
   "cell_type": "code",
   "execution_count": 17,
   "metadata": {},
   "outputs": [
    {
     "name": "stdout",
     "output_type": "stream",
     "text": [
      "[[ 0.45287338]\n",
      " [ 0.45451848]\n",
      " [ 0.45777599]\n",
      " [ 0.46120345]\n",
      " [ 0.4654187 ]\n",
      " [ 0.4702489 ]]\n",
      "[[ 0.43705845]\n",
      " [ 0.448937  ]\n",
      " [ 0.44883698]\n",
      " [ 0.4488396 ]\n",
      " [ 0.4611344 ]\n",
      " [ 0.47141308]]\n"
     ]
    }
   ],
   "source": [
    "ins, tars, weis = gen.next()\n",
    "print tars[0]\n",
    "print model.model.predict(ins)[0]"
   ]
  },
  {
   "cell_type": "code",
   "execution_count": 19,
   "metadata": {},
   "outputs": [
    {
     "name": "stdout",
     "output_type": "stream",
     "text": [
      "[[ 5.75261278]\n",
      " [ 5.75191436]\n",
      " [ 5.74997752]\n",
      " [ 5.74751671]\n",
      " [ 5.74440722]\n",
      " [ 5.74068658]]\n",
      "[[ 5.66509819]\n",
      " [ 5.68485308]\n",
      " [ 5.68600607]\n",
      " [ 5.69096899]\n",
      " [ 5.7040019 ]\n",
      " [ 5.69325018]]\n"
     ]
    }
   ],
   "source": [
    "ins, tars, weis = gen.next()\n",
    "print tars[0]\n",
    "print model.model.predict(ins)[0]"
   ]
  },
  {
   "cell_type": "code",
   "execution_count": null,
   "metadata": {
    "collapsed": true
   },
   "outputs": [],
   "source": []
  }
 ],
 "metadata": {
  "kernelspec": {
   "display_name": "Python 2",
   "language": "python",
   "name": "python2"
  },
  "language_info": {
   "codemirror_mode": {
    "name": "ipython",
    "version": 2
   },
   "file_extension": ".py",
   "mimetype": "text/x-python",
   "name": "python",
   "nbconvert_exporter": "python",
   "pygments_lexer": "ipython2",
   "version": "2.7.12"
  }
 },
 "nbformat": 4,
 "nbformat_minor": 2
}
