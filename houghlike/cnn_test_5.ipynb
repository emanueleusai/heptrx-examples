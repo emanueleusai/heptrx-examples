{
 "cells": [
  {
   "cell_type": "markdown",
   "metadata": {},
   "source": [
    "Let's take the straight-track model we have and try to scale it up to more tracks.\n",
    "\n",
    "Author: Dustin Anderson"
   ]
  },
  {
   "cell_type": "code",
   "execution_count": 1,
   "metadata": {
    "collapsed": false
   },
   "outputs": [
    {
     "name": "stderr",
     "output_type": "stream",
     "text": [
      "Using Theano backend.\n"
     ]
    },
    {
     "name": "stdout",
     "output_type": "stream",
     "text": [
      "Couldn't import dot_parser, loading of dot files will not be possible.\n"
     ]
    },
    {
     "name": "stderr",
     "output_type": "stream",
     "text": [
      "Using gpu device 0: GeForce GTX TITAN X (CNMeM is disabled, cuDNN 5005)\n"
     ]
    }
   ],
   "source": [
    "# Standard imports\n",
    "import sys\n",
    "\n",
    "# Package imports\n",
    "import numpy as np\n",
    "np.random.seed(2341)\n",
    "\n",
    "import matplotlib.pyplot as plt\n",
    "%matplotlib inline\n",
    "\n",
    "from keras import models, layers\n",
    "from keras.preprocessing.sequence import pad_sequences\n",
    "\n",
    "\n",
    "# Local imports\n",
    "sys.path.append(\"/home/duanders/AI-HEP.Trk/discrete_extraps\")\n",
    "from drawing import draw_event, draw_input_and_pred"
   ]
  },
  {
   "cell_type": "code",
   "execution_count": 2,
   "metadata": {
    "collapsed": true
   },
   "outputs": [],
   "source": [
    "# Training parameters\n",
    "batch_size = 256\n",
    "epoch_size = 256000\n",
    "num_epochs = 30\n",
    "\n",
    "# Data parameters\n",
    "det_width = 50\n",
    "det_depth = 50\n",
    "det_shape = (det_width, det_depth)\n",
    "\n",
    "# Scale track slopes up so that slopes and intercepts receive equal weights in the loss function.\n",
    "slope_scale = det_width/2\n",
    "\n",
    "# Number of tracks in each event follows Poisson distribution\n",
    "mean_tracks = 12\n",
    "max_tracks = 18"
   ]
  },
  {
   "cell_type": "code",
   "execution_count": 22,
   "metadata": {
    "collapsed": true
   },
   "outputs": [],
   "source": [
    "def simulate_straight_track(m, b, det_shape):\n",
    "    \"\"\"\n",
    "    Simulate detector data for one straight track.\n",
    "    Parameters:\n",
    "        m: track slope parameter\n",
    "        b: track first-layer intercept parameter (detector entry point)\n",
    "        det_shape: tuple of detector shape: (depth, width)\n",
    "    Returns:\n",
    "        ndarray of binary detector data for one track.\n",
    "    \"\"\"\n",
    "    x = np.zeros(det_shape)\n",
    "    idx = np.arange(det_shape[0])\n",
    "    hits = (idx*m + b).astype(int)\n",
    "    valid = (hits > 0) & (hits < det_shape[1])\n",
    "    x[idx[valid], hits[valid]] = 1\n",
    "    return x\n",
    "\n",
    "# Generator for single-track events\n",
    "def gen_tracks(batch_size=batch_size, det_shape=det_shape):\n",
    "    \"\"\"Arguments: \n",
    "         batch_size: number of events to yield for each call\n",
    "       Yields: batches of training data for use with the keras fit_generator function\n",
    "    \"\"\"\n",
    "    while True:\n",
    "        # Entry and exit points are randomized\n",
    "        bs = np.random.random_sample(size=batch_size)*det_width\n",
    "        b2s = np.random.random_sample(size=batch_size)*det_width\n",
    "        ms = (b2s-bs)/det_depth*slope_scale # scaled slope\n",
    "        tracks = np.zeros((batch_size, 1, det_depth, det_width))\n",
    "        targets = zip(bs, ms)\n",
    "        for i, (b, m) in enumerate(targets):\n",
    "            tracks[i,0] = simulate_straight_track(m/slope_scale, b, det_shape)\n",
    "        targets = np.asarray(targets)\n",
    "        yield tracks, targets\n",
    "        \n",
    "# Generator for multi-track events.\n",
    "# Each event contains exactly n_tracks tracks.\n",
    "# The target track parameters are sorted in increasing order of intercept.\n",
    "def gen_n_tracks(batch_size=batch_size, det_shape=det_shape, n_tracks=mean_tracks):\n",
    "    gen_single = gen_tracks(batch_size=n_tracks, det_shape=det_shape)\n",
    "    while True:\n",
    "        batch_events = np.zeros((batch_size, 1, det_depth, det_width))\n",
    "        batch_targets = -np.ones((batch_size, n_tracks, 2))\n",
    "        for n in range(batch_size):\n",
    "            tracks,targets = gen_single.next()\n",
    "            batch_events[n,0] = np.clip( sum( tracks ), 0, 1)\n",
    "            event_targets = np.asarray(targets)\n",
    "            batch_targets[n] = event_targets[event_targets[:,0].argsort()] # sort by first column\n",
    "        yield batch_events, batch_targets\n",
    "        \n",
    "# Generator for multi-track events.\n",
    "# Each event contains up to max_tracks tracks.\n",
    "# The target track parameters are sorted in increasing order of intercept.\n",
    "def gen_multi_tracks(batch_size=batch_size, det_shape=det_shape, mean_tracks=mean_tracks):\n",
    "    gen_single = gen_tracks(batch_size=max_tracks, det_shape=det_shape)\n",
    "    while True:\n",
    "        batch_events = np.zeros((batch_size, 1, det_depth, det_width))\n",
    "        batch_targets = -np.ones((batch_size, max_tracks, 2))\n",
    "        for n in range(batch_size):\n",
    "            num_tracks = min( max_tracks, np.random.poisson(mean_tracks) )\n",
    "            tracks,targets = gen_single.next()\n",
    "            batch_events[n,0] = np.clip( sum( tracks[:num_tracks] ), 0, 1)\n",
    "            event_targets = np.asarray(targets[:num_tracks])\n",
    "            batch_targets[n,:num_tracks] = event_targets[event_targets[:,0].argsort()] # sort by first column\n",
    "        yield batch_events, batch_targets"
   ]
  },
  {
   "cell_type": "code",
   "execution_count": 4,
   "metadata": {
    "collapsed": false
   },
   "outputs": [
    {
     "name": "stdout",
     "output_type": "stream",
     "text": [
      "[[  1.19298829  18.11259705]\n",
      " [  2.3601626   17.20084731]\n",
      " [  2.69613828   5.50784349]\n",
      " [  5.26714305  -0.21122638]\n",
      " [ 10.56349652   0.7542083 ]\n",
      " [ 10.59674501  10.99764945]\n",
      " [ 10.82180705   7.17989868]\n",
      " [ 16.14775816  10.20506455]\n",
      " [ 25.57873616 -10.48603508]\n",
      " [ 26.05208837 -11.16164682]\n",
      " [ 35.58380225 -16.44121814]\n",
      " [ 42.31527433  -1.78780778]\n",
      " [ 44.72239959 -21.07703052]\n",
      " [ 48.96769475  -3.59440992]\n",
      " [ -1.          -1.        ]\n",
      " [ -1.          -1.        ]\n",
      " [ -1.          -1.        ]\n",
      " [ -1.          -1.        ]]\n"
     ]
    },
    {
     "data": {
      "image/png": "[encoded data removed]",
      "text/plain": [
       "<matplotlib.figure.Figure at 0x7f5f2d4116d0>"
      ]
     },
     "metadata": {},
     "output_type": "display_data"
    }
   ],
   "source": [
    "# Test the multi-track generator\n",
    "tracks, targets = gen_multi_tracks().next()\n",
    "draw_event(tracks[0,0])\n",
    "print targets[0]"
   ]
  },
  {
   "cell_type": "code",
   "execution_count": 5,
   "metadata": {
    "collapsed": true
   },
   "outputs": [],
   "source": [
    "# Generate a fixed dataset of multi-track events\n",
    "epoch_size = 512000\n",
    "gen_single = gen_tracks(batch_size=max_tracks, det_shape=det_shape)\n",
    "\n",
    "train_events = np.zeros((epoch_size, 1, det_depth, det_width))\n",
    "train_targets = -99 * np.ones((epoch_size, max_tracks, 2))\n",
    "train_weights = np.zeros((epoch_size, max_tracks))\n",
    "for n in range(epoch_size):\n",
    "    num_tracks = min( max_tracks, np.random.poisson(mean_tracks) )\n",
    "    tracks,targets = gen_single.next()\n",
    "    train_events[n,0] = np.clip( sum( tracks[:num_tracks] ), 0, 1)\n",
    "    event_targets = np.asarray(targets[:num_tracks])\n",
    "    train_targets[n,:num_tracks] = event_targets[event_targets[:,0].argsort()] # sort by first column\n",
    "    train_weights[n,:num_tracks] = np.ones((num_tracks))"
   ]
  },
  {
   "cell_type": "code",
   "execution_count": 7,
   "metadata": {
    "collapsed": false
   },
   "outputs": [
    {
     "name": "stdout",
     "output_type": "stream",
     "text": [
      "[[  3.765671    -1.44868038]\n",
      " [  4.45829548  16.41234339]\n",
      " [ 15.99703026  -1.83661735]\n",
      " [ 16.1278983   -3.78112606]\n",
      " [ 16.59889557  16.66804107]\n",
      " [ 17.64203629   1.06636514]\n",
      " [ 27.80780103   3.8795942 ]\n",
      " [ 33.81939859  -3.12788736]\n",
      " [ 34.94488646   3.93169898]\n",
      " [ 35.97922353 -14.93170232]\n",
      " [ 39.0979127   -9.91502834]\n",
      " [ 40.6521865   -5.99686289]\n",
      " [ 47.62992709 -19.86507298]\n",
      " [-99.         -99.        ]\n",
      " [-99.         -99.        ]\n",
      " [-99.         -99.        ]\n",
      " [-99.         -99.        ]\n",
      " [-99.         -99.        ]]\n",
      "[ 1.  1.  1.  1.  1.  1.  1.  1.  1.  1.  1.  1.  1.  0.  0.  0.  0.  0.]\n"
     ]
    },
    {
     "data": {
      "image/png": "[encoded data removed]",
      "text/plain": [
       "<matplotlib.figure.Figure at 0x7f5eff212e50>"
      ]
     },
     "metadata": {},
     "output_type": "display_data"
    }
   ],
   "source": [
    "# Check the training data\n",
    "test_index = np.random.randint(epoch_size)\n",
    "draw_event(train_events[test_index,0])\n",
    "print train_targets[test_index]\n",
    "print train_weights[test_index]"
   ]
  },
  {
   "cell_type": "markdown",
   "metadata": {},
   "source": [
    "## Model 6: increase layer sizes and number of filters in Model 4"
   ]
  },
  {
   "cell_type": "code",
   "execution_count": 8,
   "metadata": {
    "collapsed": true
   },
   "outputs": [],
   "source": [
    "# Model\n",
    "def build_model_6():\n",
    "    \"\"\"Test model.  Consists of several convolutional layers followed by dense layers and an LSTM\"\"\"\n",
    "    input_layer = layers.Input(shape=(1, det_depth, det_width))\n",
    "    layer = layers.Convolution2D(8, 3, 3, border_mode='same')(input_layer)\n",
    "    layer = layers.Activation('relu')(layer)\n",
    "    layer = layers.Convolution2D(8, 3, 3, border_mode='same')(layer)\n",
    "    layer = layers.Activation('relu')(layer)\n",
    "    layer = layers.MaxPooling2D(pool_size=(2,2))(layer)\n",
    "    layer = layers.Convolution2D(32, 3, 3, border_mode='same')(layer)\n",
    "    layer = layers.Activation('relu')(layer)\n",
    "    layer = layers.Convolution2D(32, 3, 3, border_mode='same')(layer)\n",
    "    layer = layers.Activation('relu')(layer)\n",
    "    layer = layers.Flatten()(layer)\n",
    "    layer = layers.Dense(400)(layer)\n",
    "    layer = layers.RepeatVector(mean_tracks)(layer)\n",
    "    layer = layers.LSTM(400, return_sequences=True)(layer)\n",
    "    output_layer = layers.TimeDistributed(layers.Dense(2))(layer)\n",
    "    model = models.Model(input=input_layer, output=output_layer)\n",
    "    model.compile(loss='mean_squared_error', optimizer='Adam')\n",
    "    return model"
   ]
  },
  {
   "cell_type": "code",
   "execution_count": 9,
   "metadata": {
    "collapsed": false
   },
   "outputs": [
    {
     "name": "stdout",
     "output_type": "stream",
     "text": [
      "Epoch 1/10\n",
      "512000/512000 [==============================] - 338s - loss: 19.8891   \n",
      "Epoch 2/10\n",
      "512000/512000 [==============================] - 317s - loss: 6.8818   \n",
      "Epoch 3/10\n",
      "512000/512000 [==============================] - 321s - loss: 5.5195   \n",
      "Epoch 4/10\n",
      "512000/512000 [==============================] - 341s - loss: 4.9402   \n",
      "Epoch 5/10\n",
      "512000/512000 [==============================] - 335s - loss: 4.5699   \n",
      "Epoch 6/10\n",
      "512000/512000 [==============================] - 334s - loss: 4.3280   \n",
      "Epoch 7/10\n",
      "512000/512000 [==============================] - 323s - loss: 4.1130   \n",
      "Epoch 8/10\n",
      "512000/512000 [==============================] - 316s - loss: 3.9892   \n",
      "Epoch 9/10\n",
      "512000/512000 [==============================] - 341s - loss: 3.8643   \n",
      "Epoch 10/10\n",
      "512000/512000 [==============================] - 337s - loss: 3.7607   \n",
      "CPU times: user 52min 58s, sys: 17min 59s, total: 1h 10min 57s\n",
      "Wall time: 55min 18s\n"
     ]
    },
    {
     "data": {
      "text/plain": [
       "<keras.callbacks.History at 0x7f5f07b80ad0>"
      ]
     },
     "execution_count": 9,
     "metadata": {},
     "output_type": "execute_result"
    }
   ],
   "source": [
    "# Train the model\n",
    "model_6 = build_model_6()\n",
    "train_generator = gen_n_tracks()\n",
    "%time model_6.fit_generator(train_generator, epoch_size, 10)"
   ]
  },
  {
   "cell_type": "code",
   "execution_count": 15,
   "metadata": {
    "collapsed": false
   },
   "outputs": [
    {
     "name": "stdout",
     "output_type": "stream",
     "text": [
      "[[  1.94781199   3.80585718]\n",
      " [  4.71306891  20.58831465]\n",
      " [ 11.83054202  12.69195794]\n",
      " [ 12.07929121  14.84147016]\n",
      " [ 12.53811922   6.37858151]\n",
      " [ 17.42640176  10.97652907]\n",
      " [ 21.16502577   1.58682612]\n",
      " [ 25.8613612   10.79051977]\n",
      " [ 34.37589154  -0.65676036]\n",
      " [ 39.68027949  -9.11533586]\n",
      " [ 46.86963099  -4.40230778]\n",
      " [ 47.48617004 -12.87148532]]\n",
      "[[  1.92375851   4.6093564 ]\n",
      " [  4.59947634  20.962183  ]\n",
      " [ 11.88545704  14.57069111]\n",
      " [ 11.87455273  13.03137493]\n",
      " [ 12.50411892   8.78361893]\n",
      " [ 17.68852425  11.6174612 ]\n",
      " [ 21.35666084  -0.07595556]\n",
      " [ 25.32382965  11.30923462]\n",
      " [ 34.61265945  -1.02176309]\n",
      " [ 39.19515228  -9.05167103]\n",
      " [ 46.43860626  -3.99922514]\n",
      " [ 47.31015778 -13.88013172]]\n"
     ]
    },
    {
     "data": {
      "image/png": "[encoded data removed]",
      "text/plain": [
       "<matplotlib.figure.Figure at 0x7f5c7b10a050>"
      ]
     },
     "metadata": {},
     "output_type": "display_data"
    }
   ],
   "source": [
    "# Visualize prediction\n",
    "test_data = gen_n_tracks().next()\n",
    "test_event = test_data[0][0]\n",
    "test_target = test_data[1][0]\n",
    "test_pred = model_6.predict(np.asarray([test_event]))[0]\n",
    "print test_target\n",
    "print test_pred\n",
    "pred_event = np.clip(sum([ simulate_straight_track(line[1]/slope_scale, line[0], det_shape) for line in test_pred ]), 0, 1)\n",
    "draw_input_and_pred(test_event[0], pred_event)"
   ]
  },
  {
   "cell_type": "markdown",
   "metadata": {},
   "source": [
    "It's not perfect, but the performance is reasonable.  Let's try even more tracks."
   ]
  },
  {
   "cell_type": "code",
   "execution_count": 20,
   "metadata": {
    "collapsed": true
   },
   "outputs": [],
   "source": [
    "mean_tracks = 18"
   ]
  },
  {
   "cell_type": "markdown",
   "metadata": {},
   "source": [
    "(Re-activate cells 3 and 7 above)"
   ]
  },
  {
   "cell_type": "code",
   "execution_count": 23,
   "metadata": {
    "collapsed": false
   },
   "outputs": [
    {
     "name": "stdout",
     "output_type": "stream",
     "text": [
      "Epoch 1/10\n",
      "512000/512000 [==============================] - 424s - loss: 23.3685   \n",
      "Epoch 2/10\n",
      "512000/512000 [==============================] - 436s - loss: 11.7664   \n",
      "Epoch 3/10\n",
      "512000/512000 [==============================] - 420s - loss: 9.8878   \n",
      "Epoch 4/10\n",
      "512000/512000 [==============================] - 441s - loss: 9.0104   \n",
      "Epoch 5/10\n",
      "512000/512000 [==============================] - 430s - loss: 8.4759   \n",
      "Epoch 6/10\n",
      "512000/512000 [==============================] - 439s - loss: 8.0947   \n",
      "Epoch 7/10\n",
      "512000/512000 [==============================] - 440s - loss: 7.7867   \n",
      "Epoch 8/10\n",
      "512000/512000 [==============================] - 441s - loss: 7.5530   \n",
      "Epoch 9/10\n",
      "512000/512000 [==============================] - 433s - loss: 7.3537   \n",
      "Epoch 10/10\n",
      "512000/512000 [==============================] - 416s - loss: 7.1982   \n",
      "CPU times: user 1h 10min 26s, sys: 19min 59s, total: 1h 30min 26s\n",
      "Wall time: 1h 12min 14s\n"
     ]
    },
    {
     "data": {
      "text/plain": [
       "<keras.callbacks.History at 0x7f5c6b548fd0>"
      ]
     },
     "execution_count": 23,
     "metadata": {},
     "output_type": "execute_result"
    }
   ],
   "source": [
    "# Train the model\n",
    "model_6 = build_model_6()\n",
    "train_generator = gen_n_tracks()\n",
    "%time model_6.fit_generator(train_generator, epoch_size, 10)"
   ]
  },
  {
   "cell_type": "code",
   "execution_count": 29,
   "metadata": {
    "collapsed": false
   },
   "outputs": [
    {
     "name": "stdout",
     "output_type": "stream",
     "text": [
      "[[  5.91554824e-02   2.27670741e+01]\n",
      " [  2.77368758e+00   1.04087838e+01]\n",
      " [  1.21479186e+01   1.71258371e+01]\n",
      " [  2.14830810e+01   1.91520851e-01]\n",
      " [  2.87712196e+01   2.85833209e+00]\n",
      " [  2.94536279e+01  -4.95519898e+00]\n",
      " [  3.10319452e+01  -4.06177926e+00]\n",
      " [  3.40618312e+01   5.92084304e+00]\n",
      " [  3.71339508e+01   6.34572128e+00]\n",
      " [  3.85828940e+01  -1.39330269e+01]\n",
      " [  3.91845974e+01   4.81825161e+00]\n",
      " [  3.92021768e+01  -8.42763460e+00]\n",
      " [  3.97529443e+01   4.18124286e-01]\n",
      " [  3.97704280e+01  -1.18499144e+01]\n",
      " [  4.18890798e+01  -3.59467924e-02]\n",
      " [  4.49734965e+01  -1.80901614e+00]\n",
      " [  4.67677433e+01  -9.80069847e+00]\n",
      " [  4.69900477e+01  -2.08269410e+01]]\n",
      "[[  1.016119    23.93530655]\n",
      " [  2.68757915   7.7242403 ]\n",
      " [ 12.30080032  17.48934364]\n",
      " [ 21.02180862   0.50825197]\n",
      " [ 27.84785461   0.26016891]\n",
      " [ 29.27734566  -0.2233526 ]\n",
      " [ 31.32230568  -7.26005125]\n",
      " [ 33.03419495   6.19293118]\n",
      " [ 36.99900055   2.55709577]\n",
      " [ 37.87192535  -1.84433782]\n",
      " [ 38.41908264  -3.06833076]\n",
      " [ 38.90982819  -4.41633654]\n",
      " [ 40.05397034  -4.923594  ]\n",
      " [ 40.98586655  -4.77913857]\n",
      " [ 43.27513885  -4.50758648]\n",
      " [ 44.84552765  -6.45984077]\n",
      " [ 45.93717575 -11.93822575]\n",
      " [ 46.24887466 -17.53889084]]\n"
     ]
    },
    {
     "data": {
      "image/png": "[encoded data removed]",
      "text/plain": [
       "<matplotlib.figure.Figure at 0x7f5c679f9d90>"
      ]
     },
     "metadata": {},
     "output_type": "display_data"
    }
   ],
   "source": [
    "# Visualize prediction\n",
    "test_data = gen_n_tracks().next()\n",
    "test_event = test_data[0][0]\n",
    "test_target = test_data[1][0]\n",
    "test_pred = model_6.predict(np.asarray([test_event]))[0]\n",
    "print test_target\n",
    "print test_pred\n",
    "pred_event = np.clip(sum([ simulate_straight_track(line[1]/slope_scale, line[0], det_shape) for line in test_pred ]), 0, 1)\n",
    "draw_input_and_pred(test_event[0], pred_event)"
   ]
  },
  {
   "cell_type": "markdown",
   "metadata": {},
   "source": [
    "Things have broken down by this point.  The amount of overlap between tracks makes it almost impossible to disentangle them, even for a human.  I think the granularity would need to be increased for tests with this many tracks to make sense."
   ]
  },
  {
   "cell_type": "code",
   "execution_count": 26,
   "metadata": {
    "collapsed": false
   },
   "outputs": [
    {
     "data": {
      "text/plain": [
       "111596568"
      ]
     },
     "execution_count": 26,
     "metadata": {},
     "output_type": "execute_result"
    }
   ],
   "source": [
    "#Check size of model on disk\n",
    "import os\n",
    "model_6.save(\"model_6.hdf5\")\n",
    "os.path.getsize(\"model_6.hdf5\")"
   ]
  }
 ],
 "metadata": {
  "kernelspec": {
   "display_name": "Python 2",
   "language": "python",
   "name": "python2"
  },
  "language_info": {
   "codemirror_mode": {
    "name": "ipython",
    "version": 2
   },
   "file_extension": ".py",
   "mimetype": "text/x-python",
   "name": "python",
   "nbconvert_exporter": "python",
   "pygments_lexer": "ipython2",
   "version": "2.7.9"
  }
 },
 "nbformat": 4,
 "nbformat_minor": 0
}
