{
 "cells": [
  {
   "cell_type": "markdown",
   "metadata": {},
   "source": [
    "The goal this time is to make things more realistic using curved tracks.\n",
    "\n",
    "Author: Dustin Anderson"
   ]
  },
  {
   "cell_type": "code",
   "execution_count": 1,
   "metadata": {
    "collapsed": false
   },
   "outputs": [
    {
     "name": "stderr",
     "output_type": "stream",
     "text": [
      "Using Theano backend.\n"
     ]
    },
    {
     "name": "stdout",
     "output_type": "stream",
     "text": [
      "Couldn't import dot_parser, loading of dot files will not be possible.\n"
     ]
    },
    {
     "name": "stderr",
     "output_type": "stream",
     "text": [
      "Using gpu device 0: GeForce GTX TITAN X (CNMeM is disabled, cuDNN 5005)\n"
     ]
    }
   ],
   "source": [
    "# Standard imports\n",
    "import sys\n",
    "\n",
    "# Package imports\n",
    "import numpy as np\n",
    "np.random.seed(2341)\n",
    "\n",
    "import matplotlib.pyplot as plt\n",
    "%matplotlib inline\n",
    "\n",
    "from keras import models, layers\n",
    "\n",
    "# Local imports \n",
    "sys.path.append(\"/home/duanders/AI-HEP.Trk/discrete_extraps\")\n",
    "from drawing import draw_event, draw_input_and_pred"
   ]
  },
  {
   "cell_type": "markdown",
   "metadata": {},
   "source": [
    "Let's make a new toy detector that looks like a cross section of CMS.  Tracks will be arcs of circles, originating at the center and extending outwards."
   ]
  },
  {
   "cell_type": "code",
   "execution_count": 2,
   "metadata": {
    "collapsed": false
   },
   "outputs": [],
   "source": [
    "# training parameters\n",
    "batch_size=256\n",
    "epoch_size = 256000\n",
    "\n",
    "# problem definition\n",
    "mean_tracks = 10\n",
    "det_size = 200\n",
    "min_p = 0.1\n",
    "max_p = 1\n",
    "p_mean = (max_p+min_p)/2\n",
    "p_sdev = (max_p-min_p)/np.sqrt(12)\n",
    "phi_mean = np.pi\n",
    "phi_sdev = 2*np.pi/np.sqrt(12)\n",
    "\n",
    "def simulate_curved_track(p_reg, phi_reg, q, det_size=det_size):\n",
    "    \"\"\"\n",
    "    Parameters:\n",
    "        p_reg: track momentum (regularized to mean 0, stddev 1)\n",
    "        phi_reg: track angle (regularized to mean 0, stddev 1)\n",
    "        q: track charge (+/- 1)\n",
    "        det_size: linear size of detector cross-section\n",
    "    Returns:\n",
    "        ndarray of binary detector data for one track.\n",
    "    \"\"\"\n",
    "    p = p_reg*p_sdev + p_mean\n",
    "    phi = phi_reg*phi_sdev + phi_mean\n",
    "    \n",
    "    event = np.zeros((det_size, det_size))\n",
    "    scaled_p = p*2*np.sqrt(2)/det_size\n",
    "    radius = 1/scaled_p\n",
    "    phi_offset = np.pi/2 * np.sign(q)\n",
    "    t = np.arange(0, np.pi, scaled_p)\n",
    "    x = (radius*( np.cos(phi+phi_offset) + np.cos(np.pi/2+phi-t) ) + det_size/2.0).astype(int)\n",
    "    y = (radius*( np.sin(phi+phi_offset) + np.sin(np.pi/2+phi-t) ) + det_size/2.0).astype(int)\n",
    "    points = [ point for point in zip(x,y) \n",
    "                         if point[0] >= 0 and point[0] < det_size and point[1] >= 0 and point[1] < det_size ]\n",
    "    for point in points:\n",
    "        event[point[0],point[1]] = 1\n",
    "    return event\n",
    "\n",
    "# Generator for single-track events\n",
    "def gen_tracks(batch_size=batch_size, det_size=det_size):\n",
    "    \"\"\"Arguments: \n",
    "         batch_size: number of events to yield for each call\n",
    "       Yields: batches of training data for use with the keras fit_generator function\n",
    "    \"\"\"\n",
    "    while True:\n",
    "        # momentum, charge, and angle are randomized\n",
    "        ps = (np.random.random_sample(size=batch_size)-0.5)*np.sqrt(12)\n",
    "        phis = (np.random.random_sample(size=batch_size)-0.5)*np.sqrt(12)\n",
    "        #qs = np.random.randint(2, size=batch_size)*2-1\n",
    "        qs = np.ones((batch_size))\n",
    "        tracks = np.zeros((batch_size, 1, det_size, det_size))\n",
    "        targets = zip(ps, phis, qs)\n",
    "        for i, (p, phi, q) in enumerate(targets):\n",
    "            tracks[i,0] = simulate_curved_track(p, phi, q, det_size)\n",
    "        targets = np.asarray(targets)\n",
    "        targets = targets[:,:2] ## TODO: accomodate charge\n",
    "        yield tracks, targets\n",
    "        \n",
    "# Generator for multi-track events.\n",
    "# Each event contains exactly n_tracks tracks.\n",
    "# The target track parameters are sorted in increasing order of intercept.\n",
    "def gen_n_tracks(batch_size=batch_size, det_size=det_size, n_tracks=mean_tracks):\n",
    "    gen_single = gen_tracks(batch_size=n_tracks, det_size=det_size)\n",
    "    while True:\n",
    "        batch_events = np.zeros((batch_size, 1, det_size, det_size))\n",
    "        batch_targets = -np.ones((batch_size, n_tracks, 2))\n",
    "        for n in range(batch_size):\n",
    "            tracks,targets = gen_single.next()\n",
    "            batch_events[n,0] = np.clip( sum( tracks ), 0, 1)\n",
    "            event_targets = np.asarray(targets)\n",
    "            batch_targets[n] = event_targets[event_targets[:,1].argsort()] # sort by second column\n",
    "        yield batch_events, batch_targets"
   ]
  },
  {
   "cell_type": "markdown",
   "metadata": {},
   "source": [
    "For now all the tracks have the same charge.  It should be easy for the model to discriminate between the two charge values, but adding charge (a categorical variable) to the output of the model is a technical complication that I still need to deal with."
   ]
  },
  {
   "cell_type": "markdown",
   "metadata": {
    "collapsed": true
   },
   "source": [
    "## Model 8: curved track finder \\#1"
   ]
  },
  {
   "cell_type": "markdown",
   "metadata": {},
   "source": [
    "I will be ambitious and see if the existing model can be used on events with 10 curved tracks.  "
   ]
  },
  {
   "cell_type": "code",
   "execution_count": 9,
   "metadata": {
    "collapsed": true
   },
   "outputs": [],
   "source": [
    "# Model\n",
    "def build_model_8():\n",
    "    \"\"\"Test model.  Consists of several convolutional layers followed by dense layers and an LSTM\"\"\"\n",
    "    input_layer = layers.Input(shape=(1, det_size, det_size))\n",
    "    layer = layers.Convolution2D(8, 3, 3, border_mode='same')(input_layer)\n",
    "    layer = layers.Activation('relu')(layer)\n",
    "    layer = layers.Convolution2D(8, 3, 3, border_mode='same')(layer)\n",
    "    layer = layers.Activation('relu')(layer)\n",
    "    layer = layers.MaxPooling2D(pool_size=(2,2))(layer)\n",
    "    layer = layers.Convolution2D(32, 3, 3, border_mode='same')(layer)\n",
    "    layer = layers.Activation('relu')(layer)\n",
    "    layer = layers.Convolution2D(32, 3, 3, border_mode='same')(layer)\n",
    "    layer = layers.Activation('relu')(layer)\n",
    "    layer = layers.Flatten()(layer)\n",
    "    layer = layers.Dense(400)(layer)\n",
    "    layer = layers.RepeatVector(mean_tracks)(layer)\n",
    "    layer = layers.LSTM(400, return_sequences=True)(layer)\n",
    "    output_layer = layers.TimeDistributed(layers.Dense(2))(layer)\n",
    "    model = models.Model(input=input_layer, output=output_layer)\n",
    "    model.compile(loss='mean_squared_error', optimizer='Adam')\n",
    "    return model"
   ]
  },
  {
   "cell_type": "code",
   "execution_count": 11,
   "metadata": {
    "collapsed": false
   },
   "outputs": [
    {
     "name": "stderr",
     "output_type": "stream",
     "text": [
      "INFO (theano.gof.compilelock): Refreshing lock /home/duanders/.theano/compiledir_Linux-3.19--generic-x86_64-with-Ubuntu-15.04-vivid-x86_64-2.7.9-64/lock_dir/lock\n"
     ]
    },
    {
     "name": "stdout",
     "output_type": "stream",
     "text": [
      "Epoch 1/4\n",
      "51200/51200 [==============================] - 213s - loss: 0.5971   \n",
      "Epoch 2/4\n",
      "51200/51200 [==============================] - 213s - loss: 0.3685   \n",
      "Epoch 3/4\n",
      "51200/51200 [==============================] - 212s - loss: 0.2855   \n",
      "Epoch 4/4\n",
      "51200/51200 [==============================] - 213s - loss: 0.2211   \n",
      "CPU times: user 14min 48s, sys: 6min 33s, total: 21min 21s\n",
      "Wall time: 14min 25s\n"
     ]
    },
    {
     "data": {
      "text/plain": [
       "<keras.callbacks.History at 0x7f9d96b5b4d0>"
      ]
     },
     "execution_count": 11,
     "metadata": {},
     "output_type": "execute_result"
    }
   ],
   "source": [
    "# Train the model\n",
    "model_8 = build_model_8()\n",
    "train_generator = gen_n_tracks()\n",
    "%time model_8.fit_generator(train_generator, epoch_size, 4)"
   ]
  },
  {
   "cell_type": "code",
   "execution_count": 17,
   "metadata": {
    "collapsed": false
   },
   "outputs": [
    {
     "name": "stdout",
     "output_type": "stream",
     "text": [
      "[[ 1.24763115 -1.59943578]\n",
      " [ 1.61551689 -1.22481609]\n",
      " [-0.01081636 -0.5236363 ]\n",
      " [-1.59728063  0.43655805]\n",
      " [ 1.42255996  0.5811041 ]\n",
      " [ 0.75922465  0.82213732]\n",
      " [-1.6593206   1.02692713]\n",
      " [-0.05429235  1.26953953]\n",
      " [ 0.22819617  1.63861068]\n",
      " [ 1.26601456  1.71432574]]\n",
      "[[ 1.04242074 -1.60223067]\n",
      " [ 1.72613013 -1.37352479]\n",
      " [ 0.33139667 -0.60696006]\n",
      " [-0.43939778  0.30455604]\n",
      " [ 0.13817742  0.71028793]\n",
      " [ 0.32346767  0.85842705]\n",
      " [-0.95416415  1.00126231]\n",
      " [-0.16263668  1.28211677]\n",
      " [ 0.71691781  1.51450193]\n",
      " [ 1.06366956  1.6291002 ]]\n"
     ]
    },
    {
     "data": {
      "image/png": "[encoded data removed]",
      "text/plain": [
       "<matplotlib.figure.Figure at 0x7f9d80394390>"
      ]
     },
     "metadata": {},
     "output_type": "display_data"
    }
   ],
   "source": [
    "# Visualize prediction\n",
    "test_data = gen_n_tracks().next()\n",
    "test_event = test_data[0][0]\n",
    "test_target = test_data[1][0]\n",
    "test_pred = model_8.predict(np.asarray([test_event]))[0]\n",
    "print test_target\n",
    "print test_pred\n",
    "pred_event = np.clip(sum([ simulate_curved_track(line[0], line[1], 1, det_size) for line in test_pred ]), 0, 1)\n",
    "draw_input_and_pred(test_event[0], pred_event)"
   ]
  },
  {
   "cell_type": "markdown",
   "metadata": {
    "collapsed": true
   },
   "source": [
    "It actually performs decently.  I bet that by tweaking the model we can arrive at something that works well."
   ]
  },
  {
   "cell_type": "markdown",
   "metadata": {},
   "source": [
    "## Model 9: more layers and convolutional filters"
   ]
  },
  {
   "cell_type": "code",
   "execution_count": 3,
   "metadata": {
    "collapsed": true
   },
   "outputs": [],
   "source": [
    "# Model\n",
    "def build_model_9():\n",
    "    \"\"\"Test model.  Consists of several convolutional layers followed by dense layers and an LSTM\"\"\"\n",
    "    input_layer = layers.Input(shape=(1, det_size, det_size))\n",
    "    layer = layers.Convolution2D(16, 3, 3, border_mode='same')(input_layer)\n",
    "    layer = layers.Activation('relu')(layer)\n",
    "    layer = layers.Convolution2D(16, 3, 3, border_mode='same')(layer)\n",
    "    layer = layers.Activation('relu')(layer)\n",
    "    layer = layers.MaxPooling2D(pool_size=(2,2))(layer)\n",
    "    layer = layers.Convolution2D(48, 3, 3, border_mode='same')(layer)\n",
    "    layer = layers.Activation('relu')(layer)\n",
    "    layer = layers.Convolution2D(48, 3, 3, border_mode='same')(layer)\n",
    "    layer = layers.Activation('relu')(layer)\n",
    "    layer = layers.MaxPooling2D(pool_size=(2,2))(layer)\n",
    "    layer = layers.Convolution2D(128, 3, 3, border_mode='same')(layer)\n",
    "    layer = layers.Activation('relu')(layer)\n",
    "    layer = layers.Convolution2D(128, 3, 3, border_mode='same')(layer)\n",
    "    layer = layers.Activation('relu')(layer)\n",
    "    layer = layers.Flatten()(layer)\n",
    "    layer = layers.Dense(800)(layer)\n",
    "    layer = layers.RepeatVector(mean_tracks)(layer)\n",
    "    layer = layers.LSTM(800, return_sequences=True)(layer)\n",
    "    output_layer = layers.TimeDistributed(layers.Dense(2))(layer)\n",
    "    model = models.Model(input=input_layer, output=output_layer)\n",
    "    model.compile(loss='mean_squared_error', optimizer='Adam')\n",
    "    return model"
   ]
  },
  {
   "cell_type": "code",
   "execution_count": 4,
   "metadata": {
    "collapsed": false
   },
   "outputs": [
    {
     "name": "stdout",
     "output_type": "stream",
     "text": [
      "Epoch 1/6\n",
      "256000/256000 [==============================] - 1224s - loss: 0.9954  \n",
      "Epoch 2/6\n",
      "256000/256000 [==============================] - 1219s - loss: 0.8749  \n",
      "Epoch 3/6\n",
      "256000/256000 [==============================] - 1221s - loss: 0.8571  \n",
      "Epoch 4/6\n",
      "256000/256000 [==============================] - 1222s - loss: 0.8560  \n",
      "Epoch 5/6\n",
      "256000/256000 [==============================] - 1222s - loss: 0.8560  \n",
      "Epoch 6/6\n",
      "256000/256000 [==============================] - 1223s - loss: 0.8563  \n",
      "CPU times: user 2h 11min 24s, sys: 1h 41min 9s, total: 3h 52min 33s\n",
      "Wall time: 2h 2min 23s\n"
     ]
    },
    {
     "data": {
      "text/plain": [
       "<keras.callbacks.History at 0x7f08226c9290>"
      ]
     },
     "execution_count": 4,
     "metadata": {},
     "output_type": "execute_result"
    }
   ],
   "source": [
    "# Train the model\n",
    "model_9 = build_model_9()\n",
    "train_generator = gen_n_tracks()\n",
    "%time model_9.fit_generator(train_generator, epoch_size, 6)"
   ]
  },
  {
   "cell_type": "code",
   "execution_count": 5,
   "metadata": {
    "collapsed": false
   },
   "outputs": [
    {
     "name": "stdout",
     "output_type": "stream",
     "text": [
      "[[-1.27494033 -1.45115899]\n",
      " [-1.06779504 -1.17784507]\n",
      " [ 0.34523952 -0.8909439 ]\n",
      " [ 0.99729491 -0.51429942]\n",
      " [-0.57845204 -0.10399623]\n",
      " [-1.08943355  0.14758912]\n",
      " [ 0.33654627  0.34536175]\n",
      " [ 0.22055973  0.72637402]\n",
      " [ 1.72974828  0.79642637]\n",
      " [-1.11974515  1.24776988]]\n",
      "[[ 0.04179383 -1.64983654]\n",
      " [ 0.04595159 -0.12413749]\n",
      " [ 0.04658887  0.1097082 ]\n",
      " [ 0.04667671  0.14192478]\n",
      " [ 0.04668849  0.14629523]\n",
      " [ 0.04669013  0.14688675]\n",
      " [ 0.04669045  0.14696662]\n",
      " [ 0.04669038  0.14697765]\n",
      " [ 0.04669049  0.14697908]\n",
      " [ 0.04669033  0.14697944]]\n"
     ]
    },
    {
     "data": {
      "image/png": "[encoded data removed]",
      "text/plain": [
       "<matplotlib.figure.Figure at 0x7f0808085cd0>"
      ]
     },
     "metadata": {},
     "output_type": "display_data"
    }
   ],
   "source": [
    "# Visualize prediction\n",
    "test_data = gen_n_tracks().next()\n",
    "test_event = test_data[0][0]\n",
    "test_target = test_data[1][0]\n",
    "test_pred = model_9.predict(np.asarray([test_event]))[0]\n",
    "print test_target\n",
    "print test_pred\n",
    "pred_event = np.clip(sum([ simulate_curved_track(line[0], line[1], 1, det_size) for line in test_pred ]), 0, 1)\n",
    "draw_input_and_pred(test_event[0], pred_event)"
   ]
  },
  {
   "cell_type": "code",
   "execution_count": 6,
   "metadata": {
    "collapsed": true
   },
   "outputs": [],
   "source": [
    "model_9.save(\"model_9.h5\")"
   ]
  },
  {
   "cell_type": "markdown",
   "metadata": {},
   "source": [
    "Ideas: I increased the depth of the network and the training slowed down.  I might investigate if batch normalization helps it train faster and/or reach a better minimum."
   ]
  },
  {
   "cell_type": "code",
   "execution_count": null,
   "metadata": {
    "collapsed": true
   },
   "outputs": [],
   "source": []
  }
 ],
 "metadata": {
  "kernelspec": {
   "display_name": "Python 2",
   "language": "python",
   "name": "python2"
  },
  "language_info": {
   "codemirror_mode": {
    "name": "ipython",
    "version": 2
   },
   "file_extension": ".py",
   "mimetype": "text/x-python",
   "name": "python",
   "nbconvert_exporter": "python",
   "pygments_lexer": "ipython2",
   "version": "2.7.9"
  }
 },
 "nbformat": 4,
 "nbformat_minor": 0
}
