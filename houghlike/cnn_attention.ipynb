{
 "cells": [
  {
   "cell_type": "markdown",
   "metadata": {},
   "source": [
    "Goal: test feasibility of attention LSTM model for the tracking task\n",
    "\n",
    "Author: Dustin Anderson"
   ]
  },
  {
   "cell_type": "code",
   "execution_count": 7,
   "metadata": {
    "collapsed": false
   },
   "outputs": [],
   "source": [
    "# Package imports\n",
    "import numpy as np\n",
    "np.random.seed(2341)\n",
    "\n",
    "import matplotlib.pyplot as plt\n",
    "%matplotlib inline\n",
    "\n",
    "from keras import models, layers\n",
    "\n",
    "import utils\n",
    "import drawing\n",
    "import attention_layer\n",
    "\n",
    "det_shape = (100, 100)\n",
    "\n",
    "def build_att_model(det_shape=det_shape, n_tracks=1, context_dim=32):\n",
    "    \"\"\"Convolutional model with attention layer.\n",
    "        Assumes theano image dim ordering.\"\"\"\n",
    "    activation = 'elu'\n",
    "    input_layer = layers.Input(shape=(1, det_shape[0], det_shape[1]))\n",
    "    layer = layers.Convolution2D(8, 3, 3, border_mode='same')(input_layer)\n",
    "    layer = layers.Activation(activation)(layer)\n",
    "    layer = layers.Convolution2D(8, 3, 3, border_mode='same')(layer)\n",
    "    layer = layers.Activation(activation)(layer)\n",
    "    layer = layers.MaxPooling2D(pool_size=(2,2))(layer)\n",
    "    layer = layers.Convolution2D(32, 3, 3, border_mode='same')(layer)\n",
    "    layer = layers.Activation(activation)(layer)\n",
    "    layer = layers.Convolution2D(32, 3, 3, border_mode='same')(layer)\n",
    "    layer = layers.BatchNormalization(axis=1)(layer) \n",
    "    layer = layers.Activation(activation)(layer)\n",
    "    \n",
    "    att_layer = layers.MaxPooling2D(pool_size=(2,2))(layer)\n",
    "    att_layer = layers.Convolution2D(context_dim, 3, 3, border_mode='same')(att_layer)\n",
    "    att_layer = layers.Activation(activation)(att_layer)\n",
    "    att_layer = layers.Convolution2D(context_dim, 3, 3, border_mode='same')(att_layer)\n",
    "    att_layer = layers.BatchNormalization(axis=1)(att_layer)\n",
    "    att_layer = layers.Activation(activation)(att_layer)\n",
    "    att_layer = layers.Reshape((context_dim, det_shape[0]*det_shape[1]/16))(att_layer) \n",
    "    annotations = layers.Permute((2,1))(att_layer) \n",
    "    \n",
    "    layer = layers.Flatten()(layer)\n",
    "    layer = layers.Dense(400)(layer)\n",
    "    layer = layers.RepeatVector(n_tracks)(layer)\n",
    "    layer = attention_layer.Attention(400, consume_less='gpu', return_sequences=True)([layer, annotations])\n",
    "    output_layer = layers.TimeDistributed(layers.Dense(2))(layer) \n",
    "    model = models.Model(input=input_layer, output=output_layer)\n",
    "    return model\n",
    "\n",
    "pretrainable_model_1 = utils.PretrainableModel(n_tracks=12, det_shape=det_shape,\n",
    "                                               model_fn=build_att_model, pretrain=False)"
   ]
  },
  {
   "cell_type": "code",
   "execution_count": null,
   "metadata": {
    "collapsed": true
   },
   "outputs": [],
   "source": [
    "# pretrainable_model_1.train_track_pred_model(epochs=20)"
   ]
  },
  {
   "cell_type": "code",
   "execution_count": 9,
   "metadata": {
    "collapsed": false
   },
   "outputs": [
    {
     "name": "stdout",
     "output_type": "stream",
     "text": [
      "Epoch 1/20\n",
      "256000/256000 [==============================] - 3195s - loss: 14.2034  \n",
      "Epoch 2/20\n",
      "256000/256000 [==============================] - 3193s - loss: 13.6370  \n",
      "Epoch 3/20\n",
      "256000/256000 [==============================] - 3194s - loss: 13.1890  \n",
      "Epoch 4/20\n",
      "256000/256000 [==============================] - 3195s - loss: 12.6951  \n",
      "Epoch 5/20\n",
      "256000/256000 [==============================] - 3195s - loss: 12.3771  \n",
      "Epoch 6/20\n",
      "256000/256000 [==============================] - 3196s - loss: 11.9831  \n",
      "Epoch 7/20\n",
      "256000/256000 [==============================] - 3195s - loss: 11.7547  \n",
      "Epoch 8/20\n",
      "256000/256000 [==============================] - 3194s - loss: 11.4400  \n",
      "Epoch 9/20\n",
      "256000/256000 [==============================] - 3195s - loss: 11.2199  \n",
      "Epoch 10/20\n",
      "256000/256000 [==============================] - 3194s - loss: 11.0078  \n",
      "Epoch 11/20\n",
      "256000/256000 [==============================] - 3194s - loss: 10.8138  \n",
      "Epoch 12/20\n",
      "256000/256000 [==============================] - 3194s - loss: 10.5958  \n",
      "Epoch 13/20\n",
      "256000/256000 [==============================] - 3194s - loss: 10.4906  \n",
      "Epoch 14/20\n",
      "256000/256000 [==============================] - 3195s - loss: 10.3968  \n",
      "Epoch 15/20\n",
      "256000/256000 [==============================] - 3193s - loss: 10.1361  \n",
      "Epoch 16/20\n",
      "256000/256000 [==============================] - 3195s - loss: 10.0090  \n",
      "Epoch 17/20\n",
      "256000/256000 [==============================] - 3195s - loss: 9.9053  \n",
      "Epoch 18/20\n",
      "256000/256000 [==============================] - 3195s - loss: 9.7418  \n",
      "Epoch 19/20\n",
      "256000/256000 [==============================] - 3194s - loss: 9.6477  \n",
      "Epoch 20/20\n",
      "256000/256000 [==============================] - 3193s - loss: 9.5381  \n"
     ]
    }
   ],
   "source": [
    "pretrainable_model_1.train_track_pred_model(epochs=20)"
   ]
  },
  {
   "cell_type": "code",
   "execution_count": null,
   "metadata": {
    "collapsed": false
   },
   "outputs": [
    {
     "name": "stdout",
     "output_type": "stream",
     "text": [
      "Epoch 1/10\n",
      "256000/256000 [==============================] - 3197s - loss: 9.5480  \n",
      "Epoch 2/10\n",
      "159488/256000 [=================>............] - ETA: 1204s - loss: 9.3403"
     ]
    }
   ],
   "source": [
    "pretrainable_model_1.train_track_pred_model(epochs=10)"
   ]
  },
  {
   "cell_type": "code",
   "execution_count": 15,
   "metadata": {
    "collapsed": false
   },
   "outputs": [
    {
     "name": "stdout",
     "output_type": "stream",
     "text": [
      "[[ 10.55461463  15.34951566   0.           0.           0.        ]\n",
      " [ 17.20290079  21.85602119   0.           0.           0.        ]\n",
      " [ 24.48351042 -11.78445953   0.           0.           0.        ]\n",
      " [ 30.04654089  -0.6202604    0.           0.           0.        ]\n",
      " [ 37.83809637 -16.01305467   0.           0.           0.        ]\n",
      " [ 40.23241304  -0.19625956   0.           0.           0.        ]\n",
      " [ 46.15673899   6.70982789   0.           0.           0.        ]\n",
      " [ 46.80696292  -1.39895963   0.           0.           0.        ]\n",
      " [ 49.57600981  13.13542781   0.           0.           0.        ]\n",
      " [ 73.10617152 -11.41476573   0.           0.           0.        ]\n",
      " [ 92.19986361 -46.05411637   0.           0.           0.        ]\n",
      " [ 98.34548503  -7.46170628   0.           0.           0.        ]]\n",
      "[[  9.76712799  11.81844044]\n",
      " [ 16.71496201  24.71847153]\n",
      " [ 24.38890457 -12.14652061]\n",
      " [ 29.84843826  -1.38857043]\n",
      " [ 36.53933334 -15.75297832]\n",
      " [ 40.64017105  -0.11649607]\n",
      " [ 45.43401718   7.00048971]\n",
      " [ 46.88065338  -0.69815218]\n",
      " [ 49.7299118   11.73902893]\n",
      " [ 73.3326416   -9.95918751]\n",
      " [ 92.13528442 -48.71303558]\n",
      " [ 98.14555359  -7.61637259]]\n"
     ]
    },
    {
     "data": {
      "image/png": "[encoded data removed]",
      "text/plain": [
       "<matplotlib.figure.Figure at 0x7fe57596aa90>"
      ]
     },
     "metadata": {},
     "output_type": "display_data"
    }
   ],
   "source": [
    "utils.make_pred_without_errors(pretrainable_model_1.track_pred_model, n_tracks=12, det_shape=det_shape)"
   ]
  },
  {
   "cell_type": "markdown",
   "metadata": {
    "collapsed": true
   },
   "source": [
    "It works about as well as before, but at the cost of much longer training time and higher model complexity.  This needs further development if we are going to use it.  "
   ]
  }
 ],
 "metadata": {
  "kernelspec": {
   "display_name": "Python 2",
   "language": "python",
   "name": "python2"
  },
  "language_info": {
   "codemirror_mode": {
    "name": "ipython",
    "version": 2
   },
   "file_extension": ".py",
   "mimetype": "text/x-python",
   "name": "python",
   "nbconvert_exporter": "python",
   "pygments_lexer": "ipython2",
   "version": "2.7.9"
  }
 },
 "nbformat": 4,
 "nbformat_minor": 0
}
