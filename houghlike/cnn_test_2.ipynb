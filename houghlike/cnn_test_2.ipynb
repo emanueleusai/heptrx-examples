{
 "cells": [
  {
   "cell_type": "markdown",
   "metadata": {},
   "source": [
    "In the previous notebook, we tested a convolutional model for identifying track parameters in single-track events.  Now we will try to deal with the case where there are multiple tracks in the event.  \n",
    "\n",
    "Author: Dustin Anderson"
   ]
  },
  {
   "cell_type": "code",
   "execution_count": 49,
   "metadata": {
    "collapsed": false
   },
   "outputs": [],
   "source": [
    "# Standard imports\n",
    "import sys\n",
    "\n",
    "# Package imports\n",
    "import numpy as np\n",
    "np.random.seed(2341)\n",
    "\n",
    "import matplotlib.pyplot as plt\n",
    "%matplotlib inline\n",
    "\n",
    "from keras import models, layers\n",
    "from keras.preprocessing.sequence import pad_sequences\n",
    "\n",
    "\n",
    "# Local imports\n",
    "sys.path.append(\"/home/duanders/AI-HEP.Trk/discrete_extraps\")\n",
    "from drawing import draw_event, draw_input_and_pred\n",
    "\n",
    "def simulate_straight_track(m, b, det_shape):\n",
    "    \"\"\"\n",
    "    Simulate detector data for one straight track.\n",
    "    Parameters:\n",
    "        m: track slope parameter\n",
    "        b: track first-layer intercept parameter (detector entry point)\n",
    "        det_shape: tuple of detector shape: (depth, width)\n",
    "    Returns:\n",
    "        ndarray of binary detector data for one track.\n",
    "    \"\"\"\n",
    "    x = np.zeros(det_shape)\n",
    "    idx = np.arange(det_shape[0])\n",
    "    hits = (idx*m + b).astype(int)\n",
    "    valid = (hits > 0) & (hits < det_shape[1])\n",
    "    x[idx[valid], hits[valid]] = 1\n",
    "    return x"
   ]
  },
  {
   "cell_type": "code",
   "execution_count": 20,
   "metadata": {
    "collapsed": true
   },
   "outputs": [],
   "source": [
    "# Training parameters\n",
    "batch_size = 256\n",
    "epoch_size = 256000\n",
    "num_epochs = 15\n",
    "\n",
    "# Data parameters\n",
    "det_width = 50\n",
    "det_depth = 50\n",
    "det_shape = (det_width, det_depth)"
   ]
  },
  {
   "cell_type": "code",
   "execution_count": 21,
   "metadata": {
    "collapsed": true
   },
   "outputs": [],
   "source": [
    "# Number of tracks in each event follows Poisson distribution\n",
    "mean_tracks = 3\n",
    "max_tracks = 6"
   ]
  },
  {
   "cell_type": "markdown",
   "metadata": {},
   "source": [
    "## Model 2: convnet with outputs for multiple tracks"
   ]
  },
  {
   "cell_type": "code",
   "execution_count": 28,
   "metadata": {
    "collapsed": true
   },
   "outputs": [],
   "source": [
    "# Generator for single-track events\n",
    "def gen_tracks(batch_size=batch_size, det_shape=det_shape):\n",
    "    \"\"\"Arguments: \n",
    "         batch_size: number of events to yield for each call\n",
    "       Yields: batches of training data for use with the keras fit_generator function\n",
    "    \"\"\"\n",
    "    while True:\n",
    "        # Entry and exit points are randomized\n",
    "        bs = np.random.random_sample(size=batch_size)*det_width\n",
    "        b2s = np.random.random_sample(size=batch_size)*det_width\n",
    "        ms = (b2s-bs)/det_depth\n",
    "        tracks = np.zeros((batch_size, 1, det_depth, det_width))\n",
    "        targets = zip(bs, ms)\n",
    "        for i, (b, m) in enumerate(targets):\n",
    "            tracks[i,0] = simulate_straight_track(m, b, det_shape)\n",
    "        targets = np.asarray(targets)\n",
    "        yield tracks, targets\n",
    "        \n",
    "# Generator for multi-track events.\n",
    "# Each event contains exactly n_tracks tracks.\n",
    "# The target track parameters are sorted in increasing order of intercept.\n",
    "def gen_n_tracks(batch_size=batch_size, det_shape=det_shape, n_tracks=mean_tracks):\n",
    "    gen_single = gen_tracks(batch_size=n_tracks, det_shape=det_shape)\n",
    "    while True:\n",
    "        batch_events = np.zeros((batch_size, 1, det_depth, det_width))\n",
    "        batch_targets = -np.ones((batch_size, n_tracks, 2))\n",
    "        for n in range(batch_size):\n",
    "            tracks,targets = gen_single.next()\n",
    "            batch_events[n,0] = np.clip( sum( tracks ), 0, 1)\n",
    "            event_targets = np.asarray(targets)\n",
    "            batch_targets[n] = event_targets[event_targets[:,0].argsort()] # sort by first column\n",
    "        yield batch_events, batch_targets\n",
    "        \n",
    "# Generator for multi-track events.\n",
    "# Each event contains up to max_tracks tracks.\n",
    "# The target track parameters are sorted in increasing order of intercept.\n",
    "def gen_multi_tracks(batch_size=batch_size, det_shape=det_shape, mean_tracks=mean_tracks):\n",
    "    gen_single = gen_tracks(batch_size=max_tracks, det_shape=det_shape)\n",
    "    while True:\n",
    "        batch_events = np.zeros((batch_size, 1, det_depth, det_width))\n",
    "        batch_targets = -np.ones((batch_size, max_tracks, 2))\n",
    "        for n in range(batch_size):\n",
    "            num_tracks = min( max_tracks, np.random.poisson(mean_tracks) )\n",
    "            tracks,targets = gen_single.next()\n",
    "            batch_events[n,0] = np.clip( sum( tracks[:num_tracks] ), 0, 1)\n",
    "            event_targets = np.asarray(targets[:num_tracks])\n",
    "            batch_targets[n,:num_tracks] = event_targets[event_targets[:,0].argsort()] # sort by first column\n",
    "        yield batch_events, batch_targets"
   ]
  },
  {
   "cell_type": "code",
   "execution_count": 24,
   "metadata": {
    "collapsed": false
   },
   "outputs": [
    {
     "name": "stdout",
     "output_type": "stream",
     "text": [
      "[[ 18.16588917   0.34382035]\n",
      " [ 49.7126792   -0.76278479]\n",
      " [ -1.          -1.        ]\n",
      " [ -1.          -1.        ]\n",
      " [ -1.          -1.        ]\n",
      " [ -1.          -1.        ]]\n"
     ]
    },
    {
     "data": {
      "image/png": "[encoded data removed]",
      "text/plain": [
       "<matplotlib.figure.Figure at 0x7f2186874b90>"
      ]
     },
     "metadata": {},
     "output_type": "display_data"
    }
   ],
   "source": [
    "# Test the multi-track generator\n",
    "tracks, targets = gen_multi_tracks().next()\n",
    "draw_event(tracks[0,0])\n",
    "print targets[0]"
   ]
  },
  {
   "cell_type": "code",
   "execution_count": 53,
   "metadata": {
    "collapsed": true
   },
   "outputs": [],
   "source": [
    "# Model\n",
    "def build_model_2():\n",
    "    \"\"\"Test model.  Consists of several convolutional layers followed by dense layers and an output layer\"\"\"\n",
    "    input_layer = layers.Input(shape=(1, det_depth, det_width))\n",
    "    layer = layers.Convolution2D(8, 3, 3, border_mode='same')(input_layer)\n",
    "    layer = layers.Activation('relu')(layer)\n",
    "    layer = layers.Convolution2D(8, 3, 3, border_mode='same')(layer)\n",
    "    layer = layers.Activation('relu')(layer)\n",
    "    layer = layers.MaxPooling2D(pool_size=(2,2))(layer)\n",
    "    layer = layers.Convolution2D(16, 3, 3, border_mode='same')(layer)\n",
    "    layer = layers.Activation('relu')(layer)\n",
    "    layer = layers.Convolution2D(16, 3, 3, border_mode='same')(layer)\n",
    "    layer = layers.Activation('relu')(layer)\n",
    "    layer = layers.Flatten()(layer)\n",
    "    layer = layers.Dense(20)(layer)\n",
    "    layer = layers.Dense(2*max_tracks)(layer)\n",
    "    output_layer = layers.Reshape((max_tracks,2))(layer)\n",
    "    model = models.Model(input=input_layer, output=output_layer)\n",
    "    model.compile(loss='mean_squared_error', optimizer='Adam')\n",
    "    return model"
   ]
  },
  {
   "cell_type": "code",
   "execution_count": 69,
   "metadata": {
    "collapsed": false
   },
   "outputs": [
    {
     "name": "stdout",
     "output_type": "stream",
     "text": [
      "Epoch 1/40\n",
      "256000/256000 [==============================] - 35s - loss: 56.9857    \n",
      "Epoch 2/40\n",
      "256000/256000 [==============================] - 35s - loss: 48.1575    \n",
      "Epoch 3/40\n",
      "256000/256000 [==============================] - 37s - loss: 46.2265    \n",
      "Epoch 4/40\n",
      "256000/256000 [==============================] - 34s - loss: 45.2097    \n",
      "Epoch 5/40\n",
      "256000/256000 [==============================] - 35s - loss: 44.3494    \n",
      "Epoch 6/40\n",
      "256000/256000 [==============================] - 33s - loss: 43.7542    \n",
      "Epoch 7/40\n",
      "256000/256000 [==============================] - 35s - loss: 43.2326    \n",
      "Epoch 8/40\n",
      "256000/256000 [==============================] - 33s - loss: 42.9087    \n",
      "Epoch 9/40\n",
      "256000/256000 [==============================] - 35s - loss: 42.6445    \n",
      "Epoch 10/40\n",
      "256000/256000 [==============================] - 34s - loss: 42.4258    \n",
      "Epoch 11/40\n",
      "256000/256000 [==============================] - 35s - loss: 42.3034    \n",
      "Epoch 12/40\n",
      "256000/256000 [==============================] - 37s - loss: 42.0068    \n",
      "Epoch 13/40\n",
      "256000/256000 [==============================] - 37s - loss: 41.9709    \n",
      "Epoch 14/40\n",
      "256000/256000 [==============================] - 36s - loss: 41.7466    \n",
      "Epoch 15/40\n",
      "256000/256000 [==============================] - 40s - loss: 41.5178    \n",
      "Epoch 16/40\n",
      "256000/256000 [==============================] - 39s - loss: 41.6496    \n",
      "Epoch 17/40\n",
      "256000/256000 [==============================] - 40s - loss: 41.4213    \n",
      "Epoch 18/40\n",
      "256000/256000 [==============================] - 35s - loss: 41.3556    \n",
      "Epoch 19/40\n",
      "256000/256000 [==============================] - 36s - loss: 41.3290    \n",
      "Epoch 20/40\n",
      "256000/256000 [==============================] - 36s - loss: 41.2232    \n",
      "Epoch 21/40\n",
      "256000/256000 [==============================] - 37s - loss: 41.2382    \n",
      "Epoch 22/40\n",
      "256000/256000 [==============================] - 34s - loss: 41.2314    \n",
      "Epoch 23/40\n",
      "256000/256000 [==============================] - 37s - loss: 40.9932    \n",
      "Epoch 24/40\n",
      "256000/256000 [==============================] - 38s - loss: 40.9528    \n",
      "Epoch 25/40\n",
      "256000/256000 [==============================] - 36s - loss: 40.9622    \n",
      "Epoch 26/40\n",
      "256000/256000 [==============================] - 38s - loss: 40.8631    \n",
      "Epoch 27/40\n",
      "256000/256000 [==============================] - 35s - loss: 40.9164    \n",
      "Epoch 28/40\n",
      "256000/256000 [==============================] - 37s - loss: 40.8955    \n",
      "Epoch 29/40\n",
      "256000/256000 [==============================] - 34s - loss: 40.7312    \n",
      "Epoch 30/40\n",
      "256000/256000 [==============================] - 35s - loss: 40.7168    \n",
      "Epoch 31/40\n",
      "256000/256000 [==============================] - 37s - loss: 40.6017    \n",
      "Epoch 32/40\n",
      "256000/256000 [==============================] - 38s - loss: 40.7124    \n",
      "Epoch 33/40\n",
      "256000/256000 [==============================] - 35s - loss: 40.6362    \n",
      "Epoch 34/40\n",
      "256000/256000 [==============================] - 35s - loss: 40.5722    \n",
      "Epoch 35/40\n",
      "256000/256000 [==============================] - 36s - loss: 40.4940    \n",
      "Epoch 36/40\n",
      "256000/256000 [==============================] - 35s - loss: 40.4664    \n",
      "Epoch 37/40\n",
      "256000/256000 [==============================] - 35s - loss: 40.4027    \n",
      "Epoch 38/40\n",
      "256000/256000 [==============================] - 35s - loss: 40.4272    \n",
      "Epoch 39/40\n",
      "256000/256000 [==============================] - 34s - loss: 40.4400    \n",
      "Epoch 40/40\n",
      "256000/256000 [==============================] - 36s - loss: 40.5017    \n",
      "CPU times: user 26min 16s, sys: 11min 11s, total: 37min 28s\n",
      "Wall time: 24min 14s\n"
     ]
    },
    {
     "data": {
      "text/plain": [
       "<keras.callbacks.History at 0x7fe8f2f17a90>"
      ]
     },
     "execution_count": 69,
     "metadata": {},
     "output_type": "execute_result"
    }
   ],
   "source": [
    "# Train the model\n",
    "model_2 = build_model_2()\n",
    "train_generator = gen_multi_tracks()\n",
    "%time model_2.fit_generator(train_generator, epoch_size, num_epochs)"
   ]
  },
  {
   "cell_type": "code",
   "execution_count": 72,
   "metadata": {
    "collapsed": false
   },
   "outputs": [
    {
     "name": "stdout",
     "output_type": "stream",
     "text": [
      "[[  0.92431891   0.61628342]\n",
      " [  8.30983448   0.66591275]\n",
      " [ 23.74796867   0.23954588]\n",
      " [ 35.09357071  -0.12416899]\n",
      " [ 26.13290215  -0.44355983]\n",
      " [ 11.55673027  -0.77410448]]\n"
     ]
    },
    {
     "data": {
      "image/png": "[encoded data removed]",
      "text/plain": [
       "<matplotlib.figure.Figure at 0x7fe8fc12e410>"
      ]
     },
     "metadata": {},
     "output_type": "display_data"
    }
   ],
   "source": [
    "# Visualize prediction\n",
    "test_event = gen_multi_tracks().next()[0][0]\n",
    "test_pred = model_2.predict(np.asarray([test_event]))[0]\n",
    "print test_pred\n",
    "pred_event = np.clip(sum([ simulate_straight_track(line[1], line[0], det_shape) for line in test_pred \n",
    "                         if (line[0]+det_shape[0]*line[1] < det_shape[1] \n",
    "                         and line[0]+det_shape[0]*line[1] > 0)]), 0, 1)\n",
    "draw_input_and_pred(test_event[0], pred_event)"
   ]
  },
  {
   "cell_type": "markdown",
   "metadata": {},
   "source": [
    "The result is not terrible, but I think the basic idea here is wrong.  The network is trying to learn a 6x2 matrix representing the parameters of up to six tracks.  Each track (1st, 2nd, 3rd, ...) is treated as a row in the output and each row needs to be learned separately.  The -1's indicating \"no track\" also interfere with the training and performance.  Let's try something else. "
   ]
  },
  {
   "cell_type": "markdown",
   "metadata": {},
   "source": [
    "We ultimately want a model that looks at an input image and spits out a list of tracks that it sees.  Instead of outputting a big matrix with all the tracks at once, what if we use an LSTM to output one track at a time?  At each \"time step\" the LSTM would output the parameters of one track, then change its state to prepare for the next track.  When it doesn't see any more tracks, the model can \"shut down\" and start outputting -1's for the track parameters.\n",
    "\n",
    "I'll try to implement that idea."
   ]
  },
  {
   "cell_type": "markdown",
   "metadata": {},
   "source": [
    "## Model 3: convnet with output LSTM"
   ]
  },
  {
   "cell_type": "code",
   "execution_count": 83,
   "metadata": {
    "collapsed": true
   },
   "outputs": [],
   "source": [
    "# Model\n",
    "def build_model_3():\n",
    "    \"\"\"Test model.  Consists of several convolutional layers followed by dense layers and an LSTM\"\"\"\n",
    "    input_layer = layers.Input(shape=(1, det_depth, det_width))\n",
    "    layer = layers.Convolution2D(8, 3, 3, border_mode='same')(input_layer)\n",
    "    layer = layers.Activation('relu')(layer)\n",
    "    layer = layers.Convolution2D(8, 3, 3, border_mode='same')(layer)\n",
    "    layer = layers.Activation('relu')(layer)\n",
    "    layer = layers.MaxPooling2D(pool_size=(2,2))(layer)\n",
    "    layer = layers.Convolution2D(16, 3, 3, border_mode='same')(layer)\n",
    "    layer = layers.Activation('relu')(layer)\n",
    "    layer = layers.Convolution2D(16, 3, 3, border_mode='same')(layer)\n",
    "    layer = layers.Activation('relu')(layer)\n",
    "    layer = layers.Flatten()(layer)\n",
    "    layer = layers.Dense(20)(layer)\n",
    "    layer = layers.RepeatVector(max_tracks)(layer)\n",
    "    layer = layers.LSTM(20, return_sequences=True)(layer)\n",
    "    output_layer = layers.TimeDistributed(layers.Dense(2))(layer)\n",
    "    model = models.Model(input=input_layer, output=output_layer)\n",
    "    model.compile(loss='mean_squared_error', optimizer='Adam')\n",
    "    return model"
   ]
  },
  {
   "cell_type": "code",
   "execution_count": 86,
   "metadata": {
    "collapsed": false
   },
   "outputs": [
    {
     "name": "stdout",
     "output_type": "stream",
     "text": [
      "Epoch 1/15\n",
      "256000/256000 [==============================] - 48s - loss: 126.2105    \n",
      "Epoch 2/15\n",
      "256000/256000 [==============================] - 56s - loss: 42.5746    \n",
      "Epoch 3/15\n",
      "256000/256000 [==============================] - 50s - loss: 13.6540    \n",
      "Epoch 4/15\n",
      "256000/256000 [==============================] - 48s - loss: 5.8855    \n",
      "Epoch 5/15\n",
      "256000/256000 [==============================] - 63s - loss: 3.7979    \n",
      "Epoch 6/15\n",
      "256000/256000 [==============================] - 58s - loss: 2.6522    \n",
      "Epoch 7/15\n",
      "256000/256000 [==============================] - 60s - loss: 2.0833    \n",
      "Epoch 8/15\n",
      "256000/256000 [==============================] - 64s - loss: 1.4771    \n",
      "Epoch 9/15\n",
      "256000/256000 [==============================] - 64s - loss: 1.3945    \n",
      "Epoch 10/15\n",
      "256000/256000 [==============================] - 61s - loss: 1.1488    \n",
      "Epoch 11/15\n",
      "256000/256000 [==============================] - 49s - loss: 0.7812    \n",
      "Epoch 12/15\n",
      "256000/256000 [==============================] - 59s - loss: 0.7314    \n",
      "Epoch 13/15\n",
      "256000/256000 [==============================] - 64s - loss: 0.8593    \n",
      "Epoch 14/15\n",
      "256000/256000 [==============================] - 58s - loss: 0.5957    \n",
      "Epoch 15/15\n",
      "256000/256000 [==============================] - 59s - loss: 0.5945    \n",
      "CPU times: user 15min 16s, sys: 5min 15s, total: 20min 32s\n",
      "Wall time: 14min 37s\n"
     ]
    },
    {
     "data": {
      "text/plain": [
       "<keras.callbacks.History at 0x7fe8df942b10>"
      ]
     },
     "execution_count": 86,
     "metadata": {},
     "output_type": "execute_result"
    }
   ],
   "source": [
    "# Train the model\n",
    "model_3 = build_model_3()\n",
    "train_generator = gen_multi_tracks()\n",
    "%time model_3.fit_generator(train_generator, epoch_size, num_epochs)"
   ]
  },
  {
   "cell_type": "code",
   "execution_count": 87,
   "metadata": {
    "collapsed": true
   },
   "outputs": [],
   "source": [
    "model_3.save(\"model_3_loss0p5945.h5\")"
   ]
  },
  {
   "cell_type": "code",
   "execution_count": 95,
   "metadata": {
    "collapsed": false
   },
   "outputs": [
    {
     "name": "stdout",
     "output_type": "stream",
     "text": [
      "[[ 15.59423677   0.34473929]\n",
      " [ 23.92721362   0.43995398]\n",
      " [ 44.92571795  -0.22291655]\n",
      " [ -1.          -1.        ]\n",
      " [ -1.          -1.        ]\n",
      " [ -1.          -1.        ]]\n",
      "[[ 14.84936237   0.2683408 ]\n",
      " [ 23.21640015   0.10335854]\n",
      " [ 44.8633461   -0.35153458]\n",
      " [ -1.14415598  -0.93546438]\n",
      " [ -0.87830925  -1.03105271]\n",
      " [ -0.87907052  -1.06142414]]\n"
     ]
    },
    {
     "data": {
      "image/png": "[encoded data removed]",
      "text/plain": [
       "<matplotlib.figure.Figure at 0x7fe8d9e3d050>"
      ]
     },
     "metadata": {},
     "output_type": "display_data"
    }
   ],
   "source": [
    "# Visualize prediction\n",
    "test_data = gen_multi_tracks().next()\n",
    "test_event = test_data[0][0]\n",
    "test_target = test_data[1][0]\n",
    "test_pred = model_3.predict(np.asarray([test_event]))[0]\n",
    "print test_target\n",
    "print test_pred\n",
    "pred_event = np.clip(sum([ simulate_straight_track(line[1], line[0], det_shape) for line in test_pred \n",
    "                         if (line[0]+det_shape[0]*line[1] < det_shape[1] \n",
    "                         and line[0]+det_shape[0]*line[1] > 0)]), 0, 1)\n",
    "draw_input_and_pred(test_event[0], pred_event)"
   ]
  },
  {
   "cell_type": "markdown",
   "metadata": {},
   "source": [
    "The loss is much lower than before, but the model predictions kind of suck!  \n",
    "\n",
    "Notice that the model does really well at predicting the null -1 values in the target.  This seems to be the main improvement over model_2: the model is good at counting the number of tracks in the image and \"shutting off\" (i.e. returning only -1s) when there are no more tracks.  So it realizes the basic idea I had in mind.  But we need the model to prioritize getting the track parameters quantitatively correct."
   ]
  },
  {
   "cell_type": "markdown",
   "metadata": {},
   "source": [
    "Let's take a step back and try training on events with a fixed number of tracks."
   ]
  },
  {
   "cell_type": "markdown",
   "metadata": {},
   "source": [
    "## Model 4: convnet + LSTM for 3-track events"
   ]
  },
  {
   "cell_type": "code",
   "execution_count": 31,
   "metadata": {
    "collapsed": false
   },
   "outputs": [
    {
     "name": "stdout",
     "output_type": "stream",
     "text": [
      "[[  3.47626496   0.56009543]\n",
      " [ 28.9768114    0.34842795]\n",
      " [ 40.08474785  -0.75126395]]\n"
     ]
    },
    {
     "data": {
      "image/png": "[encoded data removed]",
      "text/plain": [
       "<matplotlib.figure.Figure at 0x7f213c1fd650>"
      ]
     },
     "metadata": {},
     "output_type": "display_data"
    }
   ],
   "source": [
    "# Test the n-track generator\n",
    "tracks, targets = gen_n_tracks().next()\n",
    "draw_event(tracks[0,0])\n",
    "print targets[0]"
   ]
  },
  {
   "cell_type": "code",
   "execution_count": 33,
   "metadata": {
    "collapsed": true
   },
   "outputs": [],
   "source": [
    "# Model\n",
    "def build_model_4():\n",
    "    \"\"\"Test model.  Consists of several convolutional layers followed by dense layers and an LSTM\"\"\"\n",
    "    input_layer = layers.Input(shape=(1, det_depth, det_width))\n",
    "    layer = layers.Convolution2D(8, 3, 3, border_mode='same')(input_layer)\n",
    "    layer = layers.Activation('relu')(layer)\n",
    "    layer = layers.Convolution2D(8, 3, 3, border_mode='same')(layer)\n",
    "    layer = layers.Activation('relu')(layer)\n",
    "    layer = layers.MaxPooling2D(pool_size=(2,2))(layer)\n",
    "    layer = layers.Convolution2D(16, 3, 3, border_mode='same')(layer)\n",
    "    layer = layers.Activation('relu')(layer)\n",
    "    layer = layers.Convolution2D(16, 3, 3, border_mode='same')(layer)\n",
    "    layer = layers.Activation('relu')(layer)\n",
    "    layer = layers.Flatten()(layer)\n",
    "    layer = layers.Dense(20)(layer)\n",
    "    layer = layers.RepeatVector(mean_tracks)(layer)\n",
    "    layer = layers.LSTM(20, return_sequences=True)(layer)\n",
    "    output_layer = layers.TimeDistributed(layers.Dense(2))(layer)\n",
    "    model = models.Model(input=input_layer, output=output_layer)\n",
    "    model.compile(loss='mean_squared_error', optimizer='Adam')\n",
    "    return model"
   ]
  },
  {
   "cell_type": "code",
   "execution_count": 35,
   "metadata": {
    "collapsed": false
   },
   "outputs": [
    {
     "name": "stderr",
     "output_type": "stream",
     "text": [
      "INFO (theano.gof.compilelock): Refreshing lock /home/duanders/.theano/compiledir_Linux-3.19--generic-x86_64-with-Ubuntu-15.04-vivid-x86_64-2.7.9-64/lock_dir/lock\n"
     ]
    },
    {
     "name": "stdout",
     "output_type": "stream",
     "text": [
      "Epoch 1/15\n",
      "256000/256000 [==============================] - 37s - loss: 228.2562    \n",
      "Epoch 2/15\n",
      "256000/256000 [==============================] - 36s - loss: 100.7950    \n",
      "Epoch 3/15\n",
      "256000/256000 [==============================] - 38s - loss: 33.9430    \n",
      "Epoch 4/15\n",
      "256000/256000 [==============================] - 38s - loss: 7.2479    \n",
      "Epoch 5/15\n",
      "256000/256000 [==============================] - 39s - loss: 1.2310    \n",
      "Epoch 6/15\n",
      "256000/256000 [==============================] - 39s - loss: 0.3560    \n",
      "Epoch 7/15\n",
      "256000/256000 [==============================] - 39s - loss: 0.2051    \n",
      "Epoch 8/15\n",
      "256000/256000 [==============================] - 40s - loss: 0.1485    \n",
      "Epoch 9/15\n",
      "256000/256000 [==============================] - 35s - loss: 0.1253    \n",
      "Epoch 10/15\n",
      "256000/256000 [==============================] - 40s - loss: 0.1075    \n",
      "Epoch 11/15\n",
      "256000/256000 [==============================] - 42s - loss: 0.0948    \n",
      "Epoch 12/15\n",
      "256000/256000 [==============================] - 42s - loss: 0.0802    \n",
      "Epoch 13/15\n",
      "256000/256000 [==============================] - 42s - loss: 0.0702    \n",
      "Epoch 14/15\n",
      "256000/256000 [==============================] - 44s - loss: 0.0705    \n",
      "Epoch 15/15\n",
      "256000/256000 [==============================] - 41s - loss: 0.0562    \n",
      "CPU times: user 10min 52s, sys: 5min 3s, total: 15min 56s\n",
      "Wall time: 10min 9s\n"
     ]
    },
    {
     "data": {
      "text/plain": [
       "<keras.callbacks.History at 0x7f2152d2ce50>"
      ]
     },
     "execution_count": 35,
     "metadata": {},
     "output_type": "execute_result"
    }
   ],
   "source": [
    "# Train the model\n",
    "model_4 = build_model_4()\n",
    "train_generator = gen_n_tracks()\n",
    "%time model_4.fit_generator(train_generator, epoch_size, num_epochs)"
   ]
  },
  {
   "cell_type": "code",
   "execution_count": 36,
   "metadata": {
    "collapsed": false
   },
   "outputs": [
    {
     "name": "stdout",
     "output_type": "stream",
     "text": [
      "Epoch 1/15\n",
      "256000/256000 [==============================] - 39s - loss: 0.0525    \n",
      "Epoch 2/15\n",
      "256000/256000 [==============================] - 40s - loss: 0.0531    \n",
      "Epoch 3/15\n",
      "256000/256000 [==============================] - 40s - loss: 0.0450    \n",
      "Epoch 4/15\n",
      "256000/256000 [==============================] - 42s - loss: 0.0417    \n",
      "Epoch 5/15\n",
      "256000/256000 [==============================] - 40s - loss: 0.0412    \n",
      "Epoch 6/15\n",
      "256000/256000 [==============================] - 38s - loss: 0.0402    \n",
      "Epoch 7/15\n",
      "256000/256000 [==============================] - 40s - loss: 0.0389    \n",
      "Epoch 8/15\n",
      "256000/256000 [==============================] - 42s - loss: 0.0353    \n",
      "Epoch 9/15\n",
      "256000/256000 [==============================] - 44s - loss: 0.0375    \n",
      "Epoch 10/15\n",
      "256000/256000 [==============================] - 43s - loss: 0.0335    \n",
      "Epoch 11/15\n",
      "256000/256000 [==============================] - 41s - loss: 0.0329    \n",
      "Epoch 12/15\n",
      "256000/256000 [==============================] - 43s - loss: 0.0324    \n",
      "Epoch 13/15\n",
      "256000/256000 [==============================] - 39s - loss: 0.0302    \n",
      "Epoch 14/15\n",
      "256000/256000 [==============================] - 40s - loss: 0.0311    \n",
      "Epoch 15/15\n",
      "256000/256000 [==============================] - 42s - loss: 0.0283    \n",
      "CPU times: user 11min 4s, sys: 5min 2s, total: 16min 7s\n",
      "Wall time: 10min 20s\n"
     ]
    },
    {
     "data": {
      "text/plain": [
       "<keras.callbacks.History at 0x7f2152d24690>"
      ]
     },
     "execution_count": 36,
     "metadata": {},
     "output_type": "execute_result"
    }
   ],
   "source": [
    "# More training\n",
    "%time model_4.fit_generator(train_generator, epoch_size, num_epochs)"
   ]
  },
  {
   "cell_type": "code",
   "execution_count": 47,
   "metadata": {
    "collapsed": true
   },
   "outputs": [],
   "source": [
    "model_4.save(\"model_4_loss0p0283.h5\")"
   ]
  },
  {
   "cell_type": "code",
   "execution_count": 63,
   "metadata": {
    "collapsed": false
   },
   "outputs": [
    {
     "name": "stdout",
     "output_type": "stream",
     "text": [
      "[[  6.13308636e+00   8.15517700e-01]\n",
      " [  2.58644821e+01   3.23311156e-01]\n",
      " [  3.93270645e+01  -1.20947603e-03]]\n",
      "[[  6.28803110e+00   7.43328214e-01]\n",
      " [  2.60630417e+01   2.98108101e-01]\n",
      " [  3.95237923e+01  -1.81970000e-03]]\n"
     ]
    },
    {
     "data": {
      "image/png": "[encoded data removed]",
      "text/plain": [
       "<matplotlib.figure.Figure at 0x7f215051c410>"
      ]
     },
     "metadata": {},
     "output_type": "display_data"
    }
   ],
   "source": [
    "# Visualize prediction\n",
    "test_data = gen_n_tracks().next()\n",
    "test_event = test_data[0][0]\n",
    "test_target = test_data[1][0]\n",
    "test_pred = model_4.predict(np.asarray([test_event]))[0]\n",
    "print test_target\n",
    "print test_pred\n",
    "pred_event = np.clip(sum([ simulate_straight_track(line[1], line[0], det_shape) for line in test_pred ]), 0, 1)\n",
    "draw_input_and_pred(test_event[0], pred_event)"
   ]
  },
  {
   "cell_type": "markdown",
   "metadata": {},
   "source": [
    "It's not perfect.  But there is a lot of room to optimize the model architecture.  The approach should also scale to larger numbers of tracks (to be confirmed)."
   ]
  },
  {
   "cell_type": "markdown",
   "metadata": {},
   "source": [
    "## Model 5: convnet + LSTM with variable number of tracks and training data masking"
   ]
  },
  {
   "cell_type": "markdown",
   "metadata": {},
   "source": [
    "We would like the model to deal with a variable number of tracks in the event.  As a first try, let's do this by applying a mask to the training targets.  This will cause the loss function to only consider the model's first N outputs, where N is the (true) number of tracks in the event.  \n",
    "\n",
    "We can mask the output data using keras's sample_weight mechanism.  However, fit_generator() does not seem to support sample_weight, so we will generate a fixed training set and use the regular fit() function."
   ]
  },
  {
   "cell_type": "code",
   "execution_count": 71,
   "metadata": {
    "collapsed": false
   },
   "outputs": [],
   "source": [
    "# Generate a fixed dataset of multi-track events\n",
    "epoch_size = 512000\n",
    "gen_single = gen_tracks(batch_size=max_tracks, det_shape=det_shape)\n",
    "\n",
    "train_events = np.zeros((epoch_size, 1, det_depth, det_width))\n",
    "train_targets = -99 * np.ones((epoch_size, max_tracks, 2))\n",
    "train_weights = np.zeros((epoch_size, max_tracks))\n",
    "for n in range(epoch_size):\n",
    "    num_tracks = min( max_tracks, np.random.poisson(mean_tracks) )\n",
    "    tracks,targets = gen_single.next()\n",
    "    train_events[n,0] = np.clip( sum( tracks[:num_tracks] ), 0, 1)\n",
    "    event_targets = np.asarray(targets[:num_tracks])\n",
    "    train_targets[n,:num_tracks] = event_targets[event_targets[:,0].argsort()] # sort by first column\n",
    "    train_weights[n,:num_tracks] = np.ones((num_tracks))"
   ]
  },
  {
   "cell_type": "code",
   "execution_count": 72,
   "metadata": {
    "collapsed": false
   },
   "outputs": [
    {
     "name": "stdout",
     "output_type": "stream",
     "text": [
      "[[ 15.66763756   0.10940302]\n",
      " [ 18.83608308  -0.2996626 ]\n",
      " [ 31.35249821   0.37274601]\n",
      " [ 40.52871348  -0.61389101]\n",
      " [ 43.93151772  -0.71261226]\n",
      " [-99.         -99.        ]]\n",
      "[ 1.  1.  1.  1.  1.  0.]\n"
     ]
    },
    {
     "data": {
      "image/png": "[encoded data removed]",
      "text/plain": [
       "<matplotlib.figure.Figure at 0x7f2150ae05d0>"
      ]
     },
     "metadata": {},
     "output_type": "display_data"
    }
   ],
   "source": [
    "# Check the training data\n",
    "test_index = np.random.randint(epoch_size)\n",
    "draw_event(train_events[test_index,0])\n",
    "print train_targets[test_index]\n",
    "print train_weights[test_index]"
   ]
  },
  {
   "cell_type": "markdown",
   "metadata": {},
   "source": [
    "When we train with these sample weights, the loss function will ignore all of the null -99 tracks in the training data.  The model will still produce six tracks' worth of output for each event, and anything it produces beyond the true number of tracks will be garbage.  We can deal with that later.  \n",
    "\n",
    "The model needs to be compiled slightly differently now, to enable the training weights."
   ]
  },
  {
   "cell_type": "code",
   "execution_count": 73,
   "metadata": {
    "collapsed": true
   },
   "outputs": [],
   "source": [
    "# Model\n",
    "def build_model_5():\n",
    "    \"\"\"Test model.  Consists of several convolutional layers followed by dense layers and an LSTM\"\"\"\n",
    "    input_layer = layers.Input(shape=(1, det_depth, det_width))\n",
    "    layer = layers.Convolution2D(8, 3, 3, border_mode='same')(input_layer)\n",
    "    layer = layers.Activation('relu')(layer)\n",
    "    layer = layers.Convolution2D(8, 3, 3, border_mode='same')(layer)\n",
    "    layer = layers.Activation('relu')(layer)\n",
    "    layer = layers.MaxPooling2D(pool_size=(2,2))(layer)\n",
    "    layer = layers.Convolution2D(16, 3, 3, border_mode='same')(layer)\n",
    "    layer = layers.Activation('relu')(layer)\n",
    "    layer = layers.Convolution2D(16, 3, 3, border_mode='same')(layer)\n",
    "    layer = layers.Activation('relu')(layer)\n",
    "    layer = layers.Flatten()(layer)\n",
    "    layer = layers.Dense(20)(layer)\n",
    "    layer = layers.RepeatVector(max_tracks)(layer)\n",
    "    layer = layers.LSTM(20, return_sequences=True)(layer)\n",
    "    output_layer = layers.TimeDistributed(layers.Dense(2))(layer)\n",
    "    model = models.Model(input=input_layer, output=output_layer)\n",
    "    model.compile(loss='mean_squared_error', optimizer='Adam', sample_weight_mode=\"temporal\")\n",
    "    return model"
   ]
  },
  {
   "cell_type": "code",
   "execution_count": 74,
   "metadata": {
    "collapsed": false
   },
   "outputs": [
    {
     "name": "stdout",
     "output_type": "stream",
     "text": [
      "Train on 460800 samples, validate on 51200 samples\n",
      "Epoch 1/15\n",
      "460800/460800 [==============================] - 63s - loss: 195.1578 - val_loss: 111.4176\n",
      "Epoch 2/15\n",
      "460800/460800 [==============================] - 63s - loss: 95.6665 - val_loss: 90.4567\n",
      "Epoch 3/15\n",
      "460800/460800 [==============================] - 63s - loss: 69.3470 - val_loss: 21.7982\n",
      "Epoch 4/15\n",
      "460800/460800 [==============================] - 63s - loss: 11.6627 - val_loss: 6.1966\n",
      "Epoch 5/15\n",
      "460800/460800 [==============================] - 63s - loss: 4.1037 - val_loss: 2.6410\n",
      "Epoch 6/15\n",
      "460800/460800 [==============================] - 64s - loss: 1.9791 - val_loss: 1.4819\n",
      "Epoch 7/15\n",
      "460800/460800 [==============================] - 63s - loss: 1.2454 - val_loss: 1.0624\n",
      "Epoch 8/15\n",
      "460800/460800 [==============================] - 63s - loss: 0.8761 - val_loss: 0.7678\n",
      "Epoch 9/15\n",
      "460800/460800 [==============================] - 63s - loss: 0.6639 - val_loss: 0.6671\n",
      "Epoch 10/15\n",
      "460800/460800 [==============================] - 64s - loss: 0.5413 - val_loss: 0.5357\n",
      "Epoch 11/15\n",
      "460800/460800 [==============================] - 63s - loss: 0.4752 - val_loss: 0.5734\n",
      "Epoch 12/15\n",
      "460800/460800 [==============================] - 63s - loss: 0.4321 - val_loss: 0.4773\n",
      "Epoch 13/15\n",
      "460800/460800 [==============================] - 63s - loss: 0.3933 - val_loss: 0.4335\n",
      "Epoch 14/15\n",
      "460800/460800 [==============================] - 63s - loss: 0.3733 - val_loss: 0.4293\n",
      "Epoch 15/15\n",
      "460800/460800 [==============================] - 63s - loss: 0.3570 - val_loss: 0.4121\n"
     ]
    },
    {
     "data": {
      "text/plain": [
       "<keras.callbacks.History at 0x7f1d86bc0c50>"
      ]
     },
     "execution_count": 74,
     "metadata": {},
     "output_type": "execute_result"
    }
   ],
   "source": [
    "# Train the model\n",
    "model_5 = build_model_5()\n",
    "model_5.fit(train_events, train_targets, batch_size=batch_size, nb_epoch=num_epochs, \n",
    "           validation_split=0.1, sample_weight=train_weights)"
   ]
  },
  {
   "cell_type": "code",
   "execution_count": 76,
   "metadata": {
    "collapsed": false
   },
   "outputs": [
    {
     "name": "stdout",
     "output_type": "stream",
     "text": [
      "Train on 460800 samples, validate on 51200 samples\n",
      "Epoch 1/5\n",
      "460800/460800 [==============================] - 63s - loss: 0.3025 - val_loss: 0.3463\n",
      "Epoch 2/5\n",
      "460800/460800 [==============================] - 63s - loss: 0.2893 - val_loss: 0.3493\n",
      "Epoch 3/5\n",
      "460800/460800 [==============================] - 64s - loss: 0.2836 - val_loss: 0.3412\n",
      "Epoch 4/5\n",
      "460800/460800 [==============================] - 63s - loss: 0.2790 - val_loss: 0.3554\n",
      "Epoch 5/5\n",
      "460800/460800 [==============================] - 63s - loss: 0.2763 - val_loss: 0.3752\n"
     ]
    },
    {
     "data": {
      "text/plain": [
       "<keras.callbacks.History at 0x7f1d86bc0fd0>"
      ]
     },
     "execution_count": 76,
     "metadata": {},
     "output_type": "execute_result"
    }
   ],
   "source": [
    "# Let's give it a few more epochs\n",
    "model_5.fit(train_events, train_targets, batch_size=batch_size, nb_epoch=5, \n",
    "           validation_split=0.1, sample_weight=train_weights)"
   ]
  },
  {
   "cell_type": "code",
   "execution_count": 94,
   "metadata": {
    "collapsed": false
   },
   "outputs": [
    {
     "name": "stdout",
     "output_type": "stream",
     "text": [
      "[[  6.19725284  -0.05690172]\n",
      " [ 29.70122866  -0.37300588]\n",
      " [ 36.02588691  -0.1932298 ]\n",
      " [ 44.44537198  -0.0750283 ]]\n",
      "[[  6.47184467   0.36744663]\n",
      " [ 30.3733654   -0.10784769]\n",
      " [ 36.58030701  -0.17157298]\n",
      " [ 44.50917053  -0.3748337 ]]\n"
     ]
    },
    {
     "data": {
      "image/png": "[encoded data removed]",
      "text/plain": [
       "<matplotlib.figure.Figure at 0x7f1d850c5a10>"
      ]
     },
     "metadata": {},
     "output_type": "display_data"
    }
   ],
   "source": [
    "# Visualize prediction\n",
    "test_index = np.random.randint(epoch_size*0.9,epoch_size)\n",
    "test_event = train_events[test_index]\n",
    "test_weights = train_weights[test_index].astype(np.bool_)\n",
    "test_target = train_targets[test_index][test_weights]\n",
    "test_pred = model_5.predict(np.asarray([test_event]))[0][test_weights]\n",
    "print test_target\n",
    "print test_pred\n",
    "pred_event = np.clip(sum([ simulate_straight_track(line[1], line[0], det_shape) for line in test_pred ]), 0, 1)\n",
    "draw_input_and_pred(test_event[0], pred_event)"
   ]
  },
  {
   "cell_type": "markdown",
   "metadata": {},
   "source": [
    "Looks like this part needs work.\n",
    "\n",
    "I think the MSE loss function is not quite right.  Deviations in the slope should be penalized more heavily than deviations in the intercept because small changes in slope have a strong effect on the output track.  Join me in the next episode as I investigate this and other ideas. "
   ]
  },
  {
   "cell_type": "code",
   "execution_count": null,
   "metadata": {
    "collapsed": true
   },
   "outputs": [],
   "source": []
  }
 ],
 "metadata": {
  "kernelspec": {
   "display_name": "Python 2",
   "language": "python",
   "name": "python2"
  },
  "language_info": {
   "codemirror_mode": {
    "name": "ipython",
    "version": 2
   },
   "file_extension": ".py",
   "mimetype": "text/x-python",
   "name": "python",
   "nbconvert_exporter": "python",
   "pygments_lexer": "ipython2",
   "version": "2.7.9"
  }
 },
 "nbformat": 4,
 "nbformat_minor": 0
}
