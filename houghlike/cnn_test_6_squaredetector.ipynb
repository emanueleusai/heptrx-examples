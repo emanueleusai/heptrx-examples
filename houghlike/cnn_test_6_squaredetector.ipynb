{
 "cells": [
  {
   "cell_type": "markdown",
   "metadata": {},
   "source": [
    "Goal: augment our tracking CNN model with a likelihood-based objective and per-event estimates of uncertainties\n",
    "\n",
    "Author: Dustin Anderson"
   ]
  },
  {
   "cell_type": "code",
   "execution_count": 129,
   "metadata": {
    "collapsed": false
   },
   "outputs": [],
   "source": [
    "# Standard imports\n",
    "import sys\n",
    "\n",
    "# Package imports\n",
    "import numpy as np\n",
    "np.random.seed(2341)\n",
    "\n",
    "import matplotlib.pyplot as plt\n",
    "%matplotlib inline\n",
    "\n",
    "from keras import models, layers\n",
    "from keras.preprocessing.sequence import pad_sequences\n",
    "import keras.backend as K\n",
    "\n",
    "# Local imports\n",
    "sys.path.append(\"/home/duanders/AI-HEP.Trk/discrete_extraps\")\n",
    "from drawing import draw_event, draw_input_and_pred"
   ]
  },
  {
   "cell_type": "markdown",
   "metadata": {},
   "source": [
    "I'm going to keep the number of pixels roughly the same, but change the detector shape so it has fewer layers and more pixels per layer."
   ]
  },
  {
   "cell_type": "code",
   "execution_count": 130,
   "metadata": {
    "collapsed": true
   },
   "outputs": [],
   "source": [
    "# Training parameters\n",
    "batch_size = 256\n",
    "epoch_size = 256000\n",
    "num_epochs = 30\n",
    "\n",
    "# Data parameters\n",
    "det_width = 50\n",
    "det_depth = 50\n",
    "det_shape = (det_depth, det_width)\n",
    "\n",
    "# Track slopes are chosen by choosing a start and end point at random,\n",
    "# where the end point lies on a plane some distance away (possibly behind the detector)\n",
    "eff_depth = det_width\n",
    "\n",
    "# Scale track slopes up so that slopes and intercepts receive equal weights in the loss function.\n",
    "slope_scale = eff_depth/2\n",
    "\n",
    "# Number of tracks in each event follows Poisson distribution\n",
    "mean_tracks = 3\n",
    "max_tracks = 6"
   ]
  },
  {
   "cell_type": "code",
   "execution_count": 131,
   "metadata": {
    "collapsed": true
   },
   "outputs": [],
   "source": [
    "def simulate_straight_track(m, b, det_shape):\n",
    "    \"\"\"\n",
    "    Simulate detector data for one straight track.\n",
    "    Parameters:\n",
    "        m: track slope parameter\n",
    "        b: track first-layer intercept parameter (detector entry point)\n",
    "        det_shape: tuple of detector shape: (depth, width)\n",
    "    Returns:\n",
    "        ndarray of binary detector data for one track.\n",
    "    \"\"\"\n",
    "    x = np.zeros(det_shape)\n",
    "    idx = np.arange(det_shape[0])\n",
    "    hits = (idx*m + b).astype(int)\n",
    "    valid = (hits > 0) & (hits < det_shape[1])\n",
    "    x[idx[valid], hits[valid]] = 1\n",
    "    return x\n",
    "\n",
    "# Generator for single-track events\n",
    "def gen_tracks(batch_size=batch_size, det_shape=det_shape):\n",
    "    \"\"\"Arguments: \n",
    "         batch_size: number of events to yield for each call\n",
    "       Yields: batches of training data for use with the keras fit_generator function\n",
    "    \"\"\"\n",
    "    while True:\n",
    "        # Entry and exit points are randomized\n",
    "        bs = np.random.random_sample(size=batch_size)*det_width\n",
    "        b2s = np.random.random_sample(size=batch_size)*det_width\n",
    "        # Note: slopes are calculated assuming a square detector.\n",
    "        # This prevents extremely large slope values in the non-square detector case\n",
    "        ms = (b2s-bs)/eff_depth*slope_scale # scaled slope\n",
    "        tracks = np.zeros((batch_size, 1, det_depth, det_width))\n",
    "        # append dummy values for covariance matrix entries\n",
    "        # (these are predicted by the model but have no ground truth values)\n",
    "        dummy_cov = np.zeros((batch_size))\n",
    "        targets = zip(bs, ms, dummy_cov, dummy_cov, dummy_cov)\n",
    "        for i, (b,m,_,_,_) in enumerate(targets):\n",
    "            tracks[i,0] = simulate_straight_track(m/slope_scale, b, det_shape)\n",
    "        targets = np.asarray(targets)\n",
    "        yield tracks, targets\n",
    "        \n",
    "# Generator for multi-track events.\n",
    "# Each event contains exactly n_tracks tracks.\n",
    "# The target track parameters are sorted in increasing order of intercept.\n",
    "def gen_n_tracks(batch_size=batch_size, det_shape=det_shape, n_tracks=mean_tracks):\n",
    "    gen_single = gen_tracks(batch_size=n_tracks, det_shape=det_shape)\n",
    "    while True:\n",
    "        batch_events = np.zeros((batch_size, 1, det_depth, det_width))\n",
    "        batch_targets = -np.ones((batch_size, n_tracks, 5))\n",
    "        for n in range(batch_size):\n",
    "            tracks,targets = gen_single.next()\n",
    "            batch_events[n,0] = np.clip( sum( tracks ), 0, 1)\n",
    "            event_targets = np.asarray(targets)\n",
    "            batch_targets[n] = event_targets[event_targets[:,0].argsort()] # sort by first column\n",
    "        yield batch_events, batch_targets\n",
    "        \n",
    "# Generator for multi-track events.\n",
    "# Each event contains up to max_tracks tracks.\n",
    "# The target track parameters are sorted in increasing order of intercept.\n",
    "def gen_multi_tracks(batch_size=batch_size, det_shape=det_shape, mean_tracks=mean_tracks):\n",
    "    gen_single = gen_tracks(batch_size=max_tracks, det_shape=det_shape)\n",
    "    while True:\n",
    "        batch_events = np.zeros((batch_size, 1, det_depth, det_width))\n",
    "        batch_targets = -np.ones((batch_size, max_tracks, 5))\n",
    "        for n in range(batch_size):\n",
    "            num_tracks = min( max_tracks, np.random.poisson(mean_tracks) )\n",
    "            tracks,targets = gen_single.next()\n",
    "            batch_events[n,0] = np.clip( sum( tracks[:num_tracks] ), 0, 1)\n",
    "            event_targets = np.asarray(targets[:num_tracks])\n",
    "            batch_targets[n,:num_tracks] = event_targets[event_targets[:,0].argsort()] # sort by first column\n",
    "        yield batch_events, batch_targets"
   ]
  },
  {
   "cell_type": "code",
   "execution_count": 4,
   "metadata": {
    "collapsed": false
   },
   "outputs": [
    {
     "name": "stdout",
     "output_type": "stream",
     "text": [
      "[[ 25.57873616   8.36826908   0.           0.           0.        ]\n",
      " [ 35.58380225 -17.19540698   0.           0.           0.        ]\n",
      " [ -1.          -1.          -1.          -1.          -1.        ]\n",
      " [ -1.          -1.          -1.          -1.          -1.        ]\n",
      " [ -1.          -1.          -1.          -1.          -1.        ]\n",
      " [ -1.          -1.          -1.          -1.          -1.        ]]\n"
     ]
    },
    {
     "data": {
      "image/png": "[encoded data removed]",
      "text/plain": [
       "<matplotlib.figure.Figure at 0x7f5ce4270b90>"
      ]
     },
     "metadata": {},
     "output_type": "display_data"
    }
   ],
   "source": [
    "# Test the multi-track generator\n",
    "tracks, targets = gen_multi_tracks().next()\n",
    "draw_event(tracks[0,0])\n",
    "print targets[0]"
   ]
  },
  {
   "cell_type": "markdown",
   "metadata": {},
   "source": [
    "### Likelihood-based objective function"
   ]
  },
  {
   "cell_type": "markdown",
   "metadata": {},
   "source": [
    "The goal now is to define a model that makes predictions about its uncertainties event by event and track by track.  \n",
    "\n",
    "The model will have a second output for each track: the independent entries of the track parameter covariance matrix.  This output will be learned jointly with the track parameters.  The loss function will be a gaussian likelihood for the track parameters, using the covariance matrix output by the model."
   ]
  },
  {
   "cell_type": "code",
   "execution_count": 132,
   "metadata": {
    "collapsed": false
   },
   "outputs": [],
   "source": [
    "import gauss_likelihood_loss\n",
    "\n",
    "# Model\n",
    "def build_model_2(n_tracks=mean_tracks):\n",
    "    \"\"\"Same architecture as model 1, but also outputs track covariance matrix\"\"\"\n",
    "    input_layer = layers.Input(shape=(1, det_depth, det_width))\n",
    "    layer = layers.Convolution2D(8, 3, 3, border_mode='same')(input_layer)\n",
    "    layer = layers.Activation('relu')(layer)\n",
    "    layer = layers.Convolution2D(8, 3, 3, border_mode='same')(layer)\n",
    "    layer = layers.Activation('relu')(layer)\n",
    "    layer = layers.MaxPooling2D(pool_size=(2,2))(layer)\n",
    "    layer = layers.Convolution2D(32, 3, 3, border_mode='same')(layer)\n",
    "    layer = layers.Activation('relu')(layer)\n",
    "    layer = layers.Convolution2D(32, 3, 3, border_mode='same')(layer)\n",
    "    layer = layers.Activation('relu')(layer)\n",
    "    layer = layers.Flatten()(layer)\n",
    "    layer = layers.Dense(400)(layer)\n",
    "    layer = layers.RepeatVector(n_tracks)(layer)\n",
    "    layer = layers.LSTM(400, return_sequences=True)(layer)\n",
    "    output_layer_tracks = layers.TimeDistributed(layers.Dense(2))(layer) # track parameters\n",
    "    layer_cov = layers.TimeDistributed(layers.Dense(3))(layer) # track covariance matrix parameters\n",
    "    output_layer_cov = layers.Lambda(gauss_likelihood_loss.covariance_from_network_outputs)(layer_cov)\n",
    "    output_layer = layers.merge([output_layer_tracks, output_layer_cov], mode='concat', concat_axis=2)\n",
    "    model = models.Model(input=input_layer, output=output_layer)\n",
    "    model.compile(loss=gauss_likelihood_loss.gauss_likelihood_loss_2D, optimizer='Adam')\n",
    "    return model"
   ]
  },
  {
   "cell_type": "code",
   "execution_count": 133,
   "metadata": {
    "collapsed": false
   },
   "outputs": [],
   "source": [
    "import theano as th\n",
    "import theano.tensor as T\n",
    "from gauss_likelihood_loss import covariance_from_network_params, covariance_matrix_2D\n",
    "\n",
    "in_params = T.vector()\n",
    "out_params = covariance_matrix_2D( in_params )\n",
    "covariance = th.function(inputs=[in_params], outputs=out_params)\n",
    "\n",
    "def simulate_track_from_cov_matrix(track_params, cov_params, ntoys=1000):\n",
    "    \"\"\"Given the covariance matrix parameters, generate random track slope/intercept\n",
    "        from the covariance matrix and draw the resulting track\"\"\"\n",
    "    cov = covariance(cov_params)\n",
    "    event = np.zeros(det_shape)\n",
    "    toys = np.random.multivariate_normal(mean=track_params, cov=cov, size=ntoys)\n",
    "    for i in range(ntoys):\n",
    "        b, m = toys[i]\n",
    "        event += simulate_straight_track(m/slope_scale, b, det_shape)\n",
    "    return event\n",
    "\n",
    "def simulate_event_from_cov_matrix(event_pred, ntoys=1000):\n",
    "    return sum( [ simulate_track_from_cov_matrix(track_params=pred[:2], cov_params=pred[2:])\n",
    "                       for pred in event_pred ] )\n",
    "\n",
    "def make_pred_with_errors(model, n_tracks=mean_tracks):\n",
    "    \"\"\"Returns a 2D array representing the model output, with the envelope of possible values drawn in\"\"\"\n",
    "    test_data = gen_n_tracks(n_tracks=n_tracks).next()\n",
    "    test_event = test_data[0][0]\n",
    "    test_target = test_data[1][0]\n",
    "    test_pred = model.predict(np.asarray([test_event]))[0]\n",
    "    print test_target\n",
    "    print test_pred\n",
    "    pred_event = simulate_event_from_cov_matrix(test_pred, ntoys=10000)\n",
    "    draw_input_and_pred(test_event[0], pred_event)\n",
    "    \n",
    "    #central_pred_event = np.clip(sum([ simulate_straight_track(line[1]/slope_scale, line[0], det_shape) for line in test_pred ]), 0, 1)\n",
    "    #draw_input_and_pred(test_event[0], central_pred_event)"
   ]
  },
  {
   "cell_type": "markdown",
   "metadata": {},
   "source": [
    "How about we break off a second part of the network and use it to predict the covariance matrix."
   ]
  },
  {
   "cell_type": "code",
   "execution_count": 16,
   "metadata": {
    "collapsed": true
   },
   "outputs": [],
   "source": [
    "# Model\n",
    "def build_model_3(n_tracks=mean_tracks):\n",
    "    \"\"\"Use a separate LSTM and dense layer for the covariance matrix part\"\"\"\n",
    "    input_layer = layers.Input(shape=(1, det_depth, det_width))\n",
    "    layer = layers.Convolution2D(8, 3, 3, border_mode='same')(input_layer)\n",
    "    layer = layers.Activation('relu')(layer)\n",
    "    layer = layers.Convolution2D(8, 3, 3, border_mode='same')(layer)\n",
    "    layer = layers.Activation('relu')(layer)\n",
    "    layer = layers.MaxPooling2D(pool_size=(2,2))(layer)\n",
    "    layer = layers.Convolution2D(32, 3, 3, border_mode='same')(layer)\n",
    "    layer = layers.Activation('relu')(layer)\n",
    "    layer = layers.Convolution2D(32, 3, 3, border_mode='same')(layer)\n",
    "    layer = layers.Activation('relu')(layer)\n",
    "    layer = layers.Flatten()(layer)\n",
    "    \n",
    "    layer_tracks = layers.Dense(400)(layer)\n",
    "    layer_tracks = layers.RepeatVector(n_tracks)(layer_tracks)\n",
    "    layer_tracks = layers.LSTM(400, return_sequences=True)(layer_tracks)\n",
    "    output_layer_tracks = layers.TimeDistributed(layers.Dense(2))(layer_tracks) # track parameters\n",
    "    \n",
    "    layer_cov = layers.Dense(400)(layer)\n",
    "    layer_cov = layers.RepeatVector(n_tracks)(layer_cov)\n",
    "    layer_cov = layers.LSTM(400, return_sequences=True)(layer_cov)\n",
    "    layer_cov = layers.TimeDistributed(layers.Dense(3))(layer_cov) # track covariance matrix parameters\n",
    "    output_layer_cov = layers.Lambda(gauss_likelihood_loss.covariance_from_network_outputs)(layer_cov)\n",
    "    \n",
    "    output_layer = layers.merge([output_layer_tracks, output_layer_cov], mode='concat', concat_axis=2)\n",
    "    model = models.Model(input=input_layer, output=output_layer)\n",
    "    model.compile(loss=gauss_likelihood_loss.gauss_likelihood_loss_2D, optimizer='Adam')\n",
    "    return model"
   ]
  },
  {
   "cell_type": "code",
   "execution_count": 10,
   "metadata": {
    "collapsed": false
   },
   "outputs": [
    {
     "name": "stdout",
     "output_type": "stream",
     "text": [
      "Epoch 1/5\n",
      "256000/256000 [==============================] - 864s - loss: 1048.8457   \n",
      "Epoch 2/5\n",
      "256000/256000 [==============================] - 863s - loss: -1072.2773   \n",
      "Epoch 3/5\n",
      "256000/256000 [==============================] - 874s - loss: -1452.6158   \n",
      "Epoch 4/5\n",
      "256000/256000 [==============================] - 876s - loss: -1734.0187   \n",
      "Epoch 5/5\n",
      "256000/256000 [==============================] - 874s - loss: -1885.9351   \n"
     ]
    },
    {
     "data": {
      "text/plain": [
       "<keras.callbacks.History at 0x7f5c2bd7f110>"
      ]
     },
     "execution_count": 10,
     "metadata": {},
     "output_type": "execute_result"
    }
   ],
   "source": [
    "# Train the model\n",
    "model_3 = build_model_3(n_tracks=1)\n",
    "train_generator = gen_n_tracks(n_tracks=1)\n",
    "model_3.fit_generator(train_generator, epoch_size, 5)"
   ]
  },
  {
   "cell_type": "code",
   "execution_count": 50,
   "metadata": {
    "collapsed": false
   },
   "outputs": [
    {
     "name": "stdout",
     "output_type": "stream",
     "text": [
      "Epoch 1/1\n",
      "256000/256000 [==============================] - 1147s - loss: -2194.8626  \n"
     ]
    },
    {
     "data": {
      "text/plain": [
       "<keras.callbacks.History at 0x7f5b5bbfb410>"
      ]
     },
     "execution_count": 50,
     "metadata": {},
     "output_type": "execute_result"
    }
   ],
   "source": [
    "train_generator = gen_n_tracks(n_tracks=1)\n",
    "model_3.fit_generator(train_generator, epoch_size, 1)"
   ]
  },
  {
   "cell_type": "code",
   "execution_count": 48,
   "metadata": {
    "collapsed": false
   },
   "outputs": [
    {
     "name": "stdout",
     "output_type": "stream",
     "text": [
      "[[ 44.97612829 -13.50120791   0.           0.           0.        ]]\n",
      "[[ 44.46386337 -13.13781834   0.46085787  -0.28790388   0.18191282]]\n"
     ]
    },
    {
     "data": {
      "image/png": "[encoded data removed]",
      "text/plain": [
       "<matplotlib.figure.Figure at 0x7f5c0b3616d0>"
      ]
     },
     "metadata": {},
     "output_type": "display_data"
    }
   ],
   "source": [
    "make_pred_with_errors(model_3, n_tracks=1)"
   ]
  },
  {
   "cell_type": "markdown",
   "metadata": {},
   "source": [
    "It appears to work!"
   ]
  },
  {
   "cell_type": "code",
   "execution_count": 16,
   "metadata": {
    "collapsed": true
   },
   "outputs": [],
   "source": [
    "# Model\n",
    "def build_model_4(n_tracks=mean_tracks):\n",
    "    \"\"\"Model 3, but with more convolutional layers and batch normalization\"\"\"\n",
    "    input_layer = layers.Input(shape=(1, det_depth, det_width))\n",
    "    layer = layers.Convolution2D(8, 3, 3, border_mode='same')(input_layer)\n",
    "    layer = layers.BatchNormalization()(layer)\n",
    "    layer = layers.Activation('relu')(layer)\n",
    "    layer = layers.Convolution2D(8, 3, 3, border_mode='same')(layer)\n",
    "    layer = layers.BatchNormalization()(layer)\n",
    "    layer = layers.Activation('relu')(layer)\n",
    "    layer = layers.MaxPooling2D(pool_size=(2,2))(layer)\n",
    "    layer = layers.Convolution2D(32, 3, 3, border_mode='same')(layer)\n",
    "    layer = layers.BatchNormalization()(layer)\n",
    "    layer = layers.Activation('relu')(layer)\n",
    "    layer = layers.Convolution2D(32, 3, 3, border_mode='same')(layer)\n",
    "    layer = layers.BatchNormalization()(layer)\n",
    "    layer = layers.Activation('relu')(layer)\n",
    "    layer = layers.MaxPooling2D(pool_size=(2,2))(layer)\n",
    "    layer = layers.Convolution2D(128, 3, 3, border_mode='same')(layer)\n",
    "    layer = layers.BatchNormalization()(layer)\n",
    "    layer = layers.Activation('relu')(layer)\n",
    "    layer = layers.Convolution2D(128, 3, 3, border_mode='same')(layer)\n",
    "    layer = layers.BatchNormalization()(layer)\n",
    "    layer = layers.Activation('relu')(layer)\n",
    "    layer = layers.Flatten()(layer)\n",
    "    \n",
    "    layer_tracks = layers.Dense(400)(layer)\n",
    "    layer_tracks = layers.RepeatVector(n_tracks)(layer_tracks)\n",
    "    layer_tracks = layers.LSTM(400, return_sequences=True)(layer_tracks)\n",
    "    output_layer_tracks = layers.TimeDistributed(layers.Dense(2))(layer_tracks) # track parameters\n",
    "    \n",
    "    layer_cov = layers.Dense(400)(layer)\n",
    "    layer_cov = layers.RepeatVector(n_tracks)(layer_cov)\n",
    "    layer_cov = layers.LSTM(400, return_sequences=True)(layer_cov)\n",
    "    layer_cov = layers.TimeDistributed(layers.Dense(3))(layer_cov) # track covariance matrix parameters\n",
    "    output_layer_cov = layers.Lambda(gauss_likelihood_loss.covariance_from_network_outputs)(layer_cov)\n",
    "    \n",
    "    output_layer = layers.merge([output_layer_tracks, output_layer_cov], mode='concat', concat_axis=2)\n",
    "    model = models.Model(input=input_layer, output=output_layer)\n",
    "    model.compile(loss=gauss_likelihood_loss.gauss_likelihood_loss_2D, optimizer='Adam')\n",
    "    return model"
   ]
  },
  {
   "cell_type": "code",
   "execution_count": 18,
   "metadata": {
    "collapsed": false
   },
   "outputs": [
    {
     "name": "stdout",
     "output_type": "stream",
     "text": [
      "Epoch 1/10\n",
      "256000/256000 [==============================] - 1193s - loss: 3192.2022  \n",
      "Epoch 2/10\n",
      "256000/256000 [==============================] - 1180s - loss: -1659.9836  \n",
      "Epoch 3/10\n",
      "256000/256000 [==============================] - 1185s - loss: -2424.6790  \n",
      "Epoch 4/10\n",
      "256000/256000 [==============================] - 1174s - loss: -2712.8813  \n",
      "Epoch 5/10\n",
      "256000/256000 [==============================] - 1174s - loss: -3009.1703  \n",
      "Epoch 6/10\n",
      "256000/256000 [==============================] - 1176s - loss: -3155.7014  \n",
      "Epoch 7/10\n",
      "256000/256000 [==============================] - 1190s - loss: -3152.7073  \n",
      "Epoch 8/10\n",
      "256000/256000 [==============================] - 1193s - loss: -3382.3809  \n",
      "Epoch 9/10\n",
      "256000/256000 [==============================] - 1191s - loss: -3403.0768  \n",
      "Epoch 10/10\n",
      "256000/256000 [==============================] - 1188s - loss: -3523.3940  \n"
     ]
    },
    {
     "data": {
      "text/plain": [
       "<keras.callbacks.History at 0x7f5c041780d0>"
      ]
     },
     "execution_count": 18,
     "metadata": {},
     "output_type": "execute_result"
    }
   ],
   "source": [
    "# Train the model\n",
    "\n",
    "model_3_twotracks = build_model_3(n_tracks=2)\n",
    "train_generator = gen_n_tracks(n_tracks=2)\n",
    "model_3_twotracks.fit_generator(train_generator, epoch_size, 10)"
   ]
  },
  {
   "cell_type": "code",
   "execution_count": 46,
   "metadata": {
    "collapsed": false
   },
   "outputs": [
    {
     "name": "stdout",
     "output_type": "stream",
     "text": [
      "[[  0.79192589  10.37813348   0.           0.           0.        ]\n",
      " [  1.75309962  23.30862972   0.           0.           0.        ]]\n",
      "[[  0.78974962  10.51503181   0.03792436  -0.14571087   4.29490757]\n",
      " [  2.14537811  23.20101357   0.03087227  -0.05101836   2.4303441 ]]\n"
     ]
    },
    {
     "data": {
      "image/png": "[encoded data removed]",
      "text/plain": [
       "<matplotlib.figure.Figure at 0x7f5b5980a0d0>"
      ]
     },
     "metadata": {},
     "output_type": "display_data"
    }
   ],
   "source": [
    "make_pred_with_errors(model_3_twotracks, n_tracks=2)"
   ]
  },
  {
   "cell_type": "code",
   "execution_count": 29,
   "metadata": {
    "collapsed": false
   },
   "outputs": [
    {
     "name": "stdout",
     "output_type": "stream",
     "text": [
      "Epoch 1/10\n",
      "256000/256000 [==============================] - 2098s - loss: 9714.4725  \n",
      "Epoch 2/10\n",
      "256000/256000 [==============================] - 2095s - loss: 1309.4586  \n",
      "Epoch 3/10\n",
      "256000/256000 [==============================] - 2086s - loss: -1291.0682  \n",
      "Epoch 4/10\n",
      "256000/256000 [==============================] - 2088s - loss: -2196.6610  \n",
      "Epoch 5/10\n",
      "256000/256000 [==============================] - 2090s - loss: -2771.5232  \n",
      "Epoch 6/10\n",
      "256000/256000 [==============================] - 2100s - loss: -3063.9161  \n",
      "Epoch 7/10\n",
      "256000/256000 [==============================] - 2086s - loss: -3406.1331  \n",
      "Epoch 8/10\n",
      "256000/256000 [==============================] - 2097s - loss: -3622.3490  \n",
      "Epoch 9/10\n",
      "256000/256000 [==============================] - 2097s - loss: -3438.3020  \n",
      "Epoch 10/10\n",
      "256000/256000 [==============================] - 2086s - loss: -3917.8124  \n"
     ]
    },
    {
     "data": {
      "text/plain": [
       "<keras.callbacks.History at 0x7f5bc3b12690>"
      ]
     },
     "execution_count": 29,
     "metadata": {},
     "output_type": "execute_result"
    }
   ],
   "source": [
    "model_3_fourtracks = build_model_3(n_tracks=4)\n",
    "train_generator = gen_n_tracks(n_tracks=4)\n",
    "model_3_fourtracks.fit_generator(train_generator, epoch_size, 10)"
   ]
  },
  {
   "cell_type": "code",
   "execution_count": 35,
   "metadata": {
    "collapsed": false
   },
   "outputs": [
    {
     "name": "stdout",
     "output_type": "stream",
     "text": [
      "[[ 12.17108827   3.30227885   0.           0.           0.        ]\n",
      " [ 26.95104868   8.64398149   0.           0.           0.        ]\n",
      " [ 44.56443508  -8.11565491   0.           0.           0.        ]\n",
      " [ 49.02162332 -21.52797153   0.           0.           0.        ]]\n",
      "[[  1.21259699e+01   3.26917744e+00   8.44122190e-03  -8.53993371e-03\n",
      "    2.32182834e-02]\n",
      " [  2.71125565e+01   8.35209846e+00   7.70181837e-03  -1.06427539e-02\n",
      "    4.98184077e-02]\n",
      " [  4.45553818e+01  -8.12338829e+00   1.79682467e-02  -2.85508707e-02\n",
      "    1.15064442e-01]\n",
      " [  4.90917625e+01  -2.15099087e+01   1.17893768e-02  -1.29425023e-02\n",
      "    3.84603143e-02]]\n"
     ]
    },
    {
     "data": {
      "image/png": "[encoded data removed]",
      "text/plain": [
       "<matplotlib.figure.Figure at 0x7f5b5a85abd0>"
      ]
     },
     "metadata": {},
     "output_type": "display_data"
    }
   ],
   "source": [
    "make_pred_with_errors(model_3_fourtracks, n_tracks=4)"
   ]
  },
  {
   "cell_type": "markdown",
   "metadata": {},
   "source": [
    "### Checking the sanity of the uncertainties"
   ]
  },
  {
   "cell_type": "markdown",
   "metadata": {},
   "source": [
    "The likelihood model assumes that the track parameters are distributed as a multivariate normal.  It's important to check that the covariance matrices learned by the network actually correspond with its performance.  \n",
    "\n",
    "For a 2-dimensional gaussian random variable with a fixed mean and covariance matrix, the square of the Mahalanobis distance (i.e. (x-mu)^T Sigma (x-mu), where mu and sigma are the mean and covariance matrix respectively) is distributed as a chi-square with 2 degrees of freedom.  Let's use this property to check the sanity of the uncertainties.  It's the analogue in 2D of checking that the pull distribution is normal."
   ]
  },
  {
   "cell_type": "code",
   "execution_count": 93,
   "metadata": {
    "collapsed": true
   },
   "outputs": [],
   "source": [
    "model_3.save(\"model_3_singletrack.hdf5\")"
   ]
  },
  {
   "cell_type": "code",
   "execution_count": 134,
   "metadata": {
    "collapsed": false
   },
   "outputs": [],
   "source": [
    "import scipy.stats as stats\n",
    "import pylab\n",
    "import numpy.linalg\n",
    "\n",
    "def squared_mahalanobis_distance(true, pred, cov):\n",
    "    resid = (pred-true)\n",
    "    return np.dot( np.transpose(resid), np.dot( np.linalg.inv(cov), resid ) )\n",
    "\n",
    "def cov_from_params(params):\n",
    "    \"\"\"turns vector [variance1, covariance, variance2] into 2x2 covariance matrix\"\"\"\n",
    "    return np.stack( [params, np.roll(params, shift=-1)] )[:,:2]\n",
    "\n",
    "def sim_mahalanobis_distribution(model, ntoys=100):\n",
    "    \"\"\"Generates random events and computes the Mahalanobis distance for each.  \n",
    "        Returns the list of all sampled M. distance values.\"\"\"\n",
    "    gen = gen_n_tracks(n_tracks=1)\n",
    "    m = [] # simulated values of M. distance\n",
    "    for _ in range(ntoys):\n",
    "        test_data = gen.next()\n",
    "        test_event = test_data[0][0]\n",
    "        true = test_data[1][0,0,:2]\n",
    "        test_pred = model.predict(np.asarray([test_event]))[0]\n",
    "        pred = test_pred[0,:2]\n",
    "        cov = cov_from_params( test_pred[0,2:] )\n",
    "        m.append(squared_mahalanobis_distance(true, pred, cov))\n",
    "    return m\n",
    "\n",
    "def make_qq_plot(mahalanobis_vals):\n",
    "    ref = range(0,15)\n",
    "    stats.probplot(mahalanobis_vals, dist=stats.chi2, sparams=(2,), fit=False, plot=plt)\n",
    "    plt.axis([0,10,0,10])\n",
    "    plt.plot(ref, ref, 'k--')\n",
    "    plt.show()"
   ]
  },
  {
   "cell_type": "code",
   "execution_count": 125,
   "metadata": {
    "collapsed": false
   },
   "outputs": [
    {
     "data": {
      "image/png": "[encoded data removed]",
      "text/plain": [
       "<matplotlib.figure.Figure at 0x7f5b50f4e690>"
      ]
     },
     "metadata": {},
     "output_type": "display_data"
    }
   ],
   "source": [
    "make_qq_plot( sim_mahalanobis_distribution(model_3, ntoys=10000) )"
   ]
  },
  {
   "cell_type": "markdown",
   "metadata": {},
   "source": [
    "The probability plot shows visually how the quantiles of our sample distribution map onto the quantiles of the chi squared distribution.  \n",
    "\n",
    "This plot indicates that the shape of the distribution of pulls is correct, but the scale is slightly off.  (experimentation indicates that scaling down the model residuals by about 10% makes the uncertainties match the true performance)"
   ]
  },
  {
   "cell_type": "code",
   "execution_count": 126,
   "metadata": {
    "collapsed": false
   },
   "outputs": [
    {
     "name": "stdout",
     "output_type": "stream",
     "text": [
      "Epoch 1/10\n",
      "256000/256000 [==============================] - 3048s - loss: 12865.4693  \n",
      "Epoch 2/10\n",
      "256000/256000 [==============================] - 3037s - loss: 4046.9029  \n",
      "Epoch 3/10\n",
      "256000/256000 [==============================] - 3041s - loss: 824.7954  \n",
      "Epoch 4/10\n",
      "256000/256000 [==============================] - 3046s - loss: -574.8315  \n",
      "Epoch 5/10\n",
      "256000/256000 [==============================] - 3043s - loss: -1419.2217  \n",
      "Epoch 6/10\n",
      "256000/256000 [==============================] - 3038s - loss: -1617.9796  \n",
      "Epoch 7/10\n",
      "256000/256000 [==============================] - 3039s - loss: 5690.3544  \n",
      "Epoch 8/10\n",
      "256000/256000 [==============================] - 3042s - loss: 16211.2234  \n",
      "Epoch 9/10\n",
      "256000/256000 [==============================] - 3038s - loss: 14875.2907  \n",
      "Epoch 10/10\n",
      "256000/256000 [==============================] - 3060s - loss: 10150.8359  \n"
     ]
    },
    {
     "data": {
      "text/plain": [
       "<keras.callbacks.History at 0x7f5b49f21b50>"
      ]
     },
     "execution_count": 126,
     "metadata": {},
     "output_type": "execute_result"
    }
   ],
   "source": [
    "model_3_sixtracks = build_model_3(n_tracks=6)\n",
    "train_generator = gen_n_tracks(n_tracks=6)\n",
    "model_3_sixtracks.fit_generator(train_generator, epoch_size, 10)"
   ]
  },
  {
   "cell_type": "code",
   "execution_count": 128,
   "metadata": {
    "collapsed": false
   },
   "outputs": [
    {
     "name": "stdout",
     "output_type": "stream",
     "text": [
      "[[  1.0721145    0.89462306   0.           0.           0.        ]\n",
      " [  6.80314648   9.62342595   0.           0.           0.        ]\n",
      " [ 10.65248015  11.23562773   0.           0.           0.        ]\n",
      " [ 20.5459627   -2.73754353   0.           0.           0.        ]\n",
      " [ 21.20836573  -0.88350841   0.           0.           0.        ]\n",
      " [ 41.53862137   1.21660236   0.           0.           0.        ]]\n",
      "[[  0.91993707   1.87806404   1.30998468  -1.86335886   8.65617466]\n",
      " [  5.58464909   9.72764111   1.13072014  -1.79155469  15.00325298]\n",
      " [ 10.92615414   9.1947794    1.11237669  -1.77220833  16.4639473 ]\n",
      " [ 19.14370155   1.95676708   1.11606276  -1.78211141  16.78730392]\n",
      " [ 22.91352463  -1.00541139   1.12264574  -1.79647946  16.94070244]\n",
      " [ 40.6434288   -2.52268934   1.12959254  -1.81142366  17.07022667]]\n"
     ]
    },
    {
     "data": {
      "image/png": "[encoded data removed]",
      "text/plain": [
       "<matplotlib.figure.Figure at 0x7f5b508a0310>"
      ]
     },
     "metadata": {},
     "output_type": "display_data"
    }
   ],
   "source": [
    "make_pred_with_errors(model_3_sixtracks, n_tracks=6)"
   ]
  },
  {
   "cell_type": "markdown",
   "metadata": {},
   "source": [
    "The training seems unstable for larger numbers of tracks.  One idea for making it more stable is to make the two branches of the network talk to each other -- the branch that predicts the track parameters should give its output to the branch that predicts the covariance."
   ]
  },
  {
   "cell_type": "code",
   "execution_count": 135,
   "metadata": {
    "collapsed": true
   },
   "outputs": [],
   "source": [
    "# Model\n",
    "def build_model_5(n_tracks=mean_tracks):\n",
    "    \"\"\"Use a separate LSTM and dense layer for the covariance matrix part\"\"\"\n",
    "    input_layer = layers.Input(shape=(1, det_depth, det_width))\n",
    "    layer = layers.Convolution2D(8, 3, 3, border_mode='same')(input_layer)\n",
    "    layer = layers.Activation('relu')(layer)\n",
    "    layer = layers.Convolution2D(8, 3, 3, border_mode='same')(layer)\n",
    "    layer = layers.Activation('relu')(layer)\n",
    "    layer = layers.MaxPooling2D(pool_size=(2,2))(layer)\n",
    "    layer = layers.Convolution2D(32, 3, 3, border_mode='same')(layer)\n",
    "    layer = layers.Activation('relu')(layer)\n",
    "    layer = layers.Convolution2D(32, 3, 3, border_mode='same')(layer)\n",
    "    layer = layers.Activation('relu')(layer)\n",
    "    layer = layers.Flatten()(layer)\n",
    "    \n",
    "    layer_tracks = layers.Dense(400)(layer)\n",
    "    layer_tracks = layers.RepeatVector(n_tracks)(layer_tracks)\n",
    "    layer_tracks = layers.LSTM(400, return_sequences=True)(layer_tracks)\n",
    "    output_layer_tracks = layers.TimeDistributed(layers.Dense(2))(layer_tracks) # track parameters\n",
    "    \n",
    "    layer_cov = layers.Dense(400)(layer)\n",
    "    layer_cov = layers.RepeatVector(n_tracks)(layer_cov)\n",
    "    layer_cov = layers.merge([layer_cov, output_layer_tracks], mode='concat', concat_axis=2)\n",
    "    layer_cov = layers.LSTM(400, return_sequences=True)(layer_cov)\n",
    "    layer_cov = layers.TimeDistributed(layers.Dense(3))(layer_cov) # track covariance matrix parameters\n",
    "    output_layer_cov = layers.Lambda(gauss_likelihood_loss.covariance_from_network_outputs)(layer_cov)\n",
    "    \n",
    "    output_layer = layers.merge([output_layer_tracks, output_layer_cov], mode='concat', concat_axis=2)\n",
    "    model = models.Model(input=input_layer, output=output_layer)\n",
    "    model.compile(loss=gauss_likelihood_loss.gauss_likelihood_loss_2D, optimizer='Adam')\n",
    "    return model"
   ]
  },
  {
   "cell_type": "code",
   "execution_count": 136,
   "metadata": {
    "collapsed": false
   },
   "outputs": [
    {
     "name": "stderr",
     "output_type": "stream",
     "text": [
      "WARNING (theano.gof.cmodule): Removing key file /home/duanders/.theano/compiledir_Linux-3.19--generic-x86_64-with-Ubuntu-15.04-vivid-x86_64-2.7.9-64/tmpIFpJR1/key.pkl because the corresponding module is gone from the file system.\n",
      "WARNING (theano.gof.cmodule): Removing key file /home/duanders/.theano/compiledir_Linux-3.19--generic-x86_64-with-Ubuntu-15.04-vivid-x86_64-2.7.9-64/tmpcbwqlj/key.pkl because the corresponding module is gone from the file system.\n",
      "WARNING (theano.gof.cmodule): Removing key file /home/duanders/.theano/compiledir_Linux-3.19--generic-x86_64-with-Ubuntu-15.04-vivid-x86_64-2.7.9-64/tmppLL4Sz/key.pkl because the corresponding module is gone from the file system.\n",
      "WARNING (theano.gof.cmodule): Removing key file /home/duanders/.theano/compiledir_Linux-3.19--generic-x86_64-with-Ubuntu-15.04-vivid-x86_64-2.7.9-64/tmpEx0KsY/key.pkl because the corresponding module is gone from the file system.\n",
      "WARNING (theano.gof.cmodule): Removing key file /home/duanders/.theano/compiledir_Linux-3.19--generic-x86_64-with-Ubuntu-15.04-vivid-x86_64-2.7.9-64/tmp5CJYDx/key.pkl because the corresponding module is gone from the file system.\n",
      "WARNING (theano.gof.cmodule): Removing key file /home/duanders/.theano/compiledir_Linux-3.19--generic-x86_64-with-Ubuntu-15.04-vivid-x86_64-2.7.9-64/tmpHBU_Wd/key.pkl because the corresponding module is gone from the file system.\n",
      "WARNING (theano.gof.cmodule): Removing key file /home/duanders/.theano/compiledir_Linux-3.19--generic-x86_64-with-Ubuntu-15.04-vivid-x86_64-2.7.9-64/tmpXvUbfh/key.pkl because the corresponding module is gone from the file system.\n",
      "WARNING (theano.gof.cmodule): Removing key file /home/duanders/.theano/compiledir_Linux-3.19--generic-x86_64-with-Ubuntu-15.04-vivid-x86_64-2.7.9-64/tmpyM_q9b/key.pkl because the corresponding module is gone from the file system.\n",
      "WARNING (theano.gof.cmodule): Removing key file /home/duanders/.theano/compiledir_Linux-3.19--generic-x86_64-with-Ubuntu-15.04-vivid-x86_64-2.7.9-64/tmpL5aZlB/key.pkl because the corresponding module is gone from the file system.\n",
      "WARNING (theano.gof.cmodule): Removing key file /home/duanders/.theano/compiledir_Linux-3.19--generic-x86_64-with-Ubuntu-15.04-vivid-x86_64-2.7.9-64/tmpKzysPu/key.pkl because the corresponding module is gone from the file system.\n",
      "WARNING (theano.gof.cmodule): Removing key file /home/duanders/.theano/compiledir_Linux-3.19--generic-x86_64-with-Ubuntu-15.04-vivid-x86_64-2.7.9-64/tmpHMdMB0/key.pkl because the corresponding module is gone from the file system.\n",
      "WARNING (theano.gof.cmodule): Removing key file /home/duanders/.theano/compiledir_Linux-3.19--generic-x86_64-with-Ubuntu-15.04-vivid-x86_64-2.7.9-64/tmpT7DYlX/key.pkl because the corresponding module is gone from the file system.\n",
      "WARNING (theano.gof.cmodule): Removing key file /home/duanders/.theano/compiledir_Linux-3.19--generic-x86_64-with-Ubuntu-15.04-vivid-x86_64-2.7.9-64/tmpM42Q_n/key.pkl because the corresponding module is gone from the file system.\n",
      "WARNING (theano.gof.cmodule): Removing key file /home/duanders/.theano/compiledir_Linux-3.19--generic-x86_64-with-Ubuntu-15.04-vivid-x86_64-2.7.9-64/tmpnckfxZ/key.pkl because the corresponding module is gone from the file system.\n",
      "WARNING (theano.gof.cmodule): Removing key file /home/duanders/.theano/compiledir_Linux-3.19--generic-x86_64-with-Ubuntu-15.04-vivid-x86_64-2.7.9-64/tmpQKgJG0/key.pkl because the corresponding module is gone from the file system.\n",
      "WARNING (theano.gof.cmodule): Removing key file /home/duanders/.theano/compiledir_Linux-3.19--generic-x86_64-with-Ubuntu-15.04-vivid-x86_64-2.7.9-64/tmpX0m1jF/key.pkl because the corresponding module is gone from the file system.\n",
      "WARNING (theano.gof.cmodule): Removing key file /home/duanders/.theano/compiledir_Linux-3.19--generic-x86_64-with-Ubuntu-15.04-vivid-x86_64-2.7.9-64/tmp1XzOOT/key.pkl because the corresponding module is gone from the file system.\n",
      "WARNING (theano.gof.cmodule): Removing key file /home/duanders/.theano/compiledir_Linux-3.19--generic-x86_64-with-Ubuntu-15.04-vivid-x86_64-2.7.9-64/tmp1cVlVc/key.pkl because the corresponding module is gone from the file system.\n",
      "WARNING (theano.gof.cmodule): Removing key file /home/duanders/.theano/compiledir_Linux-3.19--generic-x86_64-with-Ubuntu-15.04-vivid-x86_64-2.7.9-64/tmpEH4sAu/key.pkl because the corresponding module is gone from the file system.\n",
      "WARNING (theano.gof.cmodule): Removing key file /home/duanders/.theano/compiledir_Linux-3.19--generic-x86_64-with-Ubuntu-15.04-vivid-x86_64-2.7.9-64/tmpOQ9LLn/key.pkl because the corresponding module is gone from the file system.\n",
      "WARNING (theano.gof.cmodule): Removing key file /home/duanders/.theano/compiledir_Linux-3.19--generic-x86_64-with-Ubuntu-15.04-vivid-x86_64-2.7.9-64/tmpvuQjQA/key.pkl because the corresponding module is gone from the file system.\n",
      "WARNING (theano.gof.cmodule): Removing key file /home/duanders/.theano/compiledir_Linux-3.19--generic-x86_64-with-Ubuntu-15.04-vivid-x86_64-2.7.9-64/tmpAfa7rC/key.pkl because the corresponding module is gone from the file system.\n",
      "WARNING (theano.gof.cmodule): Removing key file /home/duanders/.theano/compiledir_Linux-3.19--generic-x86_64-with-Ubuntu-15.04-vivid-x86_64-2.7.9-64/tmp4zf0JN/key.pkl because the corresponding module is gone from the file system.\n",
      "WARNING (theano.gof.cmodule): Removing key file /home/duanders/.theano/compiledir_Linux-3.19--generic-x86_64-with-Ubuntu-15.04-vivid-x86_64-2.7.9-64/tmpIFnUae/key.pkl because the corresponding module is gone from the file system.\n",
      "WARNING (theano.gof.cmodule): Removing key file /home/duanders/.theano/compiledir_Linux-3.19--generic-x86_64-with-Ubuntu-15.04-vivid-x86_64-2.7.9-64/tmpHXhwkH/key.pkl because the corresponding module is gone from the file system.\n",
      "WARNING (theano.gof.cmodule): Removing key file /home/duanders/.theano/compiledir_Linux-3.19--generic-x86_64-with-Ubuntu-15.04-vivid-x86_64-2.7.9-64/tmppTTFOS/key.pkl because the corresponding module is gone from the file system.\n",
      "WARNING (theano.gof.cmodule): Removing key file /home/duanders/.theano/compiledir_Linux-3.19--generic-x86_64-with-Ubuntu-15.04-vivid-x86_64-2.7.9-64/tmpxvK7q8/key.pkl because the corresponding module is gone from the file system.\n",
      "WARNING (theano.gof.cmodule): Removing key file /home/duanders/.theano/compiledir_Linux-3.19--generic-x86_64-with-Ubuntu-15.04-vivid-x86_64-2.7.9-64/tmpl82HlD/key.pkl because the corresponding module is gone from the file system.\n",
      "WARNING (theano.gof.cmodule): Removing key file /home/duanders/.theano/compiledir_Linux-3.19--generic-x86_64-with-Ubuntu-15.04-vivid-x86_64-2.7.9-64/tmptafjbL/key.pkl because the corresponding module is gone from the file system.\n",
      "WARNING (theano.gof.cmodule): Removing key file /home/duanders/.theano/compiledir_Linux-3.19--generic-x86_64-with-Ubuntu-15.04-vivid-x86_64-2.7.9-64/tmpHeCkSe/key.pkl because the corresponding module is gone from the file system.\n",
      "WARNING (theano.gof.cmodule): Removing key file /home/duanders/.theano/compiledir_Linux-3.19--generic-x86_64-with-Ubuntu-15.04-vivid-x86_64-2.7.9-64/tmp_tkEn0/key.pkl because the corresponding module is gone from the file system.\n",
      "WARNING (theano.gof.cmodule): Removing key file /home/duanders/.theano/compiledir_Linux-3.19--generic-x86_64-with-Ubuntu-15.04-vivid-x86_64-2.7.9-64/tmpSxwS0I/key.pkl because the corresponding module is gone from the file system.\n",
      "WARNING (theano.gof.cmodule): Removing key file /home/duanders/.theano/compiledir_Linux-3.19--generic-x86_64-with-Ubuntu-15.04-vivid-x86_64-2.7.9-64/tmpOf40aE/key.pkl because the corresponding module is gone from the file system.\n",
      "WARNING (theano.gof.cmodule): Removing key file /home/duanders/.theano/compiledir_Linux-3.19--generic-x86_64-with-Ubuntu-15.04-vivid-x86_64-2.7.9-64/tmplkY9QO/key.pkl because the corresponding module is gone from the file system.\n",
      "WARNING (theano.gof.cmodule): Removing key file /home/duanders/.theano/compiledir_Linux-3.19--generic-x86_64-with-Ubuntu-15.04-vivid-x86_64-2.7.9-64/tmpPEFOeT/key.pkl because the corresponding module is gone from the file system.\n",
      "WARNING (theano.gof.cmodule): Removing key file /home/duanders/.theano/compiledir_Linux-3.19--generic-x86_64-with-Ubuntu-15.04-vivid-x86_64-2.7.9-64/tmp1XJRDa/key.pkl because the corresponding module is gone from the file system.\n",
      "WARNING (theano.gof.cmodule): Removing key file /home/duanders/.theano/compiledir_Linux-3.19--generic-x86_64-with-Ubuntu-15.04-vivid-x86_64-2.7.9-64/tmpU6uU58/key.pkl because the corresponding module is gone from the file system.\n",
      "WARNING (theano.gof.cmodule): Removing key file /home/duanders/.theano/compiledir_Linux-3.19--generic-x86_64-with-Ubuntu-15.04-vivid-x86_64-2.7.9-64/tmpiped6j/key.pkl because the corresponding module is gone from the file system.\n",
      "WARNING (theano.gof.cmodule): Removing key file /home/duanders/.theano/compiledir_Linux-3.19--generic-x86_64-with-Ubuntu-15.04-vivid-x86_64-2.7.9-64/tmpG6yhdh/key.pkl because the corresponding module is gone from the file system.\n",
      "WARNING (theano.gof.cmodule): Removing key file /home/duanders/.theano/compiledir_Linux-3.19--generic-x86_64-with-Ubuntu-15.04-vivid-x86_64-2.7.9-64/tmpBg5yol/key.pkl because the corresponding module is gone from the file system.\n",
      "WARNING (theano.gof.cmodule): Removing key file /home/duanders/.theano/compiledir_Linux-3.19--generic-x86_64-with-Ubuntu-15.04-vivid-x86_64-2.7.9-64/tmpINeZCs/key.pkl because the corresponding module is gone from the file system.\n",
      "WARNING (theano.gof.cmodule): Removing key file /home/duanders/.theano/compiledir_Linux-3.19--generic-x86_64-with-Ubuntu-15.04-vivid-x86_64-2.7.9-64/tmp8cEWQj/key.pkl because the corresponding module is gone from the file system.\n",
      "WARNING (theano.gof.cmodule): Removing key file /home/duanders/.theano/compiledir_Linux-3.19--generic-x86_64-with-Ubuntu-15.04-vivid-x86_64-2.7.9-64/tmp91U2Sv/key.pkl because the corresponding module is gone from the file system.\n",
      "WARNING (theano.gof.cmodule): Removing key file /home/duanders/.theano/compiledir_Linux-3.19--generic-x86_64-with-Ubuntu-15.04-vivid-x86_64-2.7.9-64/tmpdkaciY/key.pkl because the corresponding module is gone from the file system.\n",
      "WARNING (theano.gof.cmodule): Removing key file /home/duanders/.theano/compiledir_Linux-3.19--generic-x86_64-with-Ubuntu-15.04-vivid-x86_64-2.7.9-64/tmpWieNZH/key.pkl because the corresponding module is gone from the file system.\n",
      "WARNING (theano.gof.cmodule): Removing key file /home/duanders/.theano/compiledir_Linux-3.19--generic-x86_64-with-Ubuntu-15.04-vivid-x86_64-2.7.9-64/tmpjCAUj4/key.pkl because the corresponding module is gone from the file system.\n",
      "WARNING (theano.gof.cmodule): Removing key file /home/duanders/.theano/compiledir_Linux-3.19--generic-x86_64-with-Ubuntu-15.04-vivid-x86_64-2.7.9-64/tmpiVdqef/key.pkl because the corresponding module is gone from the file system.\n",
      "WARNING (theano.gof.cmodule): Removing key file /home/duanders/.theano/compiledir_Linux-3.19--generic-x86_64-with-Ubuntu-15.04-vivid-x86_64-2.7.9-64/tmp0J2MuU/key.pkl because the corresponding module is gone from the file system.\n",
      "WARNING (theano.gof.cmodule): Removing key file /home/duanders/.theano/compiledir_Linux-3.19--generic-x86_64-with-Ubuntu-15.04-vivid-x86_64-2.7.9-64/tmpH0awl7/key.pkl because the corresponding module is gone from the file system.\n",
      "WARNING (theano.gof.cmodule): Removing key file /home/duanders/.theano/compiledir_Linux-3.19--generic-x86_64-with-Ubuntu-15.04-vivid-x86_64-2.7.9-64/tmpdvFOHk/key.pkl because the corresponding module is gone from the file system.\n",
      "WARNING (theano.gof.cmodule): Removing key file /home/duanders/.theano/compiledir_Linux-3.19--generic-x86_64-with-Ubuntu-15.04-vivid-x86_64-2.7.9-64/tmp9SfpB3/key.pkl because the corresponding module is gone from the file system.\n",
      "WARNING (theano.gof.cmodule): Removing key file /home/duanders/.theano/compiledir_Linux-3.19--generic-x86_64-with-Ubuntu-15.04-vivid-x86_64-2.7.9-64/tmptazlrT/key.pkl because the corresponding module is gone from the file system.\n",
      "WARNING (theano.gof.cmodule): Removing key file /home/duanders/.theano/compiledir_Linux-3.19--generic-x86_64-with-Ubuntu-15.04-vivid-x86_64-2.7.9-64/tmpk6cusd/key.pkl because the corresponding module is gone from the file system.\n",
      "WARNING (theano.gof.cmodule): Removing key file /home/duanders/.theano/compiledir_Linux-3.19--generic-x86_64-with-Ubuntu-15.04-vivid-x86_64-2.7.9-64/tmpXCeelL/key.pkl because the corresponding module is gone from the file system.\n",
      "WARNING (theano.gof.cmodule): Removing key file /home/duanders/.theano/compiledir_Linux-3.19--generic-x86_64-with-Ubuntu-15.04-vivid-x86_64-2.7.9-64/tmpUCPac8/key.pkl because the corresponding module is gone from the file system.\n",
      "WARNING (theano.gof.cmodule): Removing key file /home/duanders/.theano/compiledir_Linux-3.19--generic-x86_64-with-Ubuntu-15.04-vivid-x86_64-2.7.9-64/tmpw_Uk2L/key.pkl because the corresponding module is gone from the file system.\n",
      "WARNING (theano.gof.cmodule): Removing key file /home/duanders/.theano/compiledir_Linux-3.19--generic-x86_64-with-Ubuntu-15.04-vivid-x86_64-2.7.9-64/tmpxrpJ5l/key.pkl because the corresponding module is gone from the file system.\n",
      "WARNING (theano.gof.cmodule): Removing key file /home/duanders/.theano/compiledir_Linux-3.19--generic-x86_64-with-Ubuntu-15.04-vivid-x86_64-2.7.9-64/tmp71SFXO/key.pkl because the corresponding module is gone from the file system.\n",
      "WARNING (theano.gof.cmodule): Removing key file /home/duanders/.theano/compiledir_Linux-3.19--generic-x86_64-with-Ubuntu-15.04-vivid-x86_64-2.7.9-64/tmp0mBn3R/key.pkl because the corresponding module is gone from the file system.\n",
      "WARNING (theano.gof.cmodule): Removing key file /home/duanders/.theano/compiledir_Linux-3.19--generic-x86_64-with-Ubuntu-15.04-vivid-x86_64-2.7.9-64/tmpfGR7_c/key.pkl because the corresponding module is gone from the file system.\n",
      "WARNING (theano.gof.cmodule): Removing key file /home/duanders/.theano/compiledir_Linux-3.19--generic-x86_64-with-Ubuntu-15.04-vivid-x86_64-2.7.9-64/tmpW3V1Kw/key.pkl because the corresponding module is gone from the file system.\n",
      "WARNING (theano.gof.cmodule): Removing key file /home/duanders/.theano/compiledir_Linux-3.19--generic-x86_64-with-Ubuntu-15.04-vivid-x86_64-2.7.9-64/tmpwZNm55/key.pkl because the corresponding module is gone from the file system.\n",
      "WARNING (theano.gof.cmodule): Removing key file /home/duanders/.theano/compiledir_Linux-3.19--generic-x86_64-with-Ubuntu-15.04-vivid-x86_64-2.7.9-64/tmpkm31ur/key.pkl because the corresponding module is gone from the file system.\n",
      "WARNING (theano.gof.cmodule): Removing key file /home/duanders/.theano/compiledir_Linux-3.19--generic-x86_64-with-Ubuntu-15.04-vivid-x86_64-2.7.9-64/tmpmQj0gI/key.pkl because the corresponding module is gone from the file system.\n",
      "WARNING (theano.gof.cmodule): Removing key file /home/duanders/.theano/compiledir_Linux-3.19--generic-x86_64-with-Ubuntu-15.04-vivid-x86_64-2.7.9-64/tmpOoIHMy/key.pkl because the corresponding module is gone from the file system.\n",
      "WARNING (theano.gof.cmodule): Removing key file /home/duanders/.theano/compiledir_Linux-3.19--generic-x86_64-with-Ubuntu-15.04-vivid-x86_64-2.7.9-64/tmpZXyApB/key.pkl because the corresponding module is gone from the file system.\n",
      "WARNING (theano.gof.cmodule): Removing key file /home/duanders/.theano/compiledir_Linux-3.19--generic-x86_64-with-Ubuntu-15.04-vivid-x86_64-2.7.9-64/tmpcw_Lq_/key.pkl because the corresponding module is gone from the file system.\n",
      "WARNING (theano.gof.cmodule): Removing key file /home/duanders/.theano/compiledir_Linux-3.19--generic-x86_64-with-Ubuntu-15.04-vivid-x86_64-2.7.9-64/tmprdqrbw/key.pkl because the corresponding module is gone from the file system.\n",
      "WARNING (theano.gof.cmodule): Removing key file /home/duanders/.theano/compiledir_Linux-3.19--generic-x86_64-with-Ubuntu-15.04-vivid-x86_64-2.7.9-64/tmpSfCdkr/key.pkl because the corresponding module is gone from the file system.\n",
      "WARNING (theano.gof.cmodule): Removing key file /home/duanders/.theano/compiledir_Linux-3.19--generic-x86_64-with-Ubuntu-15.04-vivid-x86_64-2.7.9-64/tmpFCYcqC/key.pkl because the corresponding module is gone from the file system.\n",
      "WARNING (theano.gof.cmodule): Removing key file /home/duanders/.theano/compiledir_Linux-3.19--generic-x86_64-with-Ubuntu-15.04-vivid-x86_64-2.7.9-64/tmpOjHmKJ/key.pkl because the corresponding module is gone from the file system.\n",
      "WARNING (theano.gof.cmodule): Removing key file /home/duanders/.theano/compiledir_Linux-3.19--generic-x86_64-with-Ubuntu-15.04-vivid-x86_64-2.7.9-64/tmpxQMOlk/key.pkl because the corresponding module is gone from the file system.\n",
      "WARNING (theano.gof.cmodule): Removing key file /home/duanders/.theano/compiledir_Linux-3.19--generic-x86_64-with-Ubuntu-15.04-vivid-x86_64-2.7.9-64/tmp8lbmsU/key.pkl because the corresponding module is gone from the file system.\n",
      "WARNING (theano.gof.cmodule): Removing key file /home/duanders/.theano/compiledir_Linux-3.19--generic-x86_64-with-Ubuntu-15.04-vivid-x86_64-2.7.9-64/tmpAM5Avn/key.pkl because the corresponding module is gone from the file system.\n",
      "WARNING (theano.gof.cmodule): Removing key file /home/duanders/.theano/compiledir_Linux-3.19--generic-x86_64-with-Ubuntu-15.04-vivid-x86_64-2.7.9-64/tmpwwjFS0/key.pkl because the corresponding module is gone from the file system.\n",
      "WARNING (theano.gof.cmodule): Removing key file /home/duanders/.theano/compiledir_Linux-3.19--generic-x86_64-with-Ubuntu-15.04-vivid-x86_64-2.7.9-64/tmp6evGN7/key.pkl because the corresponding module is gone from the file system.\n",
      "WARNING (theano.gof.cmodule): Removing key file /home/duanders/.theano/compiledir_Linux-3.19--generic-x86_64-with-Ubuntu-15.04-vivid-x86_64-2.7.9-64/tmphsJ9L2/key.pkl because the corresponding module is gone from the file system.\n",
      "WARNING (theano.gof.cmodule): Removing key file /home/duanders/.theano/compiledir_Linux-3.19--generic-x86_64-with-Ubuntu-15.04-vivid-x86_64-2.7.9-64/tmpH80NK9/key.pkl because the corresponding module is gone from the file system.\n",
      "WARNING (theano.gof.cmodule): Removing key file /home/duanders/.theano/compiledir_Linux-3.19--generic-x86_64-with-Ubuntu-15.04-vivid-x86_64-2.7.9-64/tmp3C7W2_/key.pkl because the corresponding module is gone from the file system.\n"
     ]
    },
    {
     "name": "stdout",
     "output_type": "stream",
     "text": [
      "Epoch 1/10\n",
      "256000/256000 [==============================] - 2235s - loss: 8800.5923  \n",
      "Epoch 2/10\n",
      "256000/256000 [==============================] - 2238s - loss: 332.6384  \n",
      "Epoch 3/10\n",
      "256000/256000 [==============================] - 2237s - loss: -1767.7426  \n",
      "Epoch 4/10\n",
      "256000/256000 [==============================] - 2242s - loss: -2612.4678  \n",
      "Epoch 5/10\n",
      "256000/256000 [==============================] - 2237s - loss: -3074.0191  \n",
      "Epoch 6/10\n",
      "256000/256000 [==============================] - 2248s - loss: -3484.4773  \n",
      "Epoch 7/10\n",
      "256000/256000 [==============================] - 2306s - loss: -3033.7664  \n",
      "Epoch 8/10\n",
      "256000/256000 [==============================] - 2240s - loss: -3865.1690  \n",
      "Epoch 9/10\n",
      "256000/256000 [==============================] - 2233s - loss: -4100.3768  \n",
      "Epoch 10/10\n",
      "256000/256000 [==============================] - 2245s - loss: -4206.6243  \n"
     ]
    },
    {
     "data": {
      "text/plain": [
       "<keras.callbacks.History at 0x7f5a98236490>"
      ]
     },
     "execution_count": 136,
     "metadata": {},
     "output_type": "execute_result"
    }
   ],
   "source": [
    "model_5_4 = build_model_5(n_tracks=4)\n",
    "train_generator = gen_n_tracks(n_tracks=4)\n",
    "model_5_4.fit_generator(train_generator, epoch_size, 10)"
   ]
  },
  {
   "cell_type": "code",
   "execution_count": 141,
   "metadata": {
    "collapsed": false
   },
   "outputs": [
    {
     "name": "stdout",
     "output_type": "stream",
     "text": [
      "[[  8.78856546   6.90373029   0.           0.           0.        ]\n",
      " [ 30.47193586   3.86224908   0.           0.           0.        ]\n",
      " [ 47.18301059  -2.09589074   0.           0.           0.        ]\n",
      " [ 48.48023262 -11.58544419   0.           0.           0.        ]]\n",
      "[[  8.78244114e+00   6.69734907e+00   8.11213907e-03  -7.35580362e-03\n",
      "    2.10141223e-02]\n",
      " [  3.04270267e+01   3.56647205e+00   1.47773279e-02  -1.85862966e-02\n",
      "    8.97592530e-02]\n",
      " [  4.72389679e+01  -2.20411563e+00   3.07878666e-02  -3.02452520e-02\n",
      "    1.34234339e-01]\n",
      " [  4.85368843e+01  -1.18511105e+01   1.98838357e-02  -1.59143768e-02\n",
      "    6.94817379e-02]]\n"
     ]
    },
    {
     "data": {
      "image/png": "[encoded data removed]",
      "text/plain": [
       "<matplotlib.figure.Figure at 0x7f5c6f22f210>"
      ]
     },
     "metadata": {},
     "output_type": "display_data"
    }
   ],
   "source": [
    "make_pred_with_errors(model_5_4, n_tracks=4)"
   ]
  },
  {
   "cell_type": "code",
   "execution_count": 142,
   "metadata": {
    "collapsed": false
   },
   "outputs": [
    {
     "name": "stdout",
     "output_type": "stream",
     "text": [
      "Epoch 1/10\n",
      "256000/256000 [==============================] - 3312s - loss: 16654.2734  \n",
      "Epoch 2/10\n",
      "256000/256000 [==============================] - 3312s - loss: 6012.7575  \n",
      "Epoch 3/10\n",
      "256000/256000 [==============================] - 3320s - loss: 1474.8210  \n",
      "Epoch 4/10\n",
      "256000/256000 [==============================] - 3308s - loss: -357.2624  \n",
      "Epoch 5/10\n",
      "256000/256000 [==============================] - 3317s - loss: 214.2985  \n",
      "Epoch 6/10\n",
      "256000/256000 [==============================] - 3307s - loss: -1099.9008  \n",
      "Epoch 7/10\n",
      "256000/256000 [==============================] - 3313s - loss: -2101.6433  \n",
      "Epoch 8/10\n",
      "256000/256000 [==============================] - 3314s - loss: -2700.8210  \n",
      "Epoch 9/10\n",
      "256000/256000 [==============================] - 3311s - loss: 1275.0274  \n",
      "Epoch 10/10\n",
      "256000/256000 [==============================] - 3302s - loss: 1319.1199  \n"
     ]
    },
    {
     "data": {
      "text/plain": [
       "<keras.callbacks.History at 0x7f59e4f6a0d0>"
      ]
     },
     "execution_count": 142,
     "metadata": {},
     "output_type": "execute_result"
    }
   ],
   "source": [
    "model_5_6 = build_model_5(n_tracks=6)\n",
    "train_generator = gen_n_tracks(n_tracks=6)\n",
    "model_5_6.fit_generator(train_generator, epoch_size, 10)"
   ]
  },
  {
   "cell_type": "code",
   "execution_count": 154,
   "metadata": {
    "collapsed": false
   },
   "outputs": [
    {
     "name": "stdout",
     "output_type": "stream",
     "text": [
      "[[  1.36974594  15.75775167   0.           0.           0.        ]\n",
      " [  6.69020236  21.63831197   0.           0.           0.        ]\n",
      " [ 23.13099704  10.61460022   0.           0.           0.        ]\n",
      " [ 30.07537097  -9.60023389   0.           0.           0.        ]\n",
      " [ 38.62709968  -5.03073719   0.           0.           0.        ]\n",
      " [ 46.07520399 -17.31577709   0.           0.           0.        ]]\n",
      "[[  1.41710794e+00   1.58946314e+01   1.37379998e-02  -1.42378630e-02\n",
      "    8.16761702e-02]\n",
      " [  6.94472837e+00   2.07193089e+01   2.06383616e-02  -3.14566866e-02\n",
      "    2.05920428e-01]\n",
      " [  2.30048332e+01   1.04783545e+01   3.34627964e-02  -5.93722127e-02\n",
      "    4.82638150e-01]\n",
      " [  3.02417088e+01  -1.06161556e+01   3.81339826e-02  -5.92680983e-02\n",
      "    3.77384067e-01]\n",
      " [  3.85209503e+01  -4.45838690e+00   4.25684191e-02  -7.10345581e-02\n",
      "    5.42939126e-01]\n",
      " [  4.59840469e+01  -1.75100803e+01   2.96637714e-02  -3.66621539e-02\n",
      "    1.78565845e-01]]\n"
     ]
    },
    {
     "data": {
      "image/png": "[encoded data removed]",
      "text/plain": [
       "<matplotlib.figure.Figure at 0x7f58dc041590>"
      ]
     },
     "metadata": {},
     "output_type": "display_data"
    }
   ],
   "source": [
    "make_pred_with_errors(model_5_6, n_tracks=6)"
   ]
  },
  {
   "cell_type": "code",
   "execution_count": 159,
   "metadata": {
    "collapsed": false
   },
   "outputs": [
    {
     "name": "stdout",
     "output_type": "stream",
     "text": [
      "[[ 10.73800872  11.73122492   0.           0.           0.        ]\n",
      " [ 16.63287489   2.47765778   0.           0.           0.        ]\n",
      " [ 23.78129657   8.69033237   0.           0.           0.        ]\n",
      " [ 28.52443446   9.29361963   0.           0.           0.        ]\n",
      " [ 39.01676671 -13.50255085   0.           0.           0.        ]\n",
      " [ 41.83986601   1.32901974   0.           0.           0.        ]]\n",
      "[[  1.07840490e+01   1.14283895e+01   1.38452435e-02  -1.47264386e-02\n",
      "    7.54626915e-02]\n",
      " [  1.65479507e+01   1.94613135e+00   2.85531059e-02  -4.67215292e-02\n",
      "    4.14232522e-01]\n",
      " [  2.40377388e+01   9.40406895e+00   2.70177443e-02  -4.26701643e-02\n",
      "    3.71104568e-01]\n",
      " [  2.87294140e+01   7.44291639e+00   4.09407802e-02  -7.19434619e-02\n",
      "    5.44476628e-01]\n",
      " [  3.93452225e+01  -1.38276644e+01   3.74981165e-02  -5.53058498e-02\n",
      "    3.58853966e-01]\n",
      " [  4.18622818e+01   1.93616951e+00   4.36832570e-02  -5.93304001e-02\n",
      "    4.20706183e-01]]\n"
     ]
    },
    {
     "data": {
      "image/png": "[encoded data removed]",
      "text/plain": [
       "<matplotlib.figure.Figure at 0x7f58d92fa0d0>"
      ]
     },
     "metadata": {},
     "output_type": "display_data"
    }
   ],
   "source": [
    "make_pred_with_errors(model_5_6, n_tracks=6)"
   ]
  },
  {
   "cell_type": "code",
   "execution_count": 160,
   "metadata": {
    "collapsed": false
   },
   "outputs": [
    {
     "name": "stdout",
     "output_type": "stream",
     "text": [
      "Epoch 1/10\n",
      "256000/256000 [==============================] - 3335s - loss: -608.2487  \n",
      "Epoch 2/10\n",
      "256000/256000 [==============================] - 3319s - loss: -1188.8332  \n",
      "Epoch 3/10\n",
      "256000/256000 [==============================] - 3320s - loss: -2239.2607  \n",
      "Epoch 4/10\n",
      "256000/256000 [==============================] - 3365s - loss: -3011.5173  \n",
      "Epoch 5/10\n",
      "256000/256000 [==============================] - 3392s - loss: 1174.4878  \n",
      "Epoch 6/10\n",
      "256000/256000 [==============================] - 3359s - loss: 7671.7315  \n",
      "Epoch 7/10\n",
      "256000/256000 [==============================] - 3350s - loss: 5377.2457  \n",
      "Epoch 8/10\n",
      "256000/256000 [==============================] - 3347s - loss: 3297.8431  \n",
      "Epoch 9/10\n",
      "256000/256000 [==============================] - 3347s - loss: 3280.5623  \n",
      "Epoch 10/10\n",
      "256000/256000 [==============================] - 3335s - loss: 4892.1844  \n"
     ]
    },
    {
     "data": {
      "text/plain": [
       "<keras.callbacks.History at 0x7f58d7ee9950>"
      ]
     },
     "execution_count": 160,
     "metadata": {},
     "output_type": "execute_result"
    }
   ],
   "source": [
    "train_generator = gen_n_tracks(n_tracks=6)\n",
    "model_5_6.fit_generator(train_generator, epoch_size, 10)"
   ]
  },
  {
   "cell_type": "code",
   "execution_count": 163,
   "metadata": {
    "collapsed": false
   },
   "outputs": [
    {
     "name": "stdout",
     "output_type": "stream",
     "text": [
      "[[  3.19082625e+00   1.06126362e+01   0.00000000e+00   0.00000000e+00\n",
      "    0.00000000e+00]\n",
      " [  1.17841386e+01   1.50371134e-02   0.00000000e+00   0.00000000e+00\n",
      "    0.00000000e+00]\n",
      " [  2.57222803e+01   1.96732326e+00   0.00000000e+00   0.00000000e+00\n",
      "    0.00000000e+00]\n",
      " [  2.91503056e+01  -2.32419754e+00   0.00000000e+00   0.00000000e+00\n",
      "    0.00000000e+00]\n",
      " [  2.99297495e+01   9.30592818e+00   0.00000000e+00   0.00000000e+00\n",
      "    0.00000000e+00]\n",
      " [  3.75888608e+01   5.21367012e+00   0.00000000e+00   0.00000000e+00\n",
      "    0.00000000e+00]]\n",
      "[[  3.660743    10.91931534   0.9593246   -0.286879     3.88841677]\n",
      " [ 11.43330765  -1.54333472   1.02027905  -0.76977313   6.45395708]\n",
      " [ 25.46128654  -0.44244331   1.06945539  -0.898516     6.18983793]\n",
      " [ 29.20277596  -2.54255605   1.11355805  -0.94167978   5.50721788]\n",
      " [ 30.33678818   9.05581951   0.99481583  -0.83736604   8.11039257]\n",
      " [ 37.96393204   5.44066811   1.01975536  -0.86628175   7.43158913]]\n"
     ]
    },
    {
     "data": {
      "image/png": "[encoded data removed]",
      "text/plain": [
       "<matplotlib.figure.Figure at 0x7f57d6c4ce50>"
      ]
     },
     "metadata": {},
     "output_type": "display_data"
    }
   ],
   "source": [
    "make_pred_with_errors(model_5_6, n_tracks=6)"
   ]
  },
  {
   "cell_type": "markdown",
   "metadata": {},
   "source": [
    "During training the loss function oscillates.  Hypothesis: if the model weights take a wrong turn during training, the track-finding part of the network gets worse, which forces the covariance-finding part of the network to report larger variances.  So small fluctuations towards worse model performance can grow out of control.\n",
    "\n",
    "Solution: pre-train the track-finding part of the network.  "
   ]
  },
  {
   "cell_type": "code",
   "execution_count": null,
   "metadata": {
    "collapsed": true
   },
   "outputs": [],
   "source": []
  }
 ],
 "metadata": {
  "kernelspec": {
   "display_name": "Python 2",
   "language": "python",
   "name": "python2"
  },
  "language_info": {
   "codemirror_mode": {
    "name": "ipython",
    "version": 2
   },
   "file_extension": ".py",
   "mimetype": "text/x-python",
   "name": "python",
   "nbconvert_exporter": "python",
   "pygments_lexer": "ipython2",
   "version": "2.7.9"
  }
 },
 "nbformat": 4,
 "nbformat_minor": 0
}
