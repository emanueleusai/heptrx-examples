{
 "cells": [
  {
   "cell_type": "code",
   "execution_count": null,
   "metadata": {
    "collapsed": true
   },
   "outputs": [],
   "source": [
    "def generate(\n",
    "        logistics : Sequence[Sequence[int]],\n",
    "        bank      : pd.DataFrame,\n",
    "        )-> pd.DataFrame:\n",
    "    \"\"\"\n",
    "    Arguments:\n",
    "        logistics: Sequence[Sequence[int, int]]\n",
    "            A sequence of integer pairs.\n",
    "            Pairs represent information used to specify event generation.\n",
    "            Pair[0] -> Number of events.\n",
    "            Pair[1] -> Tracks per event.\n",
    "            Example: logistics = [(3, 5), (10, 2), (6, 12)] translates to...\n",
    "            \"Return 1 pd.DataFrame with:\n",
    "              3 events with  5 tracks each,\n",
    "             10 events with  2 tracks each,\n",
    "              6 events with 12 tracks each.\".\n",
    "        bank: pd.DataFrame\n",
    "            The bank of tracks to sample tracks from.\n",
    "\n",
    "    Returns:\n",
    "        A new pd.DataFrame consisting of generated events.\n",
    "    \"\"\"\n",
    "    generated = []  # Generated tracks go here.\n",
    "    groups    = bank.groupby([\"event_id\", \"cluster_id\"])\n",
    "    tracks    = [track for (_, track) in groups if len(track) > 1]\n",
    "    event_id  = 0  # Increments every time we add an event to \"generated\".\n",
    "    for number_of_events, tracks_per_event in logistics:\n",
    "        for _ in range(number_of_events):\n",
    "            samples = random.sample(population=tracks, k=tracks_per_event)\n",
    "            for i, track in enumerate(samples):\n",
    "                # Randomly rotate track about origin.\n",
    "                phi = np.random.uniform(-np.pi, np.pi)\n",
    "                rot = np.array([[np.cos(phi), -np.sin(phi)],\n",
    "                                [np.sin(phi),  np.cos(phi)]])\n",
    "                coordinates = np.array([track[\"x\"], track[\"y\"]]).T @ rot\n",
    "                new_track = pd.DataFrame(data={\n",
    "                    \"event_id\": event_id,\n",
    "                    \"cluster_id\": i,\n",
    "                    \"x\": coordinates[:, 0],\n",
    "                    \"y\": coordinates[:, 1]\n",
    "                })\n",
    "                generated.append(new_track)\n",
    "            event_id += 1\n",
    "        print(\"\\rGenerated {}\".format(event_id), end=\"\")\n",
    "    print(\"\")\n",
    "    frame: pd.DataFrame = pd.concat(generated)\n",
    "    frame: pd.DataFrame = frame[[\"event_id\", \"cluster_id\", \"x\", \"y\"]]\n",
    "    return frame.drop_duplicates().sample(frac=1).reset_index(drop=True)"
   ]
  }
 ],
 "metadata": {
  "kernelspec": {
   "display_name": "Python 3",
   "language": "python",
   "name": "python3"
  },
  "language_info": {
   "codemirror_mode": {
    "name": "ipython",
    "version": 3
   },
   "file_extension": ".py",
   "mimetype": "text/x-python",
   "name": "python",
   "nbconvert_exporter": "python",
   "pygments_lexer": "ipython3",
   "version": "3.5.2"
  }
 },
 "nbformat": 4,
 "nbformat_minor": 2
}
