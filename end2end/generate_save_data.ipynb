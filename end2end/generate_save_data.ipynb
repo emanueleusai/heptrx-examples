{
 "cells": [
  {
   "cell_type": "markdown",
   "metadata": {},
   "source": [
    "# Notebook to generate and save toy data in a .npz format"
   ]
  },
  {
   "cell_type": "code",
   "execution_count": 1,
   "metadata": {
    "collapsed": false
   },
   "outputs": [],
   "source": [
    "# System imports\n",
    "import math\n",
    "from __future__ import print_function\n",
    "\n",
    "# Standard imports\n",
    "import sys\n",
    "import numpy as np\n",
    "\n",
    "# Python Externa Imports\n",
    "import matplotlib.pyplot as plt\n",
    "from mpl_toolkits.mplot3d import Axes3D\n",
    "\n",
    "# Local imports\n",
    "from local_modules import generate_data, track_hit_coords, draw_from_params,drawMulti_from_params_pix  \n",
    "\n",
    "# Magic\n",
    "#%matplotlib inline\n",
    "%matplotlib notebook"
   ]
  },
  {
   "cell_type": "code",
   "execution_count": 2,
   "metadata": {
    "collapsed": true
   },
   "outputs": [],
   "source": [
    "# Configuration\n",
    "num_det_layers = 10\n",
    "det_layer_size = 32\n",
    "num_seed_layers = 0\n",
    "avg_bkg_tracks = 0\n",
    "noise_prob = 0.0\n",
    "det_shape = (num_det_layers, det_layer_size, det_layer_size)\n",
    "\n",
    "max_tracks = 6\n",
    "num_tracks = 3\n",
    "\n",
    "# Training parameters\n",
    "batch_size = 256\n",
    "epoch_size = 25600\n",
    "num_epochs = 10\n",
    "\n",
    "#batch_size = 64\n",
    "#epoch_size = 64\n",
    "#num_epochs = 3"
   ]
  },
  {
   "cell_type": "code",
   "execution_count": 3,
   "metadata": {
    "collapsed": false
   },
   "outputs": [],
   "source": [
    "def batch_generator(num_batch, det_shape=det_shape,\n",
    "                    num_seed_layers=num_seed_layers,\n",
    "                    avg_bkg_tracks=avg_bkg_tracks,\n",
    "                    noise_prob=noise_prob):\n",
    "    \"\"\"Generator of toy data batches for training\"\"\"\n",
    "    shape = (num_batch,) + det_shape\n",
    "    while True:\n",
    "        events, sig_tracks, params, a = generate_data(\n",
    "            shape, num_seed_layers=num_seed_layers,\n",
    "            avg_bkg_tracks=avg_bkg_tracks,\n",
    "            noise_prob=noise_prob, verbose=False)\n",
    "        train_target = sig_tracks.reshape(num_batch, det_shape[0], -1)\n",
    "        # params includes the slopes and entry points.\n",
    "        yield (events, train_target, params, a)"
   ]
  },
  {
   "cell_type": "code",
   "execution_count": 4,
   "metadata": {
    "collapsed": false,
    "scrolled": true
   },
   "outputs": [],
   "source": [
    "# Set random seed\n",
    "np.random.seed(2010)\n",
    "\n",
    "# Generate a fixed dataset of multi-track events\n",
    "gen_single = batch_generator(batch_size)\n",
    "\n",
    "train_events = np.zeros((epoch_size, 1, num_det_layers, det_layer_size, det_layer_size))\n",
    "train_targets = -99 * np.ones((epoch_size, max_tracks, 4))\n",
    "train_a = -99 * np.ones((epoch_size, max_tracks, 2*num_det_layers))\n",
    "train_weights = np.zeros((epoch_size, max_tracks))\n",
    "for n in range(epoch_size):\n",
    "    tracks,train_hits,params,a = gen_single.next()\n",
    "    train_events[n,0] = np.clip( sum( tracks[:num_tracks] ), 0, 1)\n",
    "    event_targets = np.asarray(params[:num_tracks])\n",
    "    event_a = np.asarray(a[:num_tracks])\n",
    "    train_targets[n,:num_tracks] = event_targets[event_targets[:,0].argsort()] # sort by first column\n",
    "    train_a[n,:num_tracks] = event_a[event_a[:,0].argsort()] # sort by first column\n",
    "    train_weights[n,:num_tracks] = np.ones((num_tracks))\n"
   ]
  },
  {
   "cell_type": "code",
   "execution_count": 5,
   "metadata": {
    "collapsed": false
   },
   "outputs": [],
   "source": [
    "np.savez(\"/bigdata/atsaris/new/data1trk_256\", events=train_events, target_slope_pix=train_a, \n",
    "        target_slope=train_targets, weights=train_weights, num_det_layers=num_det_layers,\n",
    "        det_layer_size=det_layer_size, max_tracks=max_tracks, num_tracks=num_tracks,\n",
    "        batch_size=batch_size, epoch_size=epoch_size, num_epochs=num_epochs)"
   ]
  },
  {
   "cell_type": "code",
   "execution_count": 6,
   "metadata": {
    "collapsed": false
   },
   "outputs": [],
   "source": [
    "np.random.seed(2017)\n",
    "\n",
    "# Generate a fixed dataset of multi-track events\n",
    "gen_single = batch_generator(batch_size)\n",
    "epoch_size = 1000\n",
    "\n",
    "train_events = np.zeros((epoch_size, 1, num_det_layers, det_layer_size, det_layer_size))\n",
    "train_targets = -99 * np.ones((epoch_size, max_tracks, 4))\n",
    "train_a = -99 * np.ones((epoch_size, max_tracks, 2*num_det_layers))\n",
    "train_weights = np.zeros((epoch_size, max_tracks))\n",
    "for n in range(epoch_size):\n",
    "    tracks,train_hits,params,a = gen_single.next()\n",
    "    train_events[n,0] = np.clip( sum( tracks[:num_tracks] ), 0, 1)\n",
    "    event_targets = np.asarray(params[:num_tracks])\n",
    "    event_a = np.asarray(a[:num_tracks])\n",
    "    train_targets[n,:num_tracks] = event_targets[event_targets[:,0].argsort()] # sort by first column\n",
    "    train_a[n,:num_tracks] = event_a[event_a[:,0].argsort()] # sort by first column\n",
    "    train_weights[n,:num_tracks] = np.ones((num_tracks))"
   ]
  },
  {
   "cell_type": "code",
   "execution_count": 7,
   "metadata": {
    "collapsed": true
   },
   "outputs": [],
   "source": [
    "np.savez(\"/bigdata/atsaris/new/test1trk_256\", events=train_events, target_slope_pix=train_a, \n",
    "        target_slope=train_targets, weights=train_weights, num_det_layers=num_det_layers,\n",
    "        det_layer_size=det_layer_size, max_tracks=max_tracks, num_tracks=num_tracks,\n",
    "        batch_size=batch_size, epoch_size=epoch_size, num_epochs=num_epochs)"
   ]
  },
  {
   "cell_type": "code",
   "execution_count": null,
   "metadata": {
    "collapsed": true
   },
   "outputs": [],
   "source": []
  }
 ],
 "metadata": {
  "kernelspec": {
   "display_name": "Python 2",
   "language": "python",
   "name": "python2"
  },
  "language_info": {
   "codemirror_mode": {
    "name": "ipython",
    "version": 2
   },
   "file_extension": ".py",
   "mimetype": "text/x-python",
   "name": "python",
   "nbconvert_exporter": "python",
   "pygments_lexer": "ipython2",
   "version": "2.7.12"
  }
 },
 "nbformat": 4,
 "nbformat_minor": 1
}
