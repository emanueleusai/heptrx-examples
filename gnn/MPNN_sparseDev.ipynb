{
 "cells": [
  {
   "cell_type": "markdown",
   "metadata": {},
   "source": [
    "# Testing usage of sparse matrices in graph NN model"
   ]
  },
  {
   "cell_type": "code",
   "execution_count": 1,
   "metadata": {},
   "outputs": [],
   "source": [
    "# Training concurrency\n",
    "import os\n",
    "os.environ['OMP_NUM_THREADS'] = '4'\n",
    "os.environ['CUDA_VISIBLE_DEVICES'] = '1'\n",
    "\n",
    "cuda = False"
   ]
  },
  {
   "cell_type": "code",
   "execution_count": 2,
   "metadata": {},
   "outputs": [],
   "source": [
    "# System imports\n",
    "from __future__ import print_function\n",
    "import os\n",
    "import multiprocessing as mp\n",
    "from timeit import default_timer as timer\n",
    "\n",
    "# Externals\n",
    "import numpy as np\n",
    "import pandas as pd\n",
    "import matplotlib.pyplot as plt\n",
    "import sklearn.metrics\n",
    "from sklearn.model_selection import train_test_split\n",
    "\n",
    "# Torch imports\n",
    "import torch\n",
    "from torch.autograd import Variable\n",
    "import torch.nn as nn\n",
    "\n",
    "# Local imports\n",
    "from graph import load_graphs, SparseGraph, feature_scale, graph_from_sparse\n",
    "from model import SegmentClassifier\n",
    "from estimator import Estimator\n",
    "\n",
    "%matplotlib notebook"
   ]
  },
  {
   "cell_type": "code",
   "execution_count": 3,
   "metadata": {},
   "outputs": [],
   "source": [
    "if cuda:\n",
    "    np_to_torch = lambda x, volatile=False: (\n",
    "        Variable(torch.from_numpy(x.astype(np.float32)), volatile=volatile).cuda())\n",
    "else:\n",
    "    np_to_torch = lambda x, volatile=False: (\n",
    "        Variable(torch.from_numpy(x.astype(np.float32)), volatile=volatile))\n",
    "\n",
    "torch_to_np = lambda x: x.cpu().data.numpy()"
   ]
  },
  {
   "cell_type": "code",
   "execution_count": 6,
   "metadata": {},
   "outputs": [],
   "source": [
    "input_dir = '/global/cscratch1/sd/sfarrell/heptrkx/hit_graphs_mu10_003/data'"
   ]
  },
  {
   "cell_type": "code",
   "execution_count": 7,
   "metadata": {},
   "outputs": [],
   "source": [
    "n_samples = 32"
   ]
  },
  {
   "cell_type": "code",
   "execution_count": 8,
   "metadata": {},
   "outputs": [
    {
     "name": "stdout",
     "output_type": "stream",
     "text": [
      "CPU times: user 83.9 ms, sys: 27.2 ms, total: 111 ms\n",
      "Wall time: 689 ms\n"
     ]
    }
   ],
   "source": [
    "%%time\n",
    "\n",
    "filenames = [os.path.join(input_dir, 'event%06i.npz' % i) for i in range(n_samples)]\n",
    "graphs = load_graphs(filenames, SparseGraph)"
   ]
  },
  {
   "cell_type": "code",
   "execution_count": 10,
   "metadata": {},
   "outputs": [],
   "source": [
    "class EdgeNetwork(nn.Module):\n",
    "    \"\"\"\n",
    "    A module which computes weights for edges of the graph.\n",
    "    For each edge, it selects the associated nodes' features\n",
    "    and applies some fully-connected network layers with a final\n",
    "    sigmoid activation.\n",
    "    \"\"\"\n",
    "    def __init__(self, input_dim, hidden_dim=8, hidden_activation=nn.Tanh):\n",
    "        super(EdgeNetwork, self).__init__()\n",
    "        self.network = nn.Sequential(\n",
    "            nn.Linear(input_dim*2, hidden_dim),\n",
    "            hidden_activation(),\n",
    "            nn.Linear(hidden_dim, 1),\n",
    "            nn.Sigmoid())\n",
    "    def forward(self, X, Ri, Ro):\n",
    "        # Select the features of the associated nodes\n",
    "        bo = torch.bmm(Ro.transpose(1, 2), X)\n",
    "        bi = torch.bmm(Ri.transpose(1, 2), X)\n",
    "        B = torch.cat([bo, bi], dim=2)\n",
    "        # Apply the network to each edge\n",
    "        return self.network(B).squeeze(-1)\n",
    "\n",
    "class NodeNetwork(nn.Module):\n",
    "    \"\"\"\n",
    "    A module which computes new node features on the graph.\n",
    "    For each node, it aggregates the neighbor node features\n",
    "    (separately on the input and output side), and combines\n",
    "    them with the node's previous features in a fully-connected\n",
    "    network to compute the new features.\n",
    "    \"\"\"\n",
    "    def __init__(self, input_dim, output_dim, hidden_activation=nn.Tanh):\n",
    "        super(NodeNetwork, self).__init__()\n",
    "        self.network = nn.Sequential(\n",
    "            nn.Linear(input_dim*3, output_dim),\n",
    "            hidden_activation(),\n",
    "            nn.Linear(output_dim, output_dim),\n",
    "            hidden_activation())\n",
    "    def forward(self, X, e, Ri, Ro):\n",
    "        bo = torch.bmm(Ro.transpose(1, 2), X)\n",
    "        bi = torch.bmm(Ri.transpose(1, 2), X)\n",
    "        Rwo = Ro * e[:,None]\n",
    "        Rwi = Ri * e[:,None]\n",
    "        mi = torch.bmm(Rwi, bo)\n",
    "        mo = torch.bmm(Rwo, bi)\n",
    "        M = torch.cat([mi, mo, X], dim=2)\n",
    "        return self.network(M)\n",
    "\n",
    "class SegmentClassifier(nn.Module):\n",
    "    \"\"\"\n",
    "    Segment classification graph neural network model.\n",
    "    Consists of an input network, an edge network, and a node network.\n",
    "    \"\"\"\n",
    "    def __init__(self, input_dim=2, hidden_dim=8, n_iters=3, hidden_activation=nn.Tanh):\n",
    "        super(SegmentClassifier, self).__init__()\n",
    "        self.n_iters = n_iters\n",
    "        # Setup the input network\n",
    "        self.input_network = nn.Sequential(\n",
    "            nn.Linear(input_dim, hidden_dim),\n",
    "            hidden_activation())\n",
    "        # Setup the edge network\n",
    "        self.edge_network = EdgeNetwork(input_dim+hidden_dim, hidden_dim, hidden_activation)\n",
    "        # Setup the node layers\n",
    "        self.node_network = NodeNetwork(input_dim+hidden_dim, hidden_dim, hidden_activation)\n",
    "\n",
    "    def forward(self, inputs):\n",
    "        \"\"\"Apply forward pass of the model\"\"\"\n",
    "        X, Ri, Ro = inputs\n",
    "        # Apply input network to get hidden representation\n",
    "        H = self.input_network(X)\n",
    "        # Shortcut connect the inputs onto the hidden representation\n",
    "        H = torch.cat([H, X], dim=-1)\n",
    "        # Loop over iterations of edge and node networks\n",
    "        for i in range(self.n_iters):\n",
    "            # Apply edge network\n",
    "            e = self.edge_network(H, Ri, Ro)\n",
    "            # Apply node network\n",
    "            H = self.node_network(H, e, Ri, Ro)\n",
    "            # Shortcut connect the inputs onto the hidden representation\n",
    "            H = torch.cat([H, X], dim=-1)\n",
    "        # Apply final edge network\n",
    "        return self.edge_network(H, Ri, Ro)"
   ]
  },
  {
   "cell_type": "code",
   "execution_count": 16,
   "metadata": {},
   "outputs": [
    {
     "data": {
      "text/plain": [
       "SegmentClassifier(\n",
       "  (input_network): Sequential(\n",
       "    (0): Linear(in_features=3, out_features=8)\n",
       "    (1): Tanh()\n",
       "  )\n",
       "  (edge_network): EdgeNetwork(\n",
       "    (network): Sequential(\n",
       "      (0): Linear(in_features=22, out_features=8)\n",
       "      (1): Tanh()\n",
       "      (2): Linear(in_features=8, out_features=1)\n",
       "      (3): Sigmoid()\n",
       "    )\n",
       "  )\n",
       "  (node_network): NodeNetwork(\n",
       "    (network): Sequential(\n",
       "      (0): Linear(in_features=33, out_features=8)\n",
       "      (1): Tanh()\n",
       "      (2): Linear(in_features=8, out_features=8)\n",
       "      (3): Tanh()\n",
       "    )\n",
       "  )\n",
       ")"
      ]
     },
     "execution_count": 16,
     "metadata": {},
     "output_type": "execute_result"
    }
   ],
   "source": [
    "# Model config\n",
    "hidden_dim = 8\n",
    "n_iters = 1\n",
    "\n",
    "# Construct the model\n",
    "n_features = feature_scale.shape[0]\n",
    "model = SegmentClassifier(input_dim=n_features, hidden_dim=hidden_dim, n_iters=n_iters)\n",
    "\n",
    "model"
   ]
  },
  {
   "cell_type": "code",
   "execution_count": 15,
   "metadata": {},
   "outputs": [
    {
     "data": {
      "text/plain": [
       "SegmentClassifier(\n",
       "  (input_network): Sequential(\n",
       "    (0): Linear(in_features=3, out_features=8)\n",
       "    (1): Tanh()\n",
       "  )\n",
       "  (edge_network): EdgeNetwork(\n",
       "    (network): Sequential(\n",
       "      (0): Linear(in_features=22, out_features=8)\n",
       "      (1): Tanh()\n",
       "      (2): Linear(in_features=8, out_features=1)\n",
       "      (3): Sigmoid()\n",
       "    )\n",
       "  )\n",
       "  (node_network): NodeNetwork(\n",
       "    (network): Sequential(\n",
       "      (0): Linear(in_features=33, out_features=8)\n",
       "      (1): Tanh()\n",
       "      (2): Linear(in_features=8, out_features=8)\n",
       "      (3): Tanh()\n",
       "    )\n",
       "  )\n",
       ")"
      ]
     },
     "execution_count": 15,
     "metadata": {},
     "output_type": "execute_result"
    }
   ],
   "source": [
    "model"
   ]
  },
  {
   "cell_type": "markdown",
   "metadata": {},
   "source": [
    "## Prepare a single sample batch (w/o sparse rep)"
   ]
  },
  {
   "cell_type": "code",
   "execution_count": 19,
   "metadata": {},
   "outputs": [],
   "source": [
    "g = graph_from_sparse(graphs[0])"
   ]
  },
  {
   "cell_type": "code",
   "execution_count": 21,
   "metadata": {},
   "outputs": [
    {
     "data": {
      "text/plain": [
       "(75, 3)"
      ]
     },
     "execution_count": 21,
     "metadata": {},
     "output_type": "execute_result"
    }
   ],
   "source": [
    "g.X.shape"
   ]
  },
  {
   "cell_type": "code",
   "execution_count": 27,
   "metadata": {},
   "outputs": [],
   "source": [
    "batch_X = np_to_torch(g.X[None], volatile=True)\n",
    "batch_Ri = np_to_torch(g.Ri[None], volatile=True)\n",
    "batch_Ro = np_to_torch(g.Ro[None], volatile=True)\n",
    "batch_y = np_to_torch(g.y[None], volatile=True)"
   ]
  },
  {
   "cell_type": "code",
   "execution_count": 28,
   "metadata": {},
   "outputs": [],
   "source": [
    "batch_inputs = [batch_X, batch_Ri, batch_Ro]"
   ]
  },
  {
   "cell_type": "markdown",
   "metadata": {},
   "source": [
    "### Test forward pass of model"
   ]
  },
  {
   "cell_type": "code",
   "execution_count": 30,
   "metadata": {},
   "outputs": [],
   "source": [
    "batch_outputs = model(batch_inputs)"
   ]
  },
  {
   "cell_type": "code",
   "execution_count": 31,
   "metadata": {},
   "outputs": [
    {
     "data": {
      "text/plain": [
       "torch.Size([1, 64])"
      ]
     },
     "execution_count": 31,
     "metadata": {},
     "output_type": "execute_result"
    }
   ],
   "source": [
    "batch_outputs.size()"
   ]
  },
  {
   "cell_type": "code",
   "execution_count": 32,
   "metadata": {},
   "outputs": [
    {
     "data": {
      "text/plain": [
       "torch.Size([1, 64])"
      ]
     },
     "execution_count": 32,
     "metadata": {},
     "output_type": "execute_result"
    }
   ],
   "source": [
    "batch_y.size()"
   ]
  },
  {
   "cell_type": "markdown",
   "metadata": {},
   "source": [
    "## Prepare batch with sparse rep"
   ]
  },
  {
   "cell_type": "raw",
   "metadata": {},
   "source": [
    "# Learning the API\n",
    "idx = torch.LongTensor([[0, 1], [1, 0]])\n",
    "val = torch.ShortTensor([1, 2])\n",
    "x = torch.sparse.ShortTensor(idx, val)\n",
    "x.to_dense()"
   ]
  },
  {
   "cell_type": "code",
   "execution_count": 82,
   "metadata": {},
   "outputs": [
    {
     "data": {
      "text/plain": [
       "(75, 64)"
      ]
     },
     "execution_count": 82,
     "metadata": {},
     "output_type": "execute_result"
    }
   ],
   "source": [
    "sg = graphs[0]\n",
    "n_nodes = sg.X.shape[0]\n",
    "n_edges = sg.y.shape[0]\n",
    "n_nodes, n_edges"
   ]
  },
  {
   "cell_type": "code",
   "execution_count": 107,
   "metadata": {},
   "outputs": [],
   "source": [
    "Ri_idx = torch.LongTensor(np.stack([sg.Ri_rows, sg.Ri_cols]))\n",
    "Ro_idx = torch.LongTensor(np.stack([sg.Ro_rows, sg.Ro_cols]))\n",
    "R_val = torch.FloatTensor(np.ones((n_edges), np.uint8))\n",
    "R_size = torch.Size((n_nodes, n_edges))\n",
    "Ri_sparse = torch.sparse.FloatTensor(Ri_idx, R_val, R_size)\n",
    "Ro_sparse = torch.sparse.FloatTensor(Ro_idx, R_val, R_size)"
   ]
  },
  {
   "cell_type": "code",
   "execution_count": 108,
   "metadata": {},
   "outputs": [],
   "source": [
    "# Try a basic matrix multiplication now\n",
    "X = np_to_torch(sg.X, volatile=True)"
   ]
  },
  {
   "cell_type": "code",
   "execution_count": 109,
   "metadata": {},
   "outputs": [
    {
     "data": {
      "text/plain": [
       "torch.Size([75, 3])"
      ]
     },
     "execution_count": 109,
     "metadata": {},
     "output_type": "execute_result"
    }
   ],
   "source": [
    "X.size()"
   ]
  },
  {
   "cell_type": "code",
   "execution_count": 110,
   "metadata": {},
   "outputs": [
    {
     "data": {
      "text/plain": [
       "torch.Size([75, 64])"
      ]
     },
     "execution_count": 110,
     "metadata": {},
     "output_type": "execute_result"
    }
   ],
   "source": [
    "Ri_sparse.size()"
   ]
  },
  {
   "cell_type": "code",
   "execution_count": 112,
   "metadata": {},
   "outputs": [],
   "source": [
    "Ri = Variable(Ri_sparse, volatile=True)"
   ]
  },
  {
   "cell_type": "code",
   "execution_count": 113,
   "metadata": {},
   "outputs": [
    {
     "ename": "RuntimeError",
     "evalue": "Expected object of type Variable[torch.sparse.FloatTensor] but found type Variable[torch.FloatTensor] for argument #1 'mat2'",
     "output_type": "error",
     "traceback": [
      "\u001b[0;31m\u001b[0m",
      "\u001b[0;31mRuntimeError\u001b[0mTraceback (most recent call last)",
      "\u001b[0;32m<ipython-input-113-0ced7258d13a>\u001b[0m in \u001b[0;36m<module>\u001b[0;34m()\u001b[0m\n\u001b[0;32m----> 1\u001b[0;31m \u001b[0mtorch\u001b[0m\u001b[0;34m.\u001b[0m\u001b[0mmatmul\u001b[0m\u001b[0;34m(\u001b[0m\u001b[0mVariable\u001b[0m\u001b[0;34m(\u001b[0m\u001b[0mRi\u001b[0m\u001b[0;34m.\u001b[0m\u001b[0mdata\u001b[0m\u001b[0;34m.\u001b[0m\u001b[0mt\u001b[0m\u001b[0;34m(\u001b[0m\u001b[0;34m)\u001b[0m\u001b[0;34m,\u001b[0m \u001b[0mvolatile\u001b[0m\u001b[0;34m=\u001b[0m\u001b[0mTrue\u001b[0m\u001b[0;34m)\u001b[0m\u001b[0;34m,\u001b[0m \u001b[0mX\u001b[0m\u001b[0;34m)\u001b[0m\u001b[0;34m\u001b[0m\u001b[0m\n\u001b[0m",
      "\u001b[0;32m/global/homes/s/sfarrell/.conda/envs/pytorch/lib/python2.7/site-packages/torch/functional.pyc\u001b[0m in \u001b[0;36mmatmul\u001b[0;34m(tensor1, tensor2, out)\u001b[0m\n\u001b[1;32m    171\u001b[0m     \u001b[0;32melif\u001b[0m \u001b[0mdim_tensor1\u001b[0m \u001b[0;34m==\u001b[0m \u001b[0;36m2\u001b[0m \u001b[0;32mand\u001b[0m \u001b[0mdim_tensor2\u001b[0m \u001b[0;34m==\u001b[0m \u001b[0;36m2\u001b[0m\u001b[0;34m:\u001b[0m\u001b[0;34m\u001b[0m\u001b[0m\n\u001b[1;32m    172\u001b[0m         \u001b[0;32mif\u001b[0m \u001b[0mout\u001b[0m \u001b[0;32mis\u001b[0m \u001b[0mNone\u001b[0m\u001b[0;34m:\u001b[0m\u001b[0;34m\u001b[0m\u001b[0m\n\u001b[0;32m--> 173\u001b[0;31m             \u001b[0;32mreturn\u001b[0m \u001b[0mtorch\u001b[0m\u001b[0;34m.\u001b[0m\u001b[0mmm\u001b[0m\u001b[0;34m(\u001b[0m\u001b[0mtensor1\u001b[0m\u001b[0;34m,\u001b[0m \u001b[0mtensor2\u001b[0m\u001b[0;34m)\u001b[0m\u001b[0;34m\u001b[0m\u001b[0m\n\u001b[0m\u001b[1;32m    174\u001b[0m         \u001b[0;32melse\u001b[0m\u001b[0;34m:\u001b[0m\u001b[0;34m\u001b[0m\u001b[0m\n\u001b[1;32m    175\u001b[0m             \u001b[0;32mreturn\u001b[0m \u001b[0mtorch\u001b[0m\u001b[0;34m.\u001b[0m\u001b[0mmm\u001b[0m\u001b[0;34m(\u001b[0m\u001b[0mtensor1\u001b[0m\u001b[0;34m,\u001b[0m \u001b[0mtensor2\u001b[0m\u001b[0;34m,\u001b[0m \u001b[0mout\u001b[0m\u001b[0;34m=\u001b[0m\u001b[0mout\u001b[0m\u001b[0;34m)\u001b[0m\u001b[0;34m\u001b[0m\u001b[0m\n",
      "\u001b[0;31mRuntimeError\u001b[0m: Expected object of type Variable[torch.sparse.FloatTensor] but found type Variable[torch.FloatTensor] for argument #1 'mat2'"
     ]
    }
   ],
   "source": [
    "torch.matmul(Variable(Ri.data.t(), volatile=True), X)"
   ]
  },
  {
   "cell_type": "code",
   "execution_count": 117,
   "metadata": {
    "collapsed": true
   },
   "outputs": [
    {
     "data": {
      "text/plain": [
       "\n",
       " 0.0711  0.9412 -0.0785\n",
       " 0.0712  0.1191 -0.2477\n",
       " 0.0728  0.4440  0.2846\n",
       " 0.0724  0.0888  0.1267\n",
       " 0.0711 -0.0567  0.2096\n",
       " 0.0724 -0.1605 -0.0438\n",
       " 0.0726 -0.1782 -0.1080\n",
       " 0.0717 -0.5060  0.0992\n",
       " 0.0718 -0.7842  0.1394\n",
       " 0.0718  0.9885 -0.4870\n",
       " 0.0724  0.2019 -0.1206\n",
       " 0.0718  0.6120  0.2349\n",
       " 0.1157  0.9437 -0.1137\n",
       " 0.1165  0.1215 -0.3912\n",
       " 0.1155  0.4480  0.4649\n",
       " 0.1168  0.0867  0.2179\n",
       " 0.1160 -0.0528  0.3564\n",
       " 0.1158 -0.1634 -0.0567\n",
       " 0.1167 -0.1809 -0.1599\n",
       " 0.1153 -0.5088  0.1731\n",
       " 0.1162 -0.7871  0.2393\n",
       " 0.1166  0.2055 -0.1806\n",
       " 0.1155  0.6152  0.3915\n",
       " 0.1715  0.9467 -0.1579\n",
       " 0.1722  0.0840  0.3320\n",
       " 0.1718 -0.1672 -0.0733\n",
       " 0.1718 -0.1672 -0.0733\n",
       " 0.1712 -0.1842 -0.2242\n",
       " 0.1714 -0.5124  0.2682\n",
       " 0.1730 -0.7909  0.3674\n",
       " 0.1724  0.2101 -0.2564\n",
       " 0.2593  0.9514 -0.2300\n",
       " 0.2591  0.0798  0.5150\n",
       " 0.2588 -0.1730 -0.1030\n",
       " 0.2570 -0.1894 -0.3210\n",
       " 0.2588 -0.1730 -0.1030\n",
       " 0.2570 -0.1894 -0.3210\n",
       " 0.2624 -0.5182  0.4240\n",
       " 0.2565 -0.7965  0.5510\n",
       " 0.2606  0.2173 -0.3760\n",
       " 0.3605  0.9569 -0.3090\n",
       " 0.3564  0.0751  0.7090\n",
       " 0.3559 -0.1795 -0.1270\n",
       " 0.3616 -0.1958 -0.4480\n",
       " 0.3559 -0.1795 -0.1270\n",
       " 0.3616 -0.1958 -0.4480\n",
       " 0.3604 -0.5245  0.5940\n",
       " 0.3615 -0.8035  0.7880\n",
       " 0.3574  0.2252 -0.5030\n",
       " 0.5022  0.9646 -0.4240\n",
       " 0.5025  0.0680  1.0158\n",
       " 0.5022 -0.1893 -0.1700\n",
       " 0.4990 -0.2043 -0.6060\n",
       " 0.4998 -0.5335  0.8240\n",
       " 0.4970  0.2367 -0.6970\n",
       " 0.6593  0.9731 -0.5390\n",
       " 0.6634 -0.2002 -0.2180\n",
       " 0.6591 -0.2141 -0.8000\n",
       " 0.6602  0.2501 -0.9270\n",
       " 0.8214  0.9819 -0.7210\n",
       " 0.8176 -0.2107 -0.3090\n",
       " 0.8218 -0.2242 -1.0300\n",
       " 1.0212  0.9929 -0.8240\n",
       " 1.0153 -0.2242 -0.3090\n",
       "[torch.FloatTensor of size 64x3]"
      ]
     },
     "execution_count": 117,
     "metadata": {},
     "output_type": "execute_result"
    }
   ],
   "source": [
    "torch.matmul(Ri_sparse.t(), torch.from_numpy(sg.X))"
   ]
  },
  {
   "cell_type": "code",
   "execution_count": 119,
   "metadata": {},
   "outputs": [
    {
     "ename": "RuntimeError",
     "evalue": "Expected object of type Variable[torch.sparse.FloatTensor] but found type Variable[torch.FloatTensor] for argument #1 'mat2'",
     "output_type": "error",
     "traceback": [
      "\u001b[0;31m\u001b[0m",
      "\u001b[0;31mRuntimeError\u001b[0mTraceback (most recent call last)",
      "\u001b[0;32m<ipython-input-119-6f9ada56568c>\u001b[0m in \u001b[0;36m<module>\u001b[0;34m()\u001b[0m\n\u001b[0;32m----> 1\u001b[0;31m \u001b[0mtorch\u001b[0m\u001b[0;34m.\u001b[0m\u001b[0mmm\u001b[0m\u001b[0;34m(\u001b[0m\u001b[0mVariable\u001b[0m\u001b[0;34m(\u001b[0m\u001b[0mRi_sparse\u001b[0m\u001b[0;34m.\u001b[0m\u001b[0mt\u001b[0m\u001b[0;34m(\u001b[0m\u001b[0;34m)\u001b[0m\u001b[0;34m)\u001b[0m\u001b[0;34m,\u001b[0m \u001b[0mVariable\u001b[0m\u001b[0;34m(\u001b[0m\u001b[0mtorch\u001b[0m\u001b[0;34m.\u001b[0m\u001b[0mfrom_numpy\u001b[0m\u001b[0;34m(\u001b[0m\u001b[0msg\u001b[0m\u001b[0;34m.\u001b[0m\u001b[0mX\u001b[0m\u001b[0;34m)\u001b[0m\u001b[0;34m)\u001b[0m\u001b[0;34m)\u001b[0m\u001b[0;34m\u001b[0m\u001b[0m\n\u001b[0m",
      "\u001b[0;31mRuntimeError\u001b[0m: Expected object of type Variable[torch.sparse.FloatTensor] but found type Variable[torch.FloatTensor] for argument #1 'mat2'"
     ]
    }
   ],
   "source": [
    "torch.mm(Variable(Ri_sparse.t()), Variable(torch.from_numpy(sg.X)))"
   ]
  },
  {
   "cell_type": "markdown",
   "metadata": {},
   "source": [
    "## Simpler test"
   ]
  },
  {
   "cell_type": "code",
   "execution_count": 125,
   "metadata": {},
   "outputs": [],
   "source": [
    "V = torch.autograd.Variable"
   ]
  },
  {
   "cell_type": "code",
   "execution_count": 123,
   "metadata": {},
   "outputs": [],
   "source": [
    "i = torch.LongTensor([[0, 1, 1],\n",
    "                      [2, 0, 2]])\n",
    "v = torch.FloatTensor([3, 4, 5])\n",
    "x1 = torch.sparse.FloatTensor(i, v, torch.Size([2,3]))"
   ]
  },
  {
   "cell_type": "code",
   "execution_count": 127,
   "metadata": {},
   "outputs": [],
   "source": [
    "x2 = torch.randn(3, 2)"
   ]
  },
  {
   "cell_type": "code",
   "execution_count": 128,
   "metadata": {},
   "outputs": [
    {
     "data": {
      "text/plain": [
       "\n",
       "-0.4517  5.4612\n",
       "-9.3581  4.9100\n",
       "[torch.FloatTensor of size 2x2]"
      ]
     },
     "execution_count": 128,
     "metadata": {},
     "output_type": "execute_result"
    }
   ],
   "source": [
    "torch.mm(x1, x2)"
   ]
  },
  {
   "cell_type": "code",
   "execution_count": 129,
   "metadata": {},
   "outputs": [
    {
     "ename": "RuntimeError",
     "evalue": "Expected object of type Variable[torch.sparse.FloatTensor] but found type Variable[torch.FloatTensor] for argument #1 'mat2'",
     "output_type": "error",
     "traceback": [
      "\u001b[0;31m\u001b[0m",
      "\u001b[0;31mRuntimeError\u001b[0mTraceback (most recent call last)",
      "\u001b[0;32m<ipython-input-129-effce889e49a>\u001b[0m in \u001b[0;36m<module>\u001b[0;34m()\u001b[0m\n\u001b[0;32m----> 1\u001b[0;31m \u001b[0mtorch\u001b[0m\u001b[0;34m.\u001b[0m\u001b[0mmm\u001b[0m\u001b[0;34m(\u001b[0m\u001b[0mV\u001b[0m\u001b[0;34m(\u001b[0m\u001b[0mx1\u001b[0m\u001b[0;34m)\u001b[0m\u001b[0;34m,\u001b[0m \u001b[0mV\u001b[0m\u001b[0;34m(\u001b[0m\u001b[0mx2\u001b[0m\u001b[0;34m)\u001b[0m\u001b[0;34m)\u001b[0m\u001b[0;34m\u001b[0m\u001b[0m\n\u001b[0m",
      "\u001b[0;31mRuntimeError\u001b[0m: Expected object of type Variable[torch.sparse.FloatTensor] but found type Variable[torch.FloatTensor] for argument #1 'mat2'"
     ]
    }
   ],
   "source": [
    "torch.mm(V(x1), V(x2))"
   ]
  },
  {
   "cell_type": "markdown",
   "metadata": {},
   "source": [
    "## Discussion\n",
    "\n",
    "Transpose is broken on sparse Variables. I saw a pull request to fix it in pytorch but not yet sure if it's in a release. A bigger issue perhaps is that I can't do sparse-dense multiplication with Variables.\n",
    "\n",
    "It seems this isn't yet supported..?\n",
    "https://github.com/pytorch/pytorch/issues/2389"
   ]
  }
 ],
 "metadata": {
  "kernelspec": {
   "display_name": "Python 2 pytorch",
   "language": "python",
   "name": "pytorch"
  },
  "language_info": {
   "codemirror_mode": {
    "name": "ipython",
    "version": 2
   },
   "file_extension": ".py",
   "mimetype": "text/x-python",
   "name": "python",
   "nbconvert_exporter": "python",
   "pygments_lexer": "ipython2",
   "version": "2.7.13"
  }
 },
 "nbformat": 4,
 "nbformat_minor": 2
}
